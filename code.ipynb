{
  "cells": [
    {
      "cell_type": "markdown",
      "source": [
        "# Import Dependencies"
      ],
      "metadata": {
        "id": "WTt8vNqDSgmb",
        "cell_id": "00001-fb46e4e9-2e83-4a20-b228-f8f4951d927e",
        "deepnote_cell_type": "markdown",
        "deepnote_cell_height": 82
      }
    },
    {
      "cell_type": "code",
      "metadata": {
        "id": "hBIKyJLKRkPD",
        "cell_id": "00002-ab5d2929-b7df-4896-b4de-3122bd9ad9d6",
        "deepnote_to_be_reexecuted": false,
        "source_hash": "f9633b4b",
        "execution_start": 1656166062236,
        "execution_millis": 2088,
        "deepnote_cell_type": "code",
        "deepnote_cell_height": 405
      },
      "source": [
        "import os\n",
        "import numpy as np\n",
        "import pandas as pd\n",
        "import matplotlib as mpl\n",
        "import matplotlib.pyplot as plt\n",
        "from matplotlib.pyplot import figure\n",
        "from matplotlib import pyplot\n",
        "import numpy as np\n",
        "from sklearn.cluster import KMeans\n",
        "from sklearn.preprocessing import MinMaxScaler\n",
        "from sklearn.cluster import KMeans\n",
        "from sklearn.model_selection import train_test_split\n",
        "from sklearn.model_selection import GridSearchCV\n",
        "from sklearn.neighbors import KNeighborsClassifier\n",
        "from sklearn.naive_bayes import GaussianNB\n",
        "import matplotlib.patches as mpatches\n",
        "import seaborn as sns\n",
        "from sklearn.metrics import accuracy_score, confusion_matrix, roc_auc_score, ConfusionMatrixDisplay, precision_score, recall_score, f1_score, classification_report, roc_curve, plot_roc_curve, auc, precision_recall_curve, plot_precision_recall_curve, average_precision_score\n"
      ],
      "execution_count": null,
      "outputs": []
    },
    {
      "cell_type": "markdown",
      "source": [
        "# Get Dataset"
      ],
      "metadata": {
        "id": "4b7Y6I8FSjrj",
        "cell_id": "00003-0f530eb7-f7b1-404b-97a4-bd04a39c3d0d",
        "deepnote_cell_type": "markdown",
        "deepnote_cell_height": 82
      }
    },
    {
      "cell_type": "markdown",
      "source": [
        "Data acquired from https://www.kaggle.com/datasets/aprabowo/indonesia-tourism-destination?resource=download"
      ],
      "metadata": {
        "id": "XXjF6eJDWSeE",
        "cell_id": "00004-8f148010-c0f2-4e5b-9857-fc4bb8ed5a47",
        "deepnote_cell_type": "markdown",
        "deepnote_cell_height": 74.78125
      }
    },
    {
      "cell_type": "code",
      "metadata": {
        "colab": {
          "base_uri": "https://localhost:8080/"
        },
        "id": "50Vng9TWL0tR",
        "outputId": "81ec89da-9ffe-4c14-8d47-730867dab58a",
        "cell_id": "00005-299da514-caaf-45e9-a5f6-67d502138544",
        "deepnote_to_be_reexecuted": false,
        "source_hash": "a4721514",
        "execution_start": 1656166064324,
        "execution_millis": 644,
        "deepnote_cell_type": "code",
        "deepnote_cell_height": 130.1875
      },
      "source": [
        "# Clone Github\n",
        "!git clone https://github.com/dunasi4139/dataset.git"
      ],
      "execution_count": null,
      "outputs": [
        {
          "name": "stdout",
          "text": "fatal: destination path 'dataset' already exists and is not an empty directory.\n",
          "output_type": "stream"
        }
      ]
    },
    {
      "cell_type": "code",
      "metadata": {
        "cell_id": "b348dd7a783142f8a46e63dd13e0b4cd",
        "tags": [],
        "deepnote_to_be_reexecuted": false,
        "source_hash": "ad8f3ca4",
        "execution_start": 1656166064973,
        "execution_millis": 650,
        "deepnote_cell_type": "code",
        "deepnote_cell_height": 192.9375,
        "id": "aew1AW472m6O",
        "outputId": "2793121f-0968-41aa-d501-0902c6aa9d7b"
      },
      "source": [
        "!ls"
      ],
      "execution_count": null,
      "outputs": [
        {
          "name": "stdout",
          "text": "dataset\ndeepnote_exports\nindonesia-tourism-destination.xlsx\ninit.ipynb\nProject_Akhir_Visualisasi_Data_Kelompok_8.ipynb\n",
          "output_type": "stream"
        }
      ]
    },
    {
      "cell_type": "code",
      "metadata": {
        "id": "Xoz-HqGEWrDS",
        "cell_id": "00006-d258d67a-d2b7-47f1-8ce6-11aa825f8f99",
        "deepnote_to_be_reexecuted": false,
        "source_hash": "e74cf884",
        "execution_start": 1656166065624,
        "execution_millis": 15,
        "deepnote_cell_type": "code",
        "deepnote_cell_height": 81
      },
      "source": [
        "df = pd.read_csv(\"dataset/tourism_with_id.csv\")"
      ],
      "execution_count": null,
      "outputs": []
    },
    {
      "cell_type": "code",
      "metadata": {
        "id": "oNCm1fOQXuBL",
        "outputId": "37b17468-4d2f-4f58-c1b7-48d9e4853a92",
        "colab": {
          "base_uri": "https://localhost:8080/",
          "height": 1000
        },
        "cell_id": "00007-416d13f1-fa43-40ca-bcb7-83cf1510d354",
        "deepnote_to_be_reexecuted": false,
        "source_hash": "245876d0",
        "execution_start": 1656166065653,
        "execution_millis": 57,
        "deepnote_table_state": {
          "pageSize": 10,
          "pageIndex": 2,
          "filters": [],
          "sortBy": []
        },
        "deepnote_table_loading": false,
        "deepnote_cell_type": "code",
        "deepnote_cell_height": 412
      },
      "source": [
        "df.head(5)"
      ],
      "execution_count": null,
      "outputs": [
        {
          "output_type": "execute_result",
          "execution_count": 5,
          "data": {
            "application/vnd.deepnote.dataframe.v3+json": {
              "column_count": 13,
              "row_count": 5,
              "columns": [
                {
                  "name": "Place_Id",
                  "dtype": "int64",
                  "stats": {
                    "unique_count": 5,
                    "nan_count": 0,
                    "min": "1",
                    "max": "5",
                    "histogram": [
                      {
                        "bin_start": 1,
                        "bin_end": 1.4,
                        "count": 1
                      },
                      {
                        "bin_start": 1.4,
                        "bin_end": 1.8,
                        "count": 0
                      },
                      {
                        "bin_start": 1.8,
                        "bin_end": 2.2,
                        "count": 1
                      },
                      {
                        "bin_start": 2.2,
                        "bin_end": 2.6,
                        "count": 0
                      },
                      {
                        "bin_start": 2.6,
                        "bin_end": 3,
                        "count": 0
                      },
                      {
                        "bin_start": 3,
                        "bin_end": 3.4000000000000004,
                        "count": 1
                      },
                      {
                        "bin_start": 3.4000000000000004,
                        "bin_end": 3.8000000000000003,
                        "count": 0
                      },
                      {
                        "bin_start": 3.8000000000000003,
                        "bin_end": 4.2,
                        "count": 1
                      },
                      {
                        "bin_start": 4.2,
                        "bin_end": 4.6,
                        "count": 0
                      },
                      {
                        "bin_start": 4.6,
                        "bin_end": 5,
                        "count": 1
                      }
                    ]
                  }
                },
                {
                  "name": "Place_Name",
                  "dtype": "object",
                  "stats": {
                    "unique_count": 5,
                    "nan_count": 0,
                    "categories": [
                      {
                        "name": "Monumen Nasional",
                        "count": 1
                      },
                      {
                        "name": "Kota Tua",
                        "count": 1
                      },
                      {
                        "name": "3 others",
                        "count": 3
                      }
                    ]
                  }
                },
                {
                  "name": "Description",
                  "dtype": "object",
                  "stats": {
                    "unique_count": 5,
                    "nan_count": 0,
                    "categories": [
                      {
                        "name": "Monumen Nasional atau yang populer disingkat dengan Monas atau Tugu Monas adalah monumen peringatan setinggi 132 meter (433 kaki) yang didirikan untuk mengenang perlawanan dan perjuangan rakyat Indonesia untuk merebut kemerdekaan dari pemerintahan kolonial Hindia Belanda. Pembangunan monumen ini dimulai pada tanggal 17 Agustus 1961 di bawah perintah presiden Soekarno dan dibuka untuk umum pada tanggal 12 Juli 1975. Tugu ini dimahkotai lidah api yang dilapisi lembaran emas yang melambangkan semangat perjuangan yang menyala-nyala. Monumen Nasional terletak tepat di tengah Lapangan Medan Merdeka, Jakarta Pusat.",
                        "count": 1
                      },
                      {
                        "name": "Kota tua di Jakarta, yang juga bernama Kota Tua, berpusat di Alun-Alun Fatahillah, yaitu alun-alun yang ramai dengan pertunjukan rutin tarian tradisional. Museum Sejarah Jakarta adalah bangunan era Belanda dengan lukisan dan barang antik, sedangkan Museum Wayang memamerkan boneka kayu khas Jawa. Desa Glodok, atau Chinatown, terkenal dengan makanan kaki lima, seperti pangsit dan mi goreng. Di dekatnya, terdapat sekunar dan kapal penangkap ikan di pelabuhan Sunda Kelapa yang kuno",
                        "count": 1
                      },
                      {
                        "name": "3 others",
                        "count": 3
                      }
                    ]
                  }
                },
                {
                  "name": "Category",
                  "dtype": "object",
                  "stats": {
                    "unique_count": 2,
                    "nan_count": 0,
                    "categories": [
                      {
                        "name": "Taman Hiburan",
                        "count": 3
                      },
                      {
                        "name": "Budaya",
                        "count": 2
                      }
                    ]
                  }
                },
                {
                  "name": "City",
                  "dtype": "object",
                  "stats": {
                    "unique_count": 1,
                    "nan_count": 0,
                    "categories": [
                      {
                        "name": "Jakarta",
                        "count": 5
                      }
                    ]
                  }
                },
                {
                  "name": "Price",
                  "dtype": "int64",
                  "stats": {
                    "unique_count": 5,
                    "nan_count": 0,
                    "min": "0",
                    "max": "270000",
                    "histogram": [
                      {
                        "bin_start": 0,
                        "bin_end": 27000,
                        "count": 3
                      },
                      {
                        "bin_start": 27000,
                        "bin_end": 54000,
                        "count": 0
                      },
                      {
                        "bin_start": 54000,
                        "bin_end": 81000,
                        "count": 0
                      },
                      {
                        "bin_start": 81000,
                        "bin_end": 108000,
                        "count": 1
                      },
                      {
                        "bin_start": 108000,
                        "bin_end": 135000,
                        "count": 0
                      },
                      {
                        "bin_start": 135000,
                        "bin_end": 162000,
                        "count": 0
                      },
                      {
                        "bin_start": 162000,
                        "bin_end": 189000,
                        "count": 0
                      },
                      {
                        "bin_start": 189000,
                        "bin_end": 216000,
                        "count": 0
                      },
                      {
                        "bin_start": 216000,
                        "bin_end": 243000,
                        "count": 0
                      },
                      {
                        "bin_start": 243000,
                        "bin_end": 270000,
                        "count": 1
                      }
                    ]
                  }
                },
                {
                  "name": "Rating",
                  "dtype": "float64",
                  "stats": {
                    "unique_count": 2,
                    "nan_count": 0,
                    "min": "4.5",
                    "max": "4.6",
                    "histogram": [
                      {
                        "bin_start": 4.5,
                        "bin_end": 4.51,
                        "count": 2
                      },
                      {
                        "bin_start": 4.51,
                        "bin_end": 4.52,
                        "count": 0
                      },
                      {
                        "bin_start": 4.52,
                        "bin_end": 4.53,
                        "count": 0
                      },
                      {
                        "bin_start": 4.53,
                        "bin_end": 4.54,
                        "count": 0
                      },
                      {
                        "bin_start": 4.54,
                        "bin_end": 4.55,
                        "count": 0
                      },
                      {
                        "bin_start": 4.55,
                        "bin_end": 4.56,
                        "count": 0
                      },
                      {
                        "bin_start": 4.56,
                        "bin_end": 4.569999999999999,
                        "count": 0
                      },
                      {
                        "bin_start": 4.569999999999999,
                        "bin_end": 4.58,
                        "count": 0
                      },
                      {
                        "bin_start": 4.58,
                        "bin_end": 4.59,
                        "count": 0
                      },
                      {
                        "bin_start": 4.59,
                        "bin_end": 4.6,
                        "count": 3
                      }
                    ]
                  }
                },
                {
                  "name": "Time_Minutes",
                  "dtype": "float64",
                  "stats": {
                    "unique_count": 4,
                    "nan_count": 1,
                    "min": "15.0",
                    "max": "360.0",
                    "histogram": [
                      {
                        "bin_start": 15,
                        "bin_end": 49.5,
                        "count": 1
                      },
                      {
                        "bin_start": 49.5,
                        "bin_end": 84,
                        "count": 1
                      },
                      {
                        "bin_start": 84,
                        "bin_end": 118.5,
                        "count": 1
                      },
                      {
                        "bin_start": 118.5,
                        "bin_end": 153,
                        "count": 0
                      },
                      {
                        "bin_start": 153,
                        "bin_end": 187.5,
                        "count": 0
                      },
                      {
                        "bin_start": 187.5,
                        "bin_end": 222,
                        "count": 0
                      },
                      {
                        "bin_start": 222,
                        "bin_end": 256.5,
                        "count": 0
                      },
                      {
                        "bin_start": 256.5,
                        "bin_end": 291,
                        "count": 0
                      },
                      {
                        "bin_start": 291,
                        "bin_end": 325.5,
                        "count": 0
                      },
                      {
                        "bin_start": 325.5,
                        "bin_end": 360,
                        "count": 1
                      }
                    ]
                  }
                },
                {
                  "name": "Coordinate",
                  "dtype": "object",
                  "stats": {
                    "unique_count": 5,
                    "nan_count": 0,
                    "categories": [
                      {
                        "name": "{'lat': -6.1753924, 'lng': 106.8271528}",
                        "count": 1
                      },
                      {
                        "name": "{'lat': -6.137644799999999, 'lng': 106.8171245}",
                        "count": 1
                      },
                      {
                        "name": "3 others",
                        "count": 3
                      }
                    ]
                  }
                },
                {
                  "name": "Lat",
                  "dtype": "float64",
                  "stats": {
                    "unique_count": 5,
                    "nan_count": 0,
                    "min": "-6.3024459",
                    "max": "-6.12419",
                    "histogram": [
                      {
                        "bin_start": -6.3024459,
                        "bin_end": -6.28462031,
                        "count": 1
                      },
                      {
                        "bin_start": -6.28462031,
                        "bin_end": -6.26679472,
                        "count": 0
                      },
                      {
                        "bin_start": -6.26679472,
                        "bin_end": -6.24896913,
                        "count": 0
                      },
                      {
                        "bin_start": -6.24896913,
                        "bin_end": -6.23114354,
                        "count": 0
                      },
                      {
                        "bin_start": -6.23114354,
                        "bin_end": -6.21331795,
                        "count": 0
                      },
                      {
                        "bin_start": -6.21331795,
                        "bin_end": -6.19549236,
                        "count": 0
                      },
                      {
                        "bin_start": -6.19549236,
                        "bin_end": -6.17766677,
                        "count": 0
                      },
                      {
                        "bin_start": -6.17766677,
                        "bin_end": -6.15984118,
                        "count": 1
                      },
                      {
                        "bin_start": -6.15984118,
                        "bin_end": -6.14201559,
                        "count": 0
                      },
                      {
                        "bin_start": -6.14201559,
                        "bin_end": -6.12419,
                        "count": 3
                      }
                    ]
                  }
                },
                {
                  "name": "Long",
                  "dtype": "float64",
                  "stats": {
                    "unique_count": 5,
                    "nan_count": 0,
                    "min": "106.8171245",
                    "max": "106.8951559",
                    "histogram": [
                      {
                        "bin_start": 106.8171245,
                        "bin_end": 106.82492764,
                        "count": 1
                      },
                      {
                        "bin_start": 106.82492764,
                        "bin_end": 106.83273078,
                        "count": 1
                      },
                      {
                        "bin_start": 106.83273078,
                        "bin_end": 106.84053392000001,
                        "count": 2
                      },
                      {
                        "bin_start": 106.84053392000001,
                        "bin_end": 106.84833706,
                        "count": 0
                      },
                      {
                        "bin_start": 106.84833706,
                        "bin_end": 106.8561402,
                        "count": 0
                      },
                      {
                        "bin_start": 106.8561402,
                        "bin_end": 106.86394334,
                        "count": 0
                      },
                      {
                        "bin_start": 106.86394334,
                        "bin_end": 106.87174648000001,
                        "count": 0
                      },
                      {
                        "bin_start": 106.87174648000001,
                        "bin_end": 106.87954962,
                        "count": 0
                      },
                      {
                        "bin_start": 106.87954962,
                        "bin_end": 106.88735276,
                        "count": 0
                      },
                      {
                        "bin_start": 106.88735276,
                        "bin_end": 106.8951559,
                        "count": 1
                      }
                    ]
                  }
                },
                {
                  "name": "Unnamed: 11",
                  "dtype": "float64",
                  "stats": {
                    "unique_count": 0,
                    "nan_count": 5,
                    "min": null,
                    "max": null,
                    "histogram": [
                      {
                        "bin_start": 0,
                        "bin_end": 0.1,
                        "count": 0
                      },
                      {
                        "bin_start": 0.1,
                        "bin_end": 0.2,
                        "count": 0
                      },
                      {
                        "bin_start": 0.2,
                        "bin_end": 0.30000000000000004,
                        "count": 0
                      },
                      {
                        "bin_start": 0.30000000000000004,
                        "bin_end": 0.4,
                        "count": 0
                      },
                      {
                        "bin_start": 0.4,
                        "bin_end": 0.5,
                        "count": 0
                      },
                      {
                        "bin_start": 0.5,
                        "bin_end": 0.6000000000000001,
                        "count": 0
                      },
                      {
                        "bin_start": 0.6000000000000001,
                        "bin_end": 0.7000000000000001,
                        "count": 0
                      },
                      {
                        "bin_start": 0.7000000000000001,
                        "bin_end": 0.8,
                        "count": 0
                      },
                      {
                        "bin_start": 0.8,
                        "bin_end": 0.9,
                        "count": 0
                      },
                      {
                        "bin_start": 0.9,
                        "bin_end": 1,
                        "count": 0
                      }
                    ]
                  }
                },
                {
                  "name": "Unnamed: 12",
                  "dtype": "int64",
                  "stats": {
                    "unique_count": 5,
                    "nan_count": 0,
                    "min": "1",
                    "max": "5",
                    "histogram": [
                      {
                        "bin_start": 1,
                        "bin_end": 1.4,
                        "count": 1
                      },
                      {
                        "bin_start": 1.4,
                        "bin_end": 1.8,
                        "count": 0
                      },
                      {
                        "bin_start": 1.8,
                        "bin_end": 2.2,
                        "count": 1
                      },
                      {
                        "bin_start": 2.2,
                        "bin_end": 2.6,
                        "count": 0
                      },
                      {
                        "bin_start": 2.6,
                        "bin_end": 3,
                        "count": 0
                      },
                      {
                        "bin_start": 3,
                        "bin_end": 3.4000000000000004,
                        "count": 1
                      },
                      {
                        "bin_start": 3.4000000000000004,
                        "bin_end": 3.8000000000000003,
                        "count": 0
                      },
                      {
                        "bin_start": 3.8000000000000003,
                        "bin_end": 4.2,
                        "count": 1
                      },
                      {
                        "bin_start": 4.2,
                        "bin_end": 4.6,
                        "count": 0
                      },
                      {
                        "bin_start": 4.6,
                        "bin_end": 5,
                        "count": 1
                      }
                    ]
                  }
                },
                {
                  "name": "_deepnote_index_column",
                  "dtype": "int64"
                }
              ],
              "rows": [
                {
                  "Place_Id": 1,
                  "Place_Name": "Monumen Nasional",
                  "Description": "Monumen Nasional atau yang populer disingkat dengan Monas atau Tugu Monas adalah monumen peringatan setinggi 132 meter (433 kaki) yang didirikan untuk mengenang perlawanan dan perjuangan rakyat Indonesia untuk merebut kemerdekaan dari pemerintahan kolonial Hindia Belanda. Pembangunan monumen ini dimulai pada tanggal 17 Agustus 1961 di bawah perintah presiden Soekarno dan dibuka untuk umum pada tanggal 12 Juli 1975. Tugu ini dimahkotai lidah api yang dilapisi lembaran emas yang melambangkan semangat perjuangan yang menyala-nyala. Monumen Nasional terletak tepat di tengah Lapangan Medan Merdeka, Jakarta Pusat.",
                  "Category": "Budaya",
                  "City": "Jakarta",
                  "Price": 20000,
                  "Rating": 4.6,
                  "Time_Minutes": 15,
                  "Coordinate": "{'lat': -6.1753924, 'lng': 106.8271528}",
                  "Lat": -6.1753924,
                  "Long": 106.8271528,
                  "Unnamed: 11": "nan",
                  "Unnamed: 12": 1,
                  "_deepnote_index_column": 0
                },
                {
                  "Place_Id": 2,
                  "Place_Name": "Kota Tua",
                  "Description": "Kota tua di Jakarta, yang juga bernama Kota Tua, berpusat di Alun-Alun Fatahillah, yaitu alun-alun yang ramai dengan pertunjukan rutin tarian tradisional. Museum Sejarah Jakarta adalah bangunan era Belanda dengan lukisan dan barang antik, sedangkan Museum Wayang memamerkan boneka kayu khas Jawa. Desa Glodok, atau Chinatown, terkenal dengan makanan kaki lima, seperti pangsit dan mi goreng. Di dekatnya, terdapat sekunar dan kapal penangkap ikan di pelabuhan Sunda Kelapa yang kuno",
                  "Category": "Budaya",
                  "City": "Jakarta",
                  "Price": 0,
                  "Rating": 4.6,
                  "Time_Minutes": 90,
                  "Coordinate": "{'lat': -6.137644799999999, 'lng': 106.8171245}",
                  "Lat": -6.1376448,
                  "Long": 106.8171245,
                  "Unnamed: 11": "nan",
                  "Unnamed: 12": 2,
                  "_deepnote_index_column": 1
                },
                {
                  "Place_Id": 3,
                  "Place_Name": "Dunia Fantasi",
                  "Description": "Dunia Fantasi atau disebut juga Dufan adalah tempat hiburan yang terletak di kawasan Taman Impian Jaya Ancol, Jakarta Utara, Indonesia. Dufan diresmikan dan dibuka pada tanggal 29 Agustus 1985.",
                  "Category": "Taman Hiburan",
                  "City": "Jakarta",
                  "Price": 270000,
                  "Rating": 4.6,
                  "Time_Minutes": 360,
                  "Coordinate": "{'lat': -6.125312399999999, 'lng': 106.8335377}",
                  "Lat": -6.1253124,
                  "Long": 106.8335377,
                  "Unnamed: 11": "nan",
                  "Unnamed: 12": 3,
                  "_deepnote_index_column": 2
                },
                {
                  "Place_Id": 4,
                  "Place_Name": "Taman Mini Indonesia Indah (TMII)",
                  "Description": "Taman Mini Indonesia Indah merupakan suatu kawasan taman wisata bertema budaya Indonesia di Jakarta Timur. Area seluas kurang lebih 150 hektare atau 1,5 kilometer persegi ini terletak pada koordinat 6°18′6.8″LS,106°53′47.2″BT",
                  "Category": "Taman Hiburan",
                  "City": "Jakarta",
                  "Price": 10000,
                  "Rating": 4.5,
                  "Time_Minutes": "nan",
                  "Coordinate": "{'lat': -6.302445899999999, 'lng': 106.8951559}",
                  "Lat": -6.3024459,
                  "Long": 106.8951559,
                  "Unnamed: 11": "nan",
                  "Unnamed: 12": 4,
                  "_deepnote_index_column": 3
                },
                {
                  "Place_Id": 5,
                  "Place_Name": "Atlantis Water Adventure",
                  "Description": "Atlantis Water Adventure atau dikenal dengan Atlantis Ancol akan menyuguhkan petualangan wisata air tak terlupakan. Tempat Wisata bertemakan permainan air dengan luas 5 hektar ini memberi sensasi petualangan di 8 kolam utama. Yaitu kolam Antila, Plaza Atlas, Poseidon, Aquarius, Octopus, Kiddy Pool, dan Atlantean. Berlokasi di kawasan Ancol Jakarta Baycity, Atlantis bisa menjadi pilihan destinasi yang pas untuk wisata berenang.",
                  "Category": "Taman Hiburan",
                  "City": "Jakarta",
                  "Price": 94000,
                  "Rating": 4.5,
                  "Time_Minutes": 60,
                  "Coordinate": "{'lat': -6.12419, 'lng': 106.839134}",
                  "Lat": -6.12419,
                  "Long": 106.839134,
                  "Unnamed: 11": "nan",
                  "Unnamed: 12": 5,
                  "_deepnote_index_column": 4
                }
              ]
            },
            "text/plain": "   Place_Id                         Place_Name  \\\n0         1                   Monumen Nasional   \n1         2                           Kota Tua   \n2         3                      Dunia Fantasi   \n3         4  Taman Mini Indonesia Indah (TMII)   \n4         5           Atlantis Water Adventure   \n\n                                         Description       Category     City  \\\n0  Monumen Nasional atau yang populer disingkat d...         Budaya  Jakarta   \n1  Kota tua di Jakarta, yang juga bernama Kota Tu...         Budaya  Jakarta   \n2  Dunia Fantasi atau disebut juga Dufan adalah t...  Taman Hiburan  Jakarta   \n3  Taman Mini Indonesia Indah merupakan suatu kaw...  Taman Hiburan  Jakarta   \n4  Atlantis Water Adventure atau dikenal dengan A...  Taman Hiburan  Jakarta   \n\n    Price  Rating  Time_Minutes  \\\n0   20000     4.6          15.0   \n1       0     4.6          90.0   \n2  270000     4.6         360.0   \n3   10000     4.5           NaN   \n4   94000     4.5          60.0   \n\n                                        Coordinate       Lat        Long  \\\n0          {'lat': -6.1753924, 'lng': 106.8271528} -6.175392  106.827153   \n1  {'lat': -6.137644799999999, 'lng': 106.8171245} -6.137645  106.817125   \n2  {'lat': -6.125312399999999, 'lng': 106.8335377} -6.125312  106.833538   \n3  {'lat': -6.302445899999999, 'lng': 106.8951559} -6.302446  106.895156   \n4             {'lat': -6.12419, 'lng': 106.839134} -6.124190  106.839134   \n\n   Unnamed: 11  Unnamed: 12  \n0          NaN            1  \n1          NaN            2  \n2          NaN            3  \n3          NaN            4  \n4          NaN            5  ",
            "text/html": "<div>\n<style scoped>\n    .dataframe tbody tr th:only-of-type {\n        vertical-align: middle;\n    }\n\n    .dataframe tbody tr th {\n        vertical-align: top;\n    }\n\n    .dataframe thead th {\n        text-align: right;\n    }\n</style>\n<table border=\"1\" class=\"dataframe\">\n  <thead>\n    <tr style=\"text-align: right;\">\n      <th></th>\n      <th>Place_Id</th>\n      <th>Place_Name</th>\n      <th>Description</th>\n      <th>Category</th>\n      <th>City</th>\n      <th>Price</th>\n      <th>Rating</th>\n      <th>Time_Minutes</th>\n      <th>Coordinate</th>\n      <th>Lat</th>\n      <th>Long</th>\n      <th>Unnamed: 11</th>\n      <th>Unnamed: 12</th>\n    </tr>\n  </thead>\n  <tbody>\n    <tr>\n      <th>0</th>\n      <td>1</td>\n      <td>Monumen Nasional</td>\n      <td>Monumen Nasional atau yang populer disingkat d...</td>\n      <td>Budaya</td>\n      <td>Jakarta</td>\n      <td>20000</td>\n      <td>4.6</td>\n      <td>15.0</td>\n      <td>{'lat': -6.1753924, 'lng': 106.8271528}</td>\n      <td>-6.175392</td>\n      <td>106.827153</td>\n      <td>NaN</td>\n      <td>1</td>\n    </tr>\n    <tr>\n      <th>1</th>\n      <td>2</td>\n      <td>Kota Tua</td>\n      <td>Kota tua di Jakarta, yang juga bernama Kota Tu...</td>\n      <td>Budaya</td>\n      <td>Jakarta</td>\n      <td>0</td>\n      <td>4.6</td>\n      <td>90.0</td>\n      <td>{'lat': -6.137644799999999, 'lng': 106.8171245}</td>\n      <td>-6.137645</td>\n      <td>106.817125</td>\n      <td>NaN</td>\n      <td>2</td>\n    </tr>\n    <tr>\n      <th>2</th>\n      <td>3</td>\n      <td>Dunia Fantasi</td>\n      <td>Dunia Fantasi atau disebut juga Dufan adalah t...</td>\n      <td>Taman Hiburan</td>\n      <td>Jakarta</td>\n      <td>270000</td>\n      <td>4.6</td>\n      <td>360.0</td>\n      <td>{'lat': -6.125312399999999, 'lng': 106.8335377}</td>\n      <td>-6.125312</td>\n      <td>106.833538</td>\n      <td>NaN</td>\n      <td>3</td>\n    </tr>\n    <tr>\n      <th>3</th>\n      <td>4</td>\n      <td>Taman Mini Indonesia Indah (TMII)</td>\n      <td>Taman Mini Indonesia Indah merupakan suatu kaw...</td>\n      <td>Taman Hiburan</td>\n      <td>Jakarta</td>\n      <td>10000</td>\n      <td>4.5</td>\n      <td>NaN</td>\n      <td>{'lat': -6.302445899999999, 'lng': 106.8951559}</td>\n      <td>-6.302446</td>\n      <td>106.895156</td>\n      <td>NaN</td>\n      <td>4</td>\n    </tr>\n    <tr>\n      <th>4</th>\n      <td>5</td>\n      <td>Atlantis Water Adventure</td>\n      <td>Atlantis Water Adventure atau dikenal dengan A...</td>\n      <td>Taman Hiburan</td>\n      <td>Jakarta</td>\n      <td>94000</td>\n      <td>4.5</td>\n      <td>60.0</td>\n      <td>{'lat': -6.12419, 'lng': 106.839134}</td>\n      <td>-6.124190</td>\n      <td>106.839134</td>\n      <td>NaN</td>\n      <td>5</td>\n    </tr>\n  </tbody>\n</table>\n</div>"
          },
          "metadata": {}
        }
      ]
    },
    {
      "cell_type": "code",
      "metadata": {
        "colab": {
          "base_uri": "https://localhost:8080/"
        },
        "id": "ILyWrvRqYhXb",
        "outputId": "db1fa05f-6cbe-4b4b-e228-f20277ebbde0",
        "cell_id": "00008-72734523-f4d6-438c-bdbd-ca502090dc5f",
        "deepnote_to_be_reexecuted": false,
        "source_hash": "de1e323c",
        "execution_start": 1656166065713,
        "execution_millis": 14,
        "deepnote_cell_type": "code",
        "deepnote_cell_height": 496
      },
      "source": [
        "df.info()"
      ],
      "execution_count": null,
      "outputs": [
        {
          "name": "stdout",
          "text": "<class 'pandas.core.frame.DataFrame'>\nRangeIndex: 437 entries, 0 to 436\nData columns (total 13 columns):\n #   Column        Non-Null Count  Dtype  \n---  ------        --------------  -----  \n 0   Place_Id      437 non-null    int64  \n 1   Place_Name    437 non-null    object \n 2   Description   437 non-null    object \n 3   Category      437 non-null    object \n 4   City          437 non-null    object \n 5   Price         437 non-null    int64  \n 6   Rating        437 non-null    float64\n 7   Time_Minutes  205 non-null    float64\n 8   Coordinate    437 non-null    object \n 9   Lat           437 non-null    float64\n 10  Long          437 non-null    float64\n 11  Unnamed: 11   0 non-null      float64\n 12  Unnamed: 12   437 non-null    int64  \ndtypes: float64(5), int64(3), object(5)\nmemory usage: 44.5+ KB\n",
          "output_type": "stream"
        }
      ]
    },
    {
      "cell_type": "markdown",
      "source": [
        "### Data Cleaning"
      ],
      "metadata": {
        "formattedRanges": [],
        "cell_id": "153ee6ba62a649e4893120c2d8e36b2c",
        "tags": [],
        "is_collapsed": false,
        "deepnote_cell_type": "text-cell-h3",
        "id": "aaq8611H2m6S"
      }
    },
    {
      "cell_type": "code",
      "metadata": {
        "id": "DuyEn-d1YlZU",
        "cell_id": "00009-fffd4241-4c24-4147-aeb6-e8f924336e1c",
        "deepnote_to_be_reexecuted": false,
        "source_hash": "940e4c71",
        "execution_start": 1656166065731,
        "execution_millis": 3,
        "deepnote_cell_type": "code",
        "deepnote_cell_height": 81
      },
      "source": [
        "df.drop(['Unnamed: 11', 'Unnamed: 12'], axis=1, inplace=True)"
      ],
      "execution_count": null,
      "outputs": []
    },
    {
      "cell_type": "markdown",
      "source": [
        "Melakukan transformasi data pada kolom Time_Minutes dengan menggunakan nilai rata-rata pada objek wisata per masing-masing kota"
      ],
      "metadata": {
        "formattedRanges": [],
        "cell_id": "f680b51f88b747f29f5e77597cd07998",
        "tags": [],
        "is_collapsed": false,
        "deepnote_cell_type": "text-cell-p",
        "id": "PQlkIwpy2m6V"
      }
    },
    {
      "cell_type": "code",
      "metadata": {
        "cell_id": "de0da0ed6ed34fcfbb235b5d3b9fcf30",
        "tags": [],
        "deepnote_to_be_reexecuted": false,
        "source_hash": "c732f9c0",
        "execution_start": 1656166065777,
        "execution_millis": 1,
        "deepnote_cell_type": "code",
        "deepnote_cell_height": 81,
        "id": "6Hm9PIOH2m6V"
      },
      "source": [
        "df['Time_Minutes'] = round(df['Time_Minutes'].fillna(df.groupby(df['City'])['Time_Minutes'].transform('mean')))"
      ],
      "execution_count": null,
      "outputs": []
    },
    {
      "cell_type": "markdown",
      "source": [
        "Merubah nilai 0 pada kolom price menjadi NaN untuk mempermudah proses transformasi"
      ],
      "metadata": {
        "formattedRanges": [],
        "cell_id": "85e8844c48df46fab4391a2d612dbda8",
        "tags": [],
        "is_collapsed": false,
        "deepnote_cell_type": "text-cell-p",
        "id": "2cdedtkr2m6X"
      }
    },
    {
      "cell_type": "code",
      "metadata": {
        "cell_id": "fb292d2ecba3418ea11a77ff33d75850",
        "tags": [],
        "deepnote_to_be_reexecuted": false,
        "source_hash": "85e6141e",
        "execution_start": 1656166065778,
        "execution_millis": 0,
        "deepnote_cell_type": "code",
        "deepnote_cell_height": 81,
        "id": "mwDCFf382m6Y"
      },
      "source": [
        "df['Price'] = df['Price'].replace(0, np.NaN)"
      ],
      "execution_count": null,
      "outputs": []
    },
    {
      "cell_type": "markdown",
      "source": [
        "Melakukan transformasi data pada kolom Price dengan menggunakan nilai rata-rata harga berdasarkan Kota"
      ],
      "metadata": {
        "formattedRanges": [],
        "cell_id": "13aa9e3735764b5b9e2a1f83063461fd",
        "tags": [],
        "is_collapsed": false,
        "deepnote_cell_type": "text-cell-p",
        "id": "3oMnZdFK2m6Z"
      }
    },
    {
      "cell_type": "code",
      "metadata": {
        "cell_id": "e55b366ea1cb4f7eabeaed00ab6b86e5",
        "tags": [],
        "deepnote_to_be_reexecuted": false,
        "source_hash": "b5c1b227",
        "execution_start": 1656166065779,
        "execution_millis": 0,
        "deepnote_cell_type": "code",
        "deepnote_cell_height": 81,
        "id": "hrZmzaKR2m6Z"
      },
      "source": [
        "df['Price'] = round(df['Price'].fillna(df.groupby([df['City']])['Price'].transform('mean')))"
      ],
      "execution_count": null,
      "outputs": []
    },
    {
      "cell_type": "code",
      "metadata": {
        "cell_id": "6a6a2807251c49fa9a59461f1664010f",
        "tags": [],
        "deepnote_to_be_reexecuted": false,
        "source_hash": "ddb29315",
        "execution_start": 1656166065779,
        "execution_millis": 5,
        "deepnote_cell_type": "code",
        "deepnote_cell_height": 118.1875,
        "deepnote_output_heights": [
          21.1875
        ],
        "id": "7oiHsfQU2m6a",
        "outputId": "06d4d749-94e0-4fdf-bf78-b5ff55312793"
      },
      "source": [
        "df['Price'].isna().sum()"
      ],
      "execution_count": null,
      "outputs": [
        {
          "output_type": "execute_result",
          "execution_count": 11,
          "data": {
            "text/plain": "0"
          },
          "metadata": {}
        }
      ]
    },
    {
      "cell_type": "markdown",
      "source": [
        "Berdasarkan info dibawah dapat kita simpulkan bahwa data telah bersih dan tidak ada nilai NaN atau Null"
      ],
      "metadata": {
        "formattedRanges": [],
        "cell_id": "f5d2d5e38691405ca528e478f12fd203",
        "tags": [],
        "is_collapsed": false,
        "deepnote_cell_type": "text-cell-p",
        "id": "lnNjw36U2m6b"
      }
    },
    {
      "cell_type": "code",
      "metadata": {
        "cell_id": "81a55cc7bc1440218570a1d96d83d408",
        "tags": [],
        "deepnote_to_be_reexecuted": false,
        "source_hash": "de1e323c",
        "execution_start": 1656166065784,
        "execution_millis": 34,
        "deepnote_cell_type": "code",
        "deepnote_cell_height": 455.375,
        "id": "n7SOEinP2m6c",
        "outputId": "77ca2992-3c80-465b-9b06-53f1a78e6e27"
      },
      "source": [
        "df.info()"
      ],
      "execution_count": null,
      "outputs": [
        {
          "name": "stdout",
          "text": "<class 'pandas.core.frame.DataFrame'>\nRangeIndex: 437 entries, 0 to 436\nData columns (total 11 columns):\n #   Column        Non-Null Count  Dtype  \n---  ------        --------------  -----  \n 0   Place_Id      437 non-null    int64  \n 1   Place_Name    437 non-null    object \n 2   Description   437 non-null    object \n 3   Category      437 non-null    object \n 4   City          437 non-null    object \n 5   Price         437 non-null    float64\n 6   Rating        437 non-null    float64\n 7   Time_Minutes  437 non-null    float64\n 8   Coordinate    437 non-null    object \n 9   Lat           437 non-null    float64\n 10  Long          437 non-null    float64\ndtypes: float64(5), int64(1), object(5)\nmemory usage: 37.7+ KB\n",
          "output_type": "stream"
        }
      ]
    },
    {
      "cell_type": "code",
      "metadata": {
        "cell_id": "875372fa44034e93b327ddbc008f46f6",
        "tags": [],
        "deepnote_to_be_reexecuted": false,
        "source_hash": "14f60b8f",
        "execution_start": 1656166065847,
        "execution_millis": 4,
        "deepnote_cell_type": "code",
        "deepnote_cell_height": 118.1875,
        "deepnote_output_heights": [
          21.1875
        ],
        "id": "RS38Ot-U2m6d",
        "outputId": "7786ab0f-8bba-4457-a210-dbb7c2861bbc"
      },
      "source": [
        "df.shape"
      ],
      "execution_count": null,
      "outputs": [
        {
          "output_type": "execute_result",
          "execution_count": 13,
          "data": {
            "text/plain": "(437, 11)"
          },
          "metadata": {}
        }
      ]
    },
    {
      "cell_type": "markdown",
      "source": [
        "Memeriksa duplikat data"
      ],
      "metadata": {
        "formattedRanges": [],
        "cell_id": "3ee1eca8c90149abb9ae5f763b861faa",
        "tags": [],
        "is_collapsed": false,
        "deepnote_cell_type": "text-cell-p",
        "id": "D59dPPg22m6e"
      }
    },
    {
      "cell_type": "code",
      "metadata": {
        "cell_id": "a50d4d948b024ab586dfd00e84002ac6",
        "tags": [],
        "deepnote_to_be_reexecuted": false,
        "source_hash": "5ce2c336",
        "execution_start": 1656166065848,
        "execution_millis": 3,
        "deepnote_cell_type": "code",
        "deepnote_cell_height": 118.1875,
        "deepnote_output_heights": [
          21.1875
        ],
        "id": "IeWVZUqk2m6e",
        "outputId": "e49d320e-8025-4f4e-9bd7-0b76e614b118"
      },
      "source": [
        "df.duplicated().sum()"
      ],
      "execution_count": null,
      "outputs": [
        {
          "output_type": "execute_result",
          "execution_count": 14,
          "data": {
            "text/plain": "0"
          },
          "metadata": {}
        }
      ]
    },
    {
      "cell_type": "markdown",
      "source": [
        "# Exploratory Data Analysis"
      ],
      "metadata": {
        "formattedRanges": [],
        "cell_id": "cef0d2f126c04e539dc1322e576d1d4e",
        "tags": [],
        "is_collapsed": false,
        "deepnote_cell_type": "text-cell-h1",
        "id": "vmWYfX6T2m6f"
      }
    },
    {
      "cell_type": "markdown",
      "source": [
        "## Perbandingan Rata-Rata Rating Berdasarkan Kota"
      ],
      "metadata": {
        "id": "vR1F4V_VfwqR",
        "cell_id": "00012-4ce71411-5845-447e-a598-f4e3df445b71",
        "deepnote_cell_type": "markdown",
        "deepnote_cell_height": 70
      }
    },
    {
      "cell_type": "code",
      "metadata": {
        "colab": {
          "base_uri": "https://localhost:8080/"
        },
        "id": "cOGggWHCf3QH",
        "outputId": "373f0e2f-025e-423d-96ed-3b29bca01e6e",
        "cell_id": "00013-9365454c-815b-4b5a-b182-814a037fc2ec",
        "deepnote_to_be_reexecuted": false,
        "source_hash": "2d9b3421",
        "execution_start": 1656166065849,
        "execution_millis": 44,
        "deepnote_cell_type": "code",
        "deepnote_cell_height": 231.125
      },
      "source": [
        "                                                                                        rating_per_city = df.loc[:, ['City', 'Rating']].groupby('City', as_index=False).mean().sort_values(by='Rating', ascending=False, ignore_index=True)\n",
        "print(rating_per_city)"
      ],
      "execution_count": null,
      "outputs": [
        {
          "name": "stdout",
          "text": "         City    Rating\n0     Jakarta  4.488095\n1  Yogyakarta  4.466667\n2    Surabaya  4.454348\n3     Bandung  4.420968\n4    Semarang  4.361404\n",
          "output_type": "stream"
        }
      ]
    },
    {
      "cell_type": "code",
      "metadata": {
        "colab": {
          "base_uri": "https://localhost:8080/",
          "height": 342
        },
        "id": "NFFJxfiFh65T",
        "outputId": "fba0c29f-befe-4a6b-b58c-e81c8148be9a",
        "cell_id": "00014-96c30775-0af2-4fa2-91cb-1b0d59f2203d",
        "deepnote_to_be_reexecuted": false,
        "source_hash": "3f3aa78",
        "execution_start": 1656166065892,
        "execution_millis": 1056,
        "deepnote_cell_type": "code",
        "deepnote_cell_height": 644.1875,
        "deepnote_output_heights": [
          21.1875,
          351
        ]
      },
      "source": [
        "city = rating_per_city['City']\n",
        "rating = rating_per_city['Rating']\n",
        "fig = plt.figure()\n",
        "ax = fig.add_axes([1,1,1,1])\n",
        "ax.bar(city, rating, color=['blue','red', 'orange', 'green', 'purple'])\n",
        "plt.xlabel('City')\n",
        "plt.ylabel('Rating')\n",
        "plt.title('Perbandingan Rata-Rata Rating Berdasarkan Kota')\n",
        "plt.ylim((4, 4.6))"
      ],
      "execution_count": null,
      "outputs": [
        {
          "output_type": "execute_result",
          "execution_count": 16,
          "data": {
            "text/plain": "(4.0, 4.6)"
          },
          "metadata": {}
        },
        {
          "data": {
            "text/plain": "<Figure size 432x288 with 1 Axes>",
            "image/png": "[encoded data removed]"
          },
          "metadata": {
            "needs_background": "light",
            "image/png": {
              "width": 483,
              "height": 349
            }
          },
          "output_type": "display_data"
        }
      ]
    },
    {
      "cell_type": "markdown",
      "source": [
        "Berdasarkan hasil visualisasi dapat dilihat bahwa rata-rata rating tertinggi terdapat pada kota Jakarta sebesar 4,48 dan terendah didapat kota semarang sebesar 4,36.  Perbedaan rata-rata rating antar kota tidak terlalu signifikan sehingga dapat disimpulkan bahwa pada masing-masing kota banyak objek wisata yang mendapat rating yang bagus secara merata."
      ],
      "metadata": {
        "formattedRanges": [],
        "cell_id": "61f8b192810b4e4290d8e9b9289488fe",
        "tags": [],
        "is_collapsed": false,
        "deepnote_cell_type": "text-cell-p",
        "id": "H4VWlPPA2m6j"
      }
    },
    {
      "cell_type": "markdown",
      "source": [
        "## Hubungan Antara Rating dan Rata-rata Harga"
      ],
      "metadata": {
        "formattedRanges": [],
        "cell_id": "b4f4149ba37040b1b2fe4b6afaa87c85",
        "tags": [],
        "is_collapsed": false,
        "deepnote_cell_type": "text-cell-h2",
        "id": "MdNHJI9u2m6j"
      }
    },
    {
      "cell_type": "code",
      "metadata": {
        "cell_id": "cd6de36b859c433e867291b3bf0c0fbc",
        "tags": [],
        "deepnote_to_be_reexecuted": false,
        "source_hash": "29d5c72c",
        "execution_start": 1656166066203,
        "execution_millis": 755,
        "deepnote_cell_type": "code",
        "deepnote_cell_height": 772.1875,
        "deepnote_output_heights": [
          21.1875,
          335
        ],
        "id": "XJxr9fJe2m6k",
        "outputId": "f45ef623-8086-4ff3-9976-f2dc872f7d60"
      },
      "source": [
        "get_rating_price =  round(df.groupby(df['Rating'])['Price'].mean())\n",
        "df1 = get_rating_price.reset_index(name = 'Price')\n",
        "rating = list(df1['Rating'])\n",
        "price = list(df1['Price'])\n",
        "fig = plt.figure()\n",
        "fig = plt.figure(figsize = (10, 5))\n",
        "# creating the bar plot\n",
        "cmap = plt.cm.tab10\n",
        "colors = cmap(np.arange(len(rating)) % cmap.N)\n",
        "plt.bar(rating, price, color=colors, width=0.08)\n",
        "plt.xlabel(\"Rating\")\n",
        "plt.ylabel(\"Rata-rata Harga\")\n",
        "plt.title(\"Hubungan Antara Rating dan Rata-rata Harga\")\n",
        "# plt.ylim(1000.0, 125000.0)\n",
        "plt.show()\n",
        "\n"
      ],
      "execution_count": null,
      "outputs": [
        {
          "data": {
            "text/plain": "<Figure size 432x288 with 0 Axes>"
          },
          "metadata": {},
          "output_type": "display_data"
        },
        {
          "data": {
            "text/plain": "<Figure size 720x360 with 1 Axes>",
            "image/png": "[encoded data removed]"
          },
          "metadata": {
            "needs_background": "light",
            "image/png": {
              "width": 631,
              "height": 333
            }
          },
          "output_type": "display_data"
        }
      ]
    },
    {
      "cell_type": "code",
      "metadata": {
        "cell_id": "baaba178b98346cea9096e25e23f0e3e",
        "tags": [],
        "deepnote_to_be_reexecuted": false,
        "source_hash": "674dd8a8",
        "execution_start": 1656166066428,
        "execution_millis": 531,
        "deepnote_cell_type": "code",
        "deepnote_cell_height": 394.8125,
        "id": "kYtWPFHR2m6l",
        "outputId": "62f0a586-0544-41f2-da76-a3ee891a76cd"
      },
      "source": [
        "print(df1)"
      ],
      "execution_count": null,
      "outputs": [
        {
          "name": "stdout",
          "text": "    Rating     Price\n0      3.4    5000.0\n1      3.8   37500.0\n2      3.9   21853.0\n3      4.0   42219.0\n4      4.1   14409.0\n5      4.2   24784.0\n6      4.3   33833.0\n7      4.4   36394.0\n8      4.5   34288.0\n9      4.6   41641.0\n10     4.7   34084.0\n11     4.8  122422.0\n12     4.9   33548.0\n13     5.0   48588.0\n",
          "output_type": "stream"
        }
      ]
    },
    {
      "cell_type": "markdown",
      "source": [
        "Berdasarkan hasil visualisasi diatas harga tidak terlalu mempengaruhi rating. Tempat wisata yang mendapat rating 4.5 keatas harga tiket masuknya rata-rata dari angka 35000 sampai 123000. Objek wisata tersebut kemungkinan meningkatkan kualitas pelayanan yang sebanding dengan harga yang ditetapkan"
      ],
      "metadata": {
        "formattedRanges": [],
        "cell_id": "6bdcb8edab744e798f58128042ddaab2",
        "tags": [],
        "is_collapsed": false,
        "deepnote_cell_type": "text-cell-p",
        "id": "5JqeddLZ2m6o"
      }
    },
    {
      "cell_type": "markdown",
      "source": [
        "## Perbandingan Jumlah Berdasarkan Kategori Objek  Wisata"
      ],
      "metadata": {
        "formattedRanges": [],
        "cell_id": "bf45dafdf91444bf9e7a615df40cb2f9",
        "tags": [],
        "is_collapsed": false,
        "deepnote_cell_type": "text-cell-h2",
        "id": "imBZ-BXM2m6q"
      }
    },
    {
      "cell_type": "code",
      "metadata": {
        "cell_id": "d1933389a03c4a29ae13191535405738",
        "tags": [],
        "deepnote_to_be_reexecuted": false,
        "source_hash": "5a9a272b",
        "execution_start": 1656166066475,
        "execution_millis": 486,
        "deepnote_cell_type": "code",
        "deepnote_cell_height": 626.1875,
        "deepnote_output_heights": [
          21.1875,
          351
        ],
        "id": "vUosL0TX2m6q",
        "outputId": "acc2b5e4-b594-48fe-e925-1b4c52c989e1"
      },
      "source": [
        "category = df.groupby('Category')['Category'].count()\n",
        "df2 = category.reset_index(name = 'Count')\n",
        "fig = plt.figure()\n",
        "ax = fig.add_axes([1,1,1.5,1])\n",
        "ax.bar(df2['Category'],df2['Count'], color=['blue','red', 'orange', 'green', 'purple', 'grey'])\n",
        "plt.xlabel('Category')\n",
        "plt.ylabel('Count')\n",
        "plt.title('Perbandingan Jumlah Berdasarkan Kategori Objek Wisata')"
      ],
      "execution_count": null,
      "outputs": [
        {
          "output_type": "execute_result",
          "execution_count": 19,
          "data": {
            "text/plain": "Text(0.5, 1.0, 'Perbandingan Jumlah Berdasarkan Kategori Objek Wisata')"
          },
          "metadata": {}
        },
        {
          "data": {
            "text/plain": "<Figure size 432x288 with 1 Axes>",
            "image/png": "[encoded data removed]"
          },
          "metadata": {
            "needs_background": "light",
            "image/png": {
              "width": 702,
              "height": 349
            }
          },
          "output_type": "display_data"
        }
      ]
    },
    {
      "cell_type": "markdown",
      "source": [
        "## Perbandingan Jumlah Berdasarkan Kategori Objek Wisata"
      ],
      "metadata": {
        "formattedRanges": [],
        "cell_id": "9b42d9c3b39c48e6b6c3586aab68c544",
        "tags": [],
        "is_collapsed": false,
        "deepnote_cell_type": "text-cell-h2",
        "id": "8RTPxO9h2m6r"
      }
    },
    {
      "cell_type": "code",
      "metadata": {
        "cell_id": "156e0afefe6c442f9666535dad337fcb",
        "tags": [],
        "deepnote_to_be_reexecuted": false,
        "source_hash": "226dc00c",
        "execution_start": 1656166066668,
        "execution_millis": 294,
        "deepnote_cell_type": "code",
        "deepnote_cell_height": 233.3125,
        "id": "aJRVf5iZ2m6s",
        "outputId": "0589f3b6-6809-4737-920f-6ea0c8e242cf"
      },
      "source": [
        "print(df2)"
      ],
      "execution_count": null,
      "outputs": [
        {
          "name": "stdout",
          "text": "             Category  Count\n0              Bahari     47\n1              Budaya    117\n2          Cagar Alam    106\n3  Pusat Perbelanjaan     15\n4       Taman Hiburan    135\n5       Tempat Ibadah     17\n",
          "output_type": "stream"
        }
      ]
    },
    {
      "cell_type": "code",
      "metadata": {
        "cell_id": "4d1860e38b4140e99322cfc86fc86e98",
        "tags": [],
        "deepnote_to_be_reexecuted": false,
        "source_hash": "88ded0eb",
        "execution_start": 1656166066678,
        "execution_millis": 988,
        "deepnote_cell_type": "code",
        "deepnote_cell_height": 563,
        "deepnote_output_heights": [
          412
        ],
        "id": "EhcDI4ux2m6t",
        "outputId": "3e5982bf-d6e6-4912-abdf-0c13c5d9d207"
      },
      "source": [
        "df2['Count'].plot(kind='pie', autopct='%1.1f%%', startangle=180, figsize =(14, 7), labels=None)\n",
        "plt.legend(df2['Category'])\n",
        "plt.title('Perbandingan Jumlah Berdasarkan Kategori Objek Wisata')\n",
        "plt.show()"
      ],
      "execution_count": null,
      "outputs": [
        {
          "data": {
            "text/plain": "<Figure size 1008x504 with 1 Axes>",
            "image/png": "[encoded data removed]"
          },
          "metadata": {
            "image/png": {
              "width": 412,
              "height": 410
            }
          },
          "output_type": "display_data"
        }
      ]
    },
    {
      "cell_type": "markdown",
      "source": [
        "Pada dataset yang digunakan terdapat 6 kategori objek wisata yaitu Budaya, Taman Hiburan, Cagar Alam, Bahari, Pusat Perbelanjaan, Tempat Ibadah. Dilihat dari presentase jumlah objek wisata Taman Hiburan yang paling banyak yaitu 135 (30.9%) dari seluruh data. Yang paling sedikit yaitu kategori Tempat Ibadah sebanyak 17(3.9%) dan Pusat Perbelanjaan sebanyak 15(3.4%)"
      ],
      "metadata": {
        "formattedRanges": [],
        "cell_id": "56c815b4654246ec9899b38c00c2ba2d",
        "tags": [],
        "is_collapsed": false,
        "deepnote_cell_type": "text-cell-p",
        "id": "zTJo1AIa2m6u"
      }
    },
    {
      "cell_type": "markdown",
      "source": [
        "## Perbandingan Objek Wisata dari Rating (4.8 sampai 5.0) Berdasarkan Harga"
      ],
      "metadata": {
        "formattedRanges": [],
        "cell_id": "ff6488edb0a74507b4ee34cc067d743a",
        "tags": [],
        "is_collapsed": false,
        "deepnote_cell_type": "text-cell-h2",
        "id": "SAe9SXr52m6u"
      }
    },
    {
      "cell_type": "markdown",
      "source": [
        "Mengambil Objek wisata yang memiliki Rating 4.7 - 5.0 diambil sebanyak 18 data"
      ],
      "metadata": {
        "formattedRanges": [],
        "cell_id": "b8fe2d455c6146b2b645079d0d82e217",
        "tags": [],
        "is_collapsed": false,
        "deepnote_cell_type": "text-cell-p",
        "id": "78G6NDl42m6w"
      }
    },
    {
      "cell_type": "code",
      "metadata": {
        "cell_id": "dce389a7a052419090ba0af21a53d826",
        "tags": [],
        "deepnote_to_be_reexecuted": false,
        "source_hash": "d86ddc7",
        "execution_start": 1656166067038,
        "execution_millis": 6,
        "deepnote_table_state": {
          "pageSize": 10,
          "pageIndex": 0,
          "filters": [],
          "sortBy": []
        },
        "deepnote_table_loading": false,
        "deepnote_cell_type": "code",
        "deepnote_cell_height": 81,
        "id": "RH8E-w4Q2m6w"
      },
      "source": [
        "df3 = df.sort_values('Rating', ascending =False).iloc[1:1+18][['Rating','Place_Name','Category','Price', 'Time_Minutes']]"
      ],
      "execution_count": null,
      "outputs": []
    },
    {
      "cell_type": "markdown",
      "source": [
        "Mencari Objek wisata dari rating 4.7-5.0 dengan harga yang terjangkau/rendah. Data yang diambil sebanyak 10 objek wisata."
      ],
      "metadata": {
        "formattedRanges": [],
        "cell_id": "d150019d73854d94862acba79af1f52b",
        "tags": [],
        "is_collapsed": false,
        "deepnote_cell_type": "text-cell-p",
        "id": "yZga4Xvv2m6x"
      }
    },
    {
      "cell_type": "code",
      "metadata": {
        "cell_id": "f542567187a944d2a906e3e2d6dfd313",
        "tags": [],
        "deepnote_to_be_reexecuted": false,
        "source_hash": "5af8df27",
        "execution_start": 1656166067049,
        "execution_millis": 33,
        "deepnote_table_state": {
          "pageSize": 10,
          "pageIndex": 0,
          "filters": [],
          "sortBy": []
        },
        "deepnote_table_loading": false,
        "deepnote_cell_type": "code",
        "deepnote_cell_height": 81,
        "id": "YzIhLpti2m6x"
      },
      "source": [
        "df4 = df3.sort_values('Price', ascending =True).iloc[1:1+10][['Rating','Place_Name','Category','Price', 'Time_Minutes']]"
      ],
      "execution_count": null,
      "outputs": []
    },
    {
      "cell_type": "markdown",
      "source": [
        "Mencari Objek wisata dengan Rating tinggi, harga terjangkau dan waktu tempuh yang singkat. Data yang diambil sebanyak 5 Objek Wisata"
      ],
      "metadata": {
        "formattedRanges": [],
        "cell_id": "51520c24146d453c9dc4a74ce8f38ad1",
        "tags": [],
        "is_collapsed": false,
        "deepnote_cell_type": "text-cell-p",
        "id": "hOImwdev2m6y"
      }
    },
    {
      "cell_type": "code",
      "metadata": {
        "cell_id": "7c2d022786b84f2389e03ac61f7e1db8",
        "tags": [],
        "deepnote_to_be_reexecuted": false,
        "source_hash": "c9eeefff",
        "execution_start": 1656166067083,
        "execution_millis": 7,
        "deepnote_cell_type": "code",
        "deepnote_cell_height": 81,
        "id": "JfIUR50Q2m6z"
      },
      "source": [
        "df5 = df4.sort_values('Time_Minutes', ascending =True).iloc[1:1+5][['Rating','Place_Name','Category','Price', 'Time_Minutes']]"
      ],
      "execution_count": null,
      "outputs": []
    },
    {
      "cell_type": "markdown",
      "source": [
        "Objek diurutkan berdasarkan Rating rendah-tinggi agar memudahkan dalam mengamati"
      ],
      "metadata": {
        "formattedRanges": [],
        "cell_id": "d293202cdfb741a09af92e51d68d4e97",
        "tags": [],
        "is_collapsed": false,
        "deepnote_cell_type": "text-cell-p",
        "id": "2fzK--sw2m6z"
      }
    },
    {
      "cell_type": "code",
      "metadata": {
        "cell_id": "a8575b8ff6e1494783dcf4f0efd7dafd",
        "tags": [],
        "deepnote_to_be_reexecuted": false,
        "source_hash": "13c330f3",
        "execution_start": 1656166067091,
        "execution_millis": 0,
        "deepnote_cell_type": "code",
        "deepnote_cell_height": 81,
        "id": "e5oSEiNi2m60"
      },
      "source": [
        "df5 = df5.sort_values('Rating', ascending =True)"
      ],
      "execution_count": null,
      "outputs": []
    },
    {
      "cell_type": "code",
      "metadata": {
        "cell_id": "9c1b72f00654494eba57d431f90c964f",
        "tags": [],
        "deepnote_to_be_reexecuted": false,
        "source_hash": "186b6e3a",
        "execution_start": 1656166067091,
        "execution_millis": 575,
        "deepnote_cell_type": "code",
        "deepnote_cell_height": 622.328125,
        "deepnote_output_heights": [
          21.1875,
          383.140625
        ],
        "id": "YCEdr5lX2m61",
        "outputId": "3b4015e4-487e-49c5-e3d7-8b48deaf2993"
      },
      "source": [
        "fig = plt.figure()\n",
        "ax = fig.add_axes([1,2,2,1.5])\n",
        "ax.bar(df5['Place_Name'],df5['Price'], color=['blue','red', 'orange', 'green', 'purple'], width=0.5)\n",
        "plt.xlabel('Nama Objek')\n",
        "plt.ylabel('Harga')\n",
        "plt.title('Perbandingan Objek Wisata dari Rating (4.8 sampai 5.0) Berdasarkan Harga')"
      ],
      "execution_count": null,
      "outputs": [
        {
          "output_type": "execute_result",
          "execution_count": 26,
          "data": {
            "text/plain": "Text(0.5, 1.0, 'Perbandingan Objek Wisata dari Rating (4.8 sampai 5.0) Berdasarkan Harga')"
          },
          "metadata": {}
        },
        {
          "data": {
            "text/plain": "<Figure size 432x288 with 1 Axes>",
            "image/png": "[encoded data removed]"
          },
          "metadata": {
            "needs_background": "light",
            "image/png": {
              "width": 930,
              "height": 493
            }
          },
          "output_type": "display_data"
        }
      ]
    },
    {
      "cell_type": "markdown",
      "source": [
        "Pada visualisasi diatas dapat diamati bahwa terdapat 5 Objek Wisata yang telah difilter berdasarkan Rating, Harga dan Waktu tempuh yang paling tertinggi/ mudah dijangkau oleh pengunjung. Urutan datanya telah disesuaikan berdasarkan dari rating terendah-tertinggi yaitu Gua Maria Kerep Ambarawa, Kawasan Malioboro, Masjid Nasional Al-Akbar, Desa Wisata Sungai Code Jogja Kota, Kauman Pakualaman Yogjakarta. Berdasarkan harganya yang paling terjangkau yaitu Gua Maria Kerep Ambarawa(Rp. 2000) dan yang paling mahal yaitu Masjid Nasional Al-Akbar (Rp. 27500)."
      ],
      "metadata": {
        "formattedRanges": [],
        "cell_id": "4446ce1d582c4f60bed0702189f89205",
        "tags": [],
        "is_collapsed": false,
        "deepnote_cell_type": "text-cell-p",
        "id": "hSzC5AiA2m63"
      }
    },
    {
      "cell_type": "markdown",
      "source": [
        "## Perbandingan Jumlah 5 Rating Tertinggi dengan Waffle Chart"
      ],
      "metadata": {
        "cell_id": "a7cc65d6fec348b1a98b64602cf01fdb",
        "tags": [],
        "is_collapsed": false,
        "formattedRanges": [],
        "deepnote_cell_type": "text-cell-h2",
        "id": "YjZEyEB82m64"
      }
    },
    {
      "cell_type": "code",
      "metadata": {
        "cell_id": "7f30cae9e3d04cbd81a99a6cf19fdbe0",
        "tags": [],
        "deepnote_to_be_reexecuted": false,
        "source_hash": "ee243ed2",
        "execution_start": 1656166067375,
        "execution_millis": 1,
        "deepnote_cell_type": "code",
        "deepnote_cell_height": 117,
        "id": "_4Vsht-U2m65"
      },
      "source": [
        "df_rating = df['Rating'].value_counts()\n",
        "df_rating = df_rating.rename_axis('rating').reset_index(name='counts')\n",
        "df_rating.set_index('rating', inplace = True)"
      ],
      "execution_count": null,
      "outputs": []
    },
    {
      "cell_type": "code",
      "metadata": {
        "cell_id": "efe2a98818464ec3a3f345704fc09747",
        "tags": [],
        "deepnote_to_be_reexecuted": false,
        "source_hash": "f7e196ee",
        "execution_start": 1656166067376,
        "execution_millis": 0,
        "deepnote_cell_type": "code",
        "deepnote_cell_height": 1179,
        "id": "gBsnA8Gf2m66"
      },
      "source": [
        "def create_waffle_chart(kategori, nilai, height, width, colormap, value_sign=''):\n",
        "\n",
        "    total_nilai = sum(nilai)\n",
        "    proporsi_kategori = [(value/ total_nilai) for value in nilai]\n",
        "\n",
        "    total_num_tiles = width * height\n",
        "    print ('Total number of tiles is', total_num_tiles)\n",
        "\n",
        "    tiles_per_category = [round(proportion * total_num_tiles) for proportion in proporsi_kategori]\n",
        "\n",
        "    for i, tiles in enumerate(tiles_per_category):\n",
        "        print (df_rating.index.values[i] + ': ' + str(tiles))\n",
        "\n",
        "    waffle_chart = np.zeros((height, width))\n",
        "\n",
        "    category_index = 0\n",
        "    tile_index = 0\n",
        "\n",
        "    for col in range(width):\n",
        "        for row in range(height):\n",
        "            tile_index += 1\n",
        "\n",
        "            if tile_index > sum(tiles_per_category[0:category_index]):\n",
        "                category_index += 1\n",
        "\n",
        "            waffle_chart[row, col] = category_index\n",
        "\n",
        "    fig = plt.figure()\n",
        "\n",
        "    colormap = plt.cm.coolwarm\n",
        "    plt.matshow(waffle_chart, cmap=colormap)\n",
        "    plt.colorbar()\n",
        "\n",
        "    ax = plt.gca()\n",
        "\n",
        "    ax.set_xticks(np.arange(-.5, (width), 1), minor=True)\n",
        "    ax.set_yticks(np.arange(-.5, (height), 1), minor=True)\n",
        "\n",
        "    ax.grid(which='minor', color='w', linestyle='-', linewidth=2)\n",
        "\n",
        "    plt.xticks([])\n",
        "    plt.yticks([])\n",
        "\n",
        "    values_cumsum = np.cumsum(nilai)\n",
        "    total_values = values_cumsum[len(values_cumsum) - 1]\n",
        "\n",
        "    legend_handles = []\n",
        "    for i, category in enumerate(kategori):\n",
        "        if value_sign == '%':\n",
        "            label_str = category + ' (' + str(nilai[i]) + value_sign + ')'\n",
        "        else:\n",
        "            label_str = category + ' (' + value_sign + str(nilai[i]) + ')'\n",
        "\n",
        "        color_val = colormap(float(values_cumsum[i])/total_values)\n",
        "        legend_handles.append(mpatches.Patch(color=color_val, label=label_str))\n",
        "\n",
        "    plt.legend(\n",
        "        handles=legend_handles,\n",
        "        loc='lower center',\n",
        "        ncol=len(kategori),\n",
        "        bbox_to_anchor=(0., -0.2, 0.95, .1)\n",
        "    )"
      ],
      "execution_count": null,
      "outputs": []
    },
    {
      "cell_type": "code",
      "metadata": {
        "cell_id": "00b606c7fa6c46438b994b8d229c97dc",
        "tags": [],
        "deepnote_to_be_reexecuted": false,
        "source_hash": "db8d1574",
        "execution_start": 1656166067377,
        "execution_millis": 289,
        "deepnote_cell_type": "code",
        "deepnote_cell_height": 600,
        "id": "u98IcBZ92m67",
        "outputId": "1e83380e-a43c-476f-b750-65e6ca779823"
      },
      "source": [
        "df_rating"
      ],
      "execution_count": null,
      "outputs": [
        {
          "output_type": "execute_result",
          "execution_count": 29,
          "data": {
            "application/vnd.deepnote.dataframe.v3+json": {
              "column_count": 1,
              "row_count": 14,
              "columns": [
                {
                  "name": "counts",
                  "dtype": "int64",
                  "stats": {
                    "unique_count": 11,
                    "nan_count": 0,
                    "min": "1",
                    "max": "98",
                    "histogram": [
                      {
                        "bin_start": 1,
                        "bin_end": 10.7,
                        "count": 6
                      },
                      {
                        "bin_start": 10.7,
                        "bin_end": 20.4,
                        "count": 3
                      },
                      {
                        "bin_start": 20.4,
                        "bin_end": 30.099999999999998,
                        "count": 0
                      },
                      {
                        "bin_start": 30.099999999999998,
                        "bin_end": 39.8,
                        "count": 1
                      },
                      {
                        "bin_start": 39.8,
                        "bin_end": 49.5,
                        "count": 1
                      },
                      {
                        "bin_start": 49.5,
                        "bin_end": 59.199999999999996,
                        "count": 0
                      },
                      {
                        "bin_start": 59.199999999999996,
                        "bin_end": 68.89999999999999,
                        "count": 0
                      },
                      {
                        "bin_start": 68.89999999999999,
                        "bin_end": 78.6,
                        "count": 1
                      },
                      {
                        "bin_start": 78.6,
                        "bin_end": 88.3,
                        "count": 0
                      },
                      {
                        "bin_start": 88.3,
                        "bin_end": 98,
                        "count": 2
                      }
                    ]
                  }
                },
                {
                  "name": "_deepnote_index_column",
                  "dtype": "float64"
                }
              ],
              "rows": [
                {
                  "counts": 98,
                  "_deepnote_index_column": 4.4
                },
                {
                  "counts": 98,
                  "_deepnote_index_column": 4.5
                },
                {
                  "counts": 75,
                  "_deepnote_index_column": 4.6
                },
                {
                  "counts": 47,
                  "_deepnote_index_column": 4.3
                },
                {
                  "counts": 37,
                  "_deepnote_index_column": 4.7
                },
                {
                  "counts": 20,
                  "_deepnote_index_column": 4.2
                },
                {
                  "counts": 20,
                  "_deepnote_index_column": 4.1
                },
                {
                  "counts": 18,
                  "_deepnote_index_column": 4
                },
                {
                  "counts": 10,
                  "_deepnote_index_column": 4.8
                },
                {
                  "counts": 4,
                  "_deepnote_index_column": 4.9
                }
              ]
            },
            "text/plain": "        counts\nrating        \n4.4         98\n4.5         98\n4.6         75\n4.3         47\n4.7         37\n4.2         20\n4.1         20\n4.0         18\n4.8         10\n4.9          4\n5.0          4\n3.9          3\n3.8          2\n3.4          1",
            "text/html": "<div>\n<style scoped>\n    .dataframe tbody tr th:only-of-type {\n        vertical-align: middle;\n    }\n\n    .dataframe tbody tr th {\n        vertical-align: top;\n    }\n\n    .dataframe thead th {\n        text-align: right;\n    }\n</style>\n<table border=\"1\" class=\"dataframe\">\n  <thead>\n    <tr style=\"text-align: right;\">\n      <th></th>\n      <th>counts</th>\n    </tr>\n    <tr>\n      <th>rating</th>\n      <th></th>\n    </tr>\n  </thead>\n  <tbody>\n    <tr>\n      <th>4.4</th>\n      <td>98</td>\n    </tr>\n    <tr>\n      <th>4.5</th>\n      <td>98</td>\n    </tr>\n    <tr>\n      <th>4.6</th>\n      <td>75</td>\n    </tr>\n    <tr>\n      <th>4.3</th>\n      <td>47</td>\n    </tr>\n    <tr>\n      <th>4.7</th>\n      <td>37</td>\n    </tr>\n    <tr>\n      <th>4.2</th>\n      <td>20</td>\n    </tr>\n    <tr>\n      <th>4.1</th>\n      <td>20</td>\n    </tr>\n    <tr>\n      <th>4.0</th>\n      <td>18</td>\n    </tr>\n    <tr>\n      <th>4.8</th>\n      <td>10</td>\n    </tr>\n    <tr>\n      <th>4.9</th>\n      <td>4</td>\n    </tr>\n    <tr>\n      <th>5.0</th>\n      <td>4</td>\n    </tr>\n    <tr>\n      <th>3.9</th>\n      <td>3</td>\n    </tr>\n    <tr>\n      <th>3.8</th>\n      <td>2</td>\n    </tr>\n    <tr>\n      <th>3.4</th>\n      <td>1</td>\n    </tr>\n  </tbody>\n</table>\n</div>"
          },
          "metadata": {}
        }
      ]
    },
    {
      "cell_type": "code",
      "source": [
        "df_rating.index = df_rating.index.map(str)"
      ],
      "metadata": {
        "cell_id": "77ee0f426e2e4b4ebd8f9a661e2b274f",
        "tags": [],
        "deepnote_to_be_reexecuted": false,
        "source_hash": "118f2193",
        "execution_start": 1656166067397,
        "execution_millis": 1,
        "deepnote_cell_type": "code",
        "deepnote_cell_height": 81,
        "id": "CLFKLsUt2m68"
      },
      "outputs": [],
      "execution_count": null
    },
    {
      "cell_type": "code",
      "source": [
        "df_rating_sort = df_rating.sort_index()\n",
        "df_rating_top5 = df_rating_sort.tail(5)\n",
        "df_rating_top5"
      ],
      "metadata": {
        "cell_id": "07fb1ecc0515407aaf0478950ed2b434",
        "tags": [],
        "deepnote_to_be_reexecuted": false,
        "source_hash": "b9fa9736",
        "execution_start": 1656166067398,
        "execution_millis": 268,
        "deepnote_cell_type": "code",
        "deepnote_cell_height": 431,
        "id": "QW66gvVw2m69",
        "outputId": "3ad7b068-69e2-4925-8143-576aeafa0289"
      },
      "outputs": [
        {
          "output_type": "execute_result",
          "execution_count": 31,
          "data": {
            "application/vnd.deepnote.dataframe.v3+json": {
              "column_count": 1,
              "row_count": 5,
              "columns": [
                {
                  "name": "counts",
                  "dtype": "int64",
                  "stats": {
                    "unique_count": 4,
                    "nan_count": 0,
                    "min": "4",
                    "max": "75",
                    "histogram": [
                      {
                        "bin_start": 4,
                        "bin_end": 11.1,
                        "count": 3
                      },
                      {
                        "bin_start": 11.1,
                        "bin_end": 18.2,
                        "count": 0
                      },
                      {
                        "bin_start": 18.2,
                        "bin_end": 25.299999999999997,
                        "count": 0
                      },
                      {
                        "bin_start": 25.299999999999997,
                        "bin_end": 32.4,
                        "count": 0
                      },
                      {
                        "bin_start": 32.4,
                        "bin_end": 39.5,
                        "count": 1
                      },
                      {
                        "bin_start": 39.5,
                        "bin_end": 46.599999999999994,
                        "count": 0
                      },
                      {
                        "bin_start": 46.599999999999994,
                        "bin_end": 53.699999999999996,
                        "count": 0
                      },
                      {
                        "bin_start": 53.699999999999996,
                        "bin_end": 60.8,
                        "count": 0
                      },
                      {
                        "bin_start": 60.8,
                        "bin_end": 67.9,
                        "count": 0
                      },
                      {
                        "bin_start": 67.9,
                        "bin_end": 75,
                        "count": 1
                      }
                    ]
                  }
                },
                {
                  "name": "_deepnote_index_column",
                  "dtype": "object"
                }
              ],
              "rows": [
                {
                  "counts": 75,
                  "_deepnote_index_column": "4.6"
                },
                {
                  "counts": 37,
                  "_deepnote_index_column": "4.7"
                },
                {
                  "counts": 10,
                  "_deepnote_index_column": "4.8"
                },
                {
                  "counts": 4,
                  "_deepnote_index_column": "4.9"
                },
                {
                  "counts": 4,
                  "_deepnote_index_column": "5.0"
                }
              ]
            },
            "text/plain": "        counts\nrating        \n4.6         75\n4.7         37\n4.8         10\n4.9          4\n5.0          4",
            "text/html": "<div>\n<style scoped>\n    .dataframe tbody tr th:only-of-type {\n        vertical-align: middle;\n    }\n\n    .dataframe tbody tr th {\n        vertical-align: top;\n    }\n\n    .dataframe thead th {\n        text-align: right;\n    }\n</style>\n<table border=\"1\" class=\"dataframe\">\n  <thead>\n    <tr style=\"text-align: right;\">\n      <th></th>\n      <th>counts</th>\n    </tr>\n    <tr>\n      <th>rating</th>\n      <th></th>\n    </tr>\n  </thead>\n  <tbody>\n    <tr>\n      <th>4.6</th>\n      <td>75</td>\n    </tr>\n    <tr>\n      <th>4.7</th>\n      <td>37</td>\n    </tr>\n    <tr>\n      <th>4.8</th>\n      <td>10</td>\n    </tr>\n    <tr>\n      <th>4.9</th>\n      <td>4</td>\n    </tr>\n    <tr>\n      <th>5.0</th>\n      <td>4</td>\n    </tr>\n  </tbody>\n</table>\n</div>"
          },
          "metadata": {}
        }
      ],
      "execution_count": null
    },
    {
      "cell_type": "code",
      "metadata": {
        "cell_id": "625e623df8c34c06be9421865fbc979c",
        "tags": [],
        "deepnote_to_be_reexecuted": false,
        "source_hash": "81e66a8c",
        "execution_start": 1656166067433,
        "execution_millis": 1,
        "deepnote_cell_type": "code",
        "deepnote_cell_height": 207,
        "id": "1Qg5Py9W2m6-"
      },
      "source": [
        "width = 100\n",
        "height = 30\n",
        "\n",
        "kategori = df_rating_top5.index.values\n",
        "nilai = df_rating_top5['counts']\n",
        "# df_rating.index = df_rating.index.map(str)\n",
        "\n",
        "colormap = plt.cm.coolwarm"
      ],
      "execution_count": null,
      "outputs": []
    },
    {
      "cell_type": "code",
      "metadata": {
        "cell_id": "801ed6436f4049918e989a174bc8f70b",
        "tags": [],
        "deepnote_to_be_reexecuted": false,
        "source_hash": "36aba19e",
        "execution_start": 1656166067509,
        "execution_millis": 716,
        "deepnote_cell_type": "code",
        "deepnote_cell_height": 547.3125,
        "deepnote_output_heights": [
          null,
          21.1875,
          251,
          243
        ],
        "id": "nzknCNUb2m6_",
        "outputId": "895c2761-5080-4404-d04e-7e0b66957c90"
      },
      "source": [
        "create_waffle_chart(kategori, nilai, height, width, colormap)"
      ],
      "execution_count": null,
      "outputs": [
        {
          "name": "stdout",
          "text": "Total number of tiles is 3000\n4.4: 1731\n4.5: 854\n4.6: 231\n4.3: 92\n4.7: 92\n",
          "output_type": "stream"
        },
        {
          "data": {
            "text/plain": "<Figure size 432x288 with 0 Axes>"
          },
          "metadata": {},
          "output_type": "display_data"
        },
        {
          "data": {
            "text/plain": "<Figure size 960x288 with 2 Axes>",
            "image/png": "[encoded data removed]"
          },
          "metadata": {
            "needs_background": "light",
            "image/png": {
              "width": 684,
              "height": 249
            }
          },
          "output_type": "display_data"
        }
      ]
    },
    {
      "cell_type": "markdown",
      "source": [
        "pada visualisasi diatas berisikan informasi proporsi setiap rating. Rating yang memiliki jumlah tertinggi adalah 4.6 sebanyak 75. Rating yang memiliki jumlah terkecil adalah rating 4.9 dan 5 sebanyak 4 objek wisata"
      ],
      "metadata": {
        "cell_id": "fce680d5124247cbb6da02cd5aaf9e18",
        "tags": [],
        "deepnote_cell_type": "markdown",
        "deepnote_cell_height": 97.171875,
        "id": "fBeRE5_s2m7A"
      }
    },
    {
      "cell_type": "markdown",
      "source": [
        "## Perbandingan Jumlah Semua Rating dengan Regression Plot"
      ],
      "metadata": {
        "cell_id": "2832554f796e4c5a86ba1f22c8afa852",
        "tags": [],
        "is_collapsed": false,
        "formattedRanges": [],
        "owner_user_id": "87fbebec-7185-4fc6-9677-941ad7cdb251",
        "deepnote_cell_type": "text-cell-h2",
        "id": "VYvGy3Uc2m7A"
      }
    },
    {
      "cell_type": "code",
      "source": [
        "df_rp = pd.DataFrame(df['Rating'].value_counts())\n",
        "df_rp.index = map(float, df_rp.index)\n",
        "df_rp.reset_index(inplace=True)\n",
        "df_rp.columns = ['rating', 'total']"
      ],
      "metadata": {
        "cell_id": "5a3f370f28d14cd18eba997f31058053",
        "tags": [],
        "deepnote_to_be_reexecuted": false,
        "source_hash": "db25ba26",
        "execution_start": 1656167919692,
        "execution_millis": 0,
        "deepnote_cell_type": "code",
        "deepnote_cell_height": 135,
        "id": "gruSrPRW2m7B"
      },
      "outputs": [],
      "execution_count": null
    },
    {
      "cell_type": "code",
      "source": [
        "df_rp.head()"
      ],
      "metadata": {
        "cell_id": "6a070e4adbe244b49e0f40ddcbc84e6c",
        "tags": [],
        "deepnote_to_be_reexecuted": false,
        "source_hash": "1650e1b8",
        "execution_start": 1656167924882,
        "execution_millis": 16,
        "deepnote_cell_type": "code",
        "deepnote_cell_height": 395,
        "deepnote_output_heights": [
          117.125
        ],
        "id": "fty2aPvo2m7B",
        "outputId": "aaf041bd-28e8-410f-ebbe-ee936e92b055"
      },
      "outputs": [
        {
          "output_type": "execute_result",
          "execution_count": 88,
          "data": {
            "application/vnd.deepnote.dataframe.v3+json": {
              "column_count": 2,
              "row_count": 5,
              "columns": [
                {
                  "name": "rating",
                  "dtype": "float64",
                  "stats": {
                    "unique_count": 5,
                    "nan_count": 0,
                    "min": "4.3",
                    "max": "4.7",
                    "histogram": [
                      {
                        "bin_start": 4.3,
                        "bin_end": 4.34,
                        "count": 1
                      },
                      {
                        "bin_start": 4.34,
                        "bin_end": 4.38,
                        "count": 0
                      },
                      {
                        "bin_start": 4.38,
                        "bin_end": 4.42,
                        "count": 1
                      },
                      {
                        "bin_start": 4.42,
                        "bin_end": 4.46,
                        "count": 0
                      },
                      {
                        "bin_start": 4.46,
                        "bin_end": 4.5,
                        "count": 0
                      },
                      {
                        "bin_start": 4.5,
                        "bin_end": 4.54,
                        "count": 1
                      },
                      {
                        "bin_start": 4.54,
                        "bin_end": 4.58,
                        "count": 0
                      },
                      {
                        "bin_start": 4.58,
                        "bin_end": 4.62,
                        "count": 1
                      },
                      {
                        "bin_start": 4.62,
                        "bin_end": 4.66,
                        "count": 0
                      },
                      {
                        "bin_start": 4.66,
                        "bin_end": 4.7,
                        "count": 1
                      }
                    ]
                  }
                },
                {
                  "name": "total",
                  "dtype": "int64",
                  "stats": {
                    "unique_count": 4,
                    "nan_count": 0,
                    "min": "37",
                    "max": "98",
                    "histogram": [
                      {
                        "bin_start": 37,
                        "bin_end": 43.1,
                        "count": 1
                      },
                      {
                        "bin_start": 43.1,
                        "bin_end": 49.2,
                        "count": 1
                      },
                      {
                        "bin_start": 49.2,
                        "bin_end": 55.3,
                        "count": 0
                      },
                      {
                        "bin_start": 55.3,
                        "bin_end": 61.4,
                        "count": 0
                      },
                      {
                        "bin_start": 61.4,
                        "bin_end": 67.5,
                        "count": 0
                      },
                      {
                        "bin_start": 67.5,
                        "bin_end": 73.6,
                        "count": 0
                      },
                      {
                        "bin_start": 73.6,
                        "bin_end": 79.69999999999999,
                        "count": 1
                      },
                      {
                        "bin_start": 79.69999999999999,
                        "bin_end": 85.8,
                        "count": 0
                      },
                      {
                        "bin_start": 85.8,
                        "bin_end": 91.9,
                        "count": 0
                      },
                      {
                        "bin_start": 91.9,
                        "bin_end": 98,
                        "count": 2
                      }
                    ]
                  }
                },
                {
                  "name": "_deepnote_index_column",
                  "dtype": "int64"
                }
              ],
              "rows": [
                {
                  "rating": 4.4,
                  "total": 98,
                  "_deepnote_index_column": 0
                },
                {
                  "rating": 4.5,
                  "total": 98,
                  "_deepnote_index_column": 1
                },
                {
                  "rating": 4.6,
                  "total": 75,
                  "_deepnote_index_column": 2
                },
                {
                  "rating": 4.3,
                  "total": 47,
                  "_deepnote_index_column": 3
                },
                {
                  "rating": 4.7,
                  "total": 37,
                  "_deepnote_index_column": 4
                }
              ]
            },
            "text/plain": "   rating  total\n0     4.4     98\n1     4.5     98\n2     4.6     75\n3     4.3     47\n4     4.7     37",
            "text/html": "<div>\n<style scoped>\n    .dataframe tbody tr th:only-of-type {\n        vertical-align: middle;\n    }\n\n    .dataframe tbody tr th {\n        vertical-align: top;\n    }\n\n    .dataframe thead th {\n        text-align: right;\n    }\n</style>\n<table border=\"1\" class=\"dataframe\">\n  <thead>\n    <tr style=\"text-align: right;\">\n      <th></th>\n      <th>rating</th>\n      <th>total</th>\n    </tr>\n  </thead>\n  <tbody>\n    <tr>\n      <th>0</th>\n      <td>4.4</td>\n      <td>98</td>\n    </tr>\n    <tr>\n      <th>1</th>\n      <td>4.5</td>\n      <td>98</td>\n    </tr>\n    <tr>\n      <th>2</th>\n      <td>4.6</td>\n      <td>75</td>\n    </tr>\n    <tr>\n      <th>3</th>\n      <td>4.3</td>\n      <td>47</td>\n    </tr>\n    <tr>\n      <th>4</th>\n      <td>4.7</td>\n      <td>37</td>\n    </tr>\n  </tbody>\n</table>\n</div>"
          },
          "metadata": {}
        }
      ],
      "execution_count": null
    },
    {
      "cell_type": "code",
      "source": [
        "ax = sns.regplot(x='rating', y='total', data=df_rp, color='red')"
      ],
      "metadata": {
        "cell_id": "8d5c5125f9264841803d200d49dfd591",
        "tags": [],
        "deepnote_to_be_reexecuted": false,
        "source_hash": "37099e2",
        "execution_start": 1656167959315,
        "execution_millis": 308,
        "deepnote_cell_type": "code",
        "deepnote_cell_height": 361,
        "deepnote_output_heights": [
          264
        ],
        "id": "-NWQlFjn2m7C",
        "outputId": "eddb828a-37af-4fb9-e468-006d78a47980"
      },
      "outputs": [
        {
          "data": {
            "text/plain": "<Figure size 432x288 with 1 Axes>",
            "image/png": "[encoded data removed]"
          },
          "metadata": {
            "needs_background": "light",
            "image/png": {
              "width": 391,
              "height": 262
            }
          },
          "output_type": "display_data"
        }
      ],
      "execution_count": null
    },
    {
      "cell_type": "markdown",
      "source": [
        "# Machine Learning"
      ],
      "metadata": {
        "formattedRanges": [],
        "cell_id": "c93c0b66e91b4f878663ffb9a144ebd1",
        "tags": [],
        "is_collapsed": false,
        "deepnote_cell_type": "text-cell-h1",
        "id": "Ipwxhg_V2m7D"
      }
    },
    {
      "cell_type": "markdown",
      "source": [
        "## Preprocessing"
      ],
      "metadata": {
        "formattedRanges": [],
        "cell_id": "5d21d927ad504fa08ef9786023f2d82a",
        "tags": [],
        "is_collapsed": false,
        "deepnote_cell_type": "text-cell-h2",
        "id": "pKI34x7L2m7E"
      }
    },
    {
      "cell_type": "code",
      "metadata": {
        "cell_id": "69d27088920d484ba9b068f72779cf29",
        "tags": [],
        "deepnote_to_be_reexecuted": false,
        "source_hash": "9143dae2",
        "execution_start": 1656166068222,
        "execution_millis": 5,
        "deepnote_cell_type": "code",
        "deepnote_cell_height": 430,
        "id": "KFcoIq3s2m7E",
        "outputId": "276e856c-31cf-40be-864e-354b899c35ef"
      },
      "source": [
        "data = df.copy()\n",
        "data.head()"
      ],
      "execution_count": null,
      "outputs": [
        {
          "output_type": "execute_result",
          "execution_count": 35,
          "data": {
            "application/vnd.deepnote.dataframe.v3+json": {
              "column_count": 11,
              "row_count": 5,
              "columns": [
                {
                  "name": "Place_Id",
                  "dtype": "int64",
                  "stats": {
                    "unique_count": 5,
                    "nan_count": 0,
                    "min": "1",
                    "max": "5",
                    "histogram": [
                      {
                        "bin_start": 1,
                        "bin_end": 1.4,
                        "count": 1
                      },
                      {
                        "bin_start": 1.4,
                        "bin_end": 1.8,
                        "count": 0
                      },
                      {
                        "bin_start": 1.8,
                        "bin_end": 2.2,
                        "count": 1
                      },
                      {
                        "bin_start": 2.2,
                        "bin_end": 2.6,
                        "count": 0
                      },
                      {
                        "bin_start": 2.6,
                        "bin_end": 3,
                        "count": 0
                      },
                      {
                        "bin_start": 3,
                        "bin_end": 3.4000000000000004,
                        "count": 1
                      },
                      {
                        "bin_start": 3.4000000000000004,
                        "bin_end": 3.8000000000000003,
                        "count": 0
                      },
                      {
                        "bin_start": 3.8000000000000003,
                        "bin_end": 4.2,
                        "count": 1
                      },
                      {
                        "bin_start": 4.2,
                        "bin_end": 4.6,
                        "count": 0
                      },
                      {
                        "bin_start": 4.6,
                        "bin_end": 5,
                        "count": 1
                      }
                    ]
                  }
                },
                {
                  "name": "Place_Name",
                  "dtype": "object",
                  "stats": {
                    "unique_count": 5,
                    "nan_count": 0,
                    "categories": [
                      {
                        "name": "Monumen Nasional",
                        "count": 1
                      },
                      {
                        "name": "Kota Tua",
                        "count": 1
                      },
                      {
                        "name": "3 others",
                        "count": 3
                      }
                    ]
                  }
                },
                {
                  "name": "Description",
                  "dtype": "object",
                  "stats": {
                    "unique_count": 5,
                    "nan_count": 0,
                    "categories": [
                      {
                        "name": "Monumen Nasional atau yang populer disingkat dengan Monas atau Tugu Monas adalah monumen peringatan setinggi 132 meter (433 kaki) yang didirikan untuk mengenang perlawanan dan perjuangan rakyat Indonesia untuk merebut kemerdekaan dari pemerintahan kolonial Hindia Belanda. Pembangunan monumen ini dimulai pada tanggal 17 Agustus 1961 di bawah perintah presiden Soekarno dan dibuka untuk umum pada tanggal 12 Juli 1975. Tugu ini dimahkotai lidah api yang dilapisi lembaran emas yang melambangkan semangat perjuangan yang menyala-nyala. Monumen Nasional terletak tepat di tengah Lapangan Medan Merdeka, Jakarta Pusat.",
                        "count": 1
                      },
                      {
                        "name": "Kota tua di Jakarta, yang juga bernama Kota Tua, berpusat di Alun-Alun Fatahillah, yaitu alun-alun yang ramai dengan pertunjukan rutin tarian tradisional. Museum Sejarah Jakarta adalah bangunan era Belanda dengan lukisan dan barang antik, sedangkan Museum Wayang memamerkan boneka kayu khas Jawa. Desa Glodok, atau Chinatown, terkenal dengan makanan kaki lima, seperti pangsit dan mi goreng. Di dekatnya, terdapat sekunar dan kapal penangkap ikan di pelabuhan Sunda Kelapa yang kuno",
                        "count": 1
                      },
                      {
                        "name": "3 others",
                        "count": 3
                      }
                    ]
                  }
                },
                {
                  "name": "Category",
                  "dtype": "object",
                  "stats": {
                    "unique_count": 2,
                    "nan_count": 0,
                    "categories": [
                      {
                        "name": "Taman Hiburan",
                        "count": 3
                      },
                      {
                        "name": "Budaya",
                        "count": 2
                      }
                    ]
                  }
                },
                {
                  "name": "City",
                  "dtype": "object",
                  "stats": {
                    "unique_count": 1,
                    "nan_count": 0,
                    "categories": [
                      {
                        "name": "Jakarta",
                        "count": 5
                      }
                    ]
                  }
                },
                {
                  "name": "Price",
                  "dtype": "float64",
                  "stats": {
                    "unique_count": 5,
                    "nan_count": 0,
                    "min": "10000.0",
                    "max": "270000.0",
                    "histogram": [
                      {
                        "bin_start": 10000,
                        "bin_end": 36000,
                        "count": 2
                      },
                      {
                        "bin_start": 36000,
                        "bin_end": 62000,
                        "count": 0
                      },
                      {
                        "bin_start": 62000,
                        "bin_end": 88000,
                        "count": 1
                      },
                      {
                        "bin_start": 88000,
                        "bin_end": 114000,
                        "count": 1
                      },
                      {
                        "bin_start": 114000,
                        "bin_end": 140000,
                        "count": 0
                      },
                      {
                        "bin_start": 140000,
                        "bin_end": 166000,
                        "count": 0
                      },
                      {
                        "bin_start": 166000,
                        "bin_end": 192000,
                        "count": 0
                      },
                      {
                        "bin_start": 192000,
                        "bin_end": 218000,
                        "count": 0
                      },
                      {
                        "bin_start": 218000,
                        "bin_end": 244000,
                        "count": 0
                      },
                      {
                        "bin_start": 244000,
                        "bin_end": 270000,
                        "count": 1
                      }
                    ]
                  }
                },
                {
                  "name": "Rating",
                  "dtype": "float64",
                  "stats": {
                    "unique_count": 2,
                    "nan_count": 0,
                    "min": "4.5",
                    "max": "4.6",
                    "histogram": [
                      {
                        "bin_start": 4.5,
                        "bin_end": 4.51,
                        "count": 2
                      },
                      {
                        "bin_start": 4.51,
                        "bin_end": 4.52,
                        "count": 0
                      },
                      {
                        "bin_start": 4.52,
                        "bin_end": 4.53,
                        "count": 0
                      },
                      {
                        "bin_start": 4.53,
                        "bin_end": 4.54,
                        "count": 0
                      },
                      {
                        "bin_start": 4.54,
                        "bin_end": 4.55,
                        "count": 0
                      },
                      {
                        "bin_start": 4.55,
                        "bin_end": 4.56,
                        "count": 0
                      },
                      {
                        "bin_start": 4.56,
                        "bin_end": 4.569999999999999,
                        "count": 0
                      },
                      {
                        "bin_start": 4.569999999999999,
                        "bin_end": 4.58,
                        "count": 0
                      },
                      {
                        "bin_start": 4.58,
                        "bin_end": 4.59,
                        "count": 0
                      },
                      {
                        "bin_start": 4.59,
                        "bin_end": 4.6,
                        "count": 3
                      }
                    ]
                  }
                },
                {
                  "name": "Time_Minutes",
                  "dtype": "float64",
                  "stats": {
                    "unique_count": 5,
                    "nan_count": 0,
                    "min": "15.0",
                    "max": "360.0",
                    "histogram": [
                      {
                        "bin_start": 15,
                        "bin_end": 49.5,
                        "count": 1
                      },
                      {
                        "bin_start": 49.5,
                        "bin_end": 84,
                        "count": 1
                      },
                      {
                        "bin_start": 84,
                        "bin_end": 118.5,
                        "count": 2
                      },
                      {
                        "bin_start": 118.5,
                        "bin_end": 153,
                        "count": 0
                      },
                      {
                        "bin_start": 153,
                        "bin_end": 187.5,
                        "count": 0
                      },
                      {
                        "bin_start": 187.5,
                        "bin_end": 222,
                        "count": 0
                      },
                      {
                        "bin_start": 222,
                        "bin_end": 256.5,
                        "count": 0
                      },
                      {
                        "bin_start": 256.5,
                        "bin_end": 291,
                        "count": 0
                      },
                      {
                        "bin_start": 291,
                        "bin_end": 325.5,
                        "count": 0
                      },
                      {
                        "bin_start": 325.5,
                        "bin_end": 360,
                        "count": 1
                      }
                    ]
                  }
                },
                {
                  "name": "Coordinate",
                  "dtype": "object",
                  "stats": {
                    "unique_count": 5,
                    "nan_count": 0,
                    "categories": [
                      {
                        "name": "{'lat': -6.1753924, 'lng': 106.8271528}",
                        "count": 1
                      },
                      {
                        "name": "{'lat': -6.137644799999999, 'lng': 106.8171245}",
                        "count": 1
                      },
                      {
                        "name": "3 others",
                        "count": 3
                      }
                    ]
                  }
                },
                {
                  "name": "Lat",
                  "dtype": "float64",
                  "stats": {
                    "unique_count": 5,
                    "nan_count": 0,
                    "min": "-6.3024459",
                    "max": "-6.12419",
                    "histogram": [
                      {
                        "bin_start": -6.3024459,
                        "bin_end": -6.28462031,
                        "count": 1
                      },
                      {
                        "bin_start": -6.28462031,
                        "bin_end": -6.26679472,
                        "count": 0
                      },
                      {
                        "bin_start": -6.26679472,
                        "bin_end": -6.24896913,
                        "count": 0
                      },
                      {
                        "bin_start": -6.24896913,
                        "bin_end": -6.23114354,
                        "count": 0
                      },
                      {
                        "bin_start": -6.23114354,
                        "bin_end": -6.21331795,
                        "count": 0
                      },
                      {
                        "bin_start": -6.21331795,
                        "bin_end": -6.19549236,
                        "count": 0
                      },
                      {
                        "bin_start": -6.19549236,
                        "bin_end": -6.17766677,
                        "count": 0
                      },
                      {
                        "bin_start": -6.17766677,
                        "bin_end": -6.15984118,
                        "count": 1
                      },
                      {
                        "bin_start": -6.15984118,
                        "bin_end": -6.14201559,
                        "count": 0
                      },
                      {
                        "bin_start": -6.14201559,
                        "bin_end": -6.12419,
                        "count": 3
                      }
                    ]
                  }
                },
                {
                  "name": "Long",
                  "dtype": "float64",
                  "stats": {
                    "unique_count": 5,
                    "nan_count": 0,
                    "min": "106.8171245",
                    "max": "106.8951559",
                    "histogram": [
                      {
                        "bin_start": 106.8171245,
                        "bin_end": 106.82492764,
                        "count": 1
                      },
                      {
                        "bin_start": 106.82492764,
                        "bin_end": 106.83273078,
                        "count": 1
                      },
                      {
                        "bin_start": 106.83273078,
                        "bin_end": 106.84053392000001,
                        "count": 2
                      },
                      {
                        "bin_start": 106.84053392000001,
                        "bin_end": 106.84833706,
                        "count": 0
                      },
                      {
                        "bin_start": 106.84833706,
                        "bin_end": 106.8561402,
                        "count": 0
                      },
                      {
                        "bin_start": 106.8561402,
                        "bin_end": 106.86394334,
                        "count": 0
                      },
                      {
                        "bin_start": 106.86394334,
                        "bin_end": 106.87174648000001,
                        "count": 0
                      },
                      {
                        "bin_start": 106.87174648000001,
                        "bin_end": 106.87954962,
                        "count": 0
                      },
                      {
                        "bin_start": 106.87954962,
                        "bin_end": 106.88735276,
                        "count": 0
                      },
                      {
                        "bin_start": 106.88735276,
                        "bin_end": 106.8951559,
                        "count": 1
                      }
                    ]
                  }
                },
                {
                  "name": "_deepnote_index_column",
                  "dtype": "int64"
                }
              ],
              "rows": [
                {
                  "Place_Id": 1,
                  "Place_Name": "Monumen Nasional",
                  "Description": "Monumen Nasional atau yang populer disingkat dengan Monas atau Tugu Monas adalah monumen peringatan setinggi 132 meter (433 kaki) yang didirikan untuk mengenang perlawanan dan perjuangan rakyat Indonesia untuk merebut kemerdekaan dari pemerintahan kolonial Hindia Belanda. Pembangunan monumen ini dimulai pada tanggal 17 Agustus 1961 di bawah perintah presiden Soekarno dan dibuka untuk umum pada tanggal 12 Juli 1975. Tugu ini dimahkotai lidah api yang dilapisi lembaran emas yang melambangkan semangat perjuangan yang menyala-nyala. Monumen Nasional terletak tepat di tengah Lapangan Medan Merdeka, Jakarta Pusat.",
                  "Category": "Budaya",
                  "City": "Jakarta",
                  "Price": 20000,
                  "Rating": 4.6,
                  "Time_Minutes": 15,
                  "Coordinate": "{'lat': -6.1753924, 'lng': 106.8271528}",
                  "Lat": -6.1753924,
                  "Long": 106.8271528,
                  "_deepnote_index_column": 0
                },
                {
                  "Place_Id": 2,
                  "Place_Name": "Kota Tua",
                  "Description": "Kota tua di Jakarta, yang juga bernama Kota Tua, berpusat di Alun-Alun Fatahillah, yaitu alun-alun yang ramai dengan pertunjukan rutin tarian tradisional. Museum Sejarah Jakarta adalah bangunan era Belanda dengan lukisan dan barang antik, sedangkan Museum Wayang memamerkan boneka kayu khas Jawa. Desa Glodok, atau Chinatown, terkenal dengan makanan kaki lima, seperti pangsit dan mi goreng. Di dekatnya, terdapat sekunar dan kapal penangkap ikan di pelabuhan Sunda Kelapa yang kuno",
                  "Category": "Budaya",
                  "City": "Jakarta",
                  "Price": 72904,
                  "Rating": 4.6,
                  "Time_Minutes": 90,
                  "Coordinate": "{'lat': -6.137644799999999, 'lng': 106.8171245}",
                  "Lat": -6.1376448,
                  "Long": 106.8171245,
                  "_deepnote_index_column": 1
                },
                {
                  "Place_Id": 3,
                  "Place_Name": "Dunia Fantasi",
                  "Description": "Dunia Fantasi atau disebut juga Dufan adalah tempat hiburan yang terletak di kawasan Taman Impian Jaya Ancol, Jakarta Utara, Indonesia. Dufan diresmikan dan dibuka pada tanggal 29 Agustus 1985.",
                  "Category": "Taman Hiburan",
                  "City": "Jakarta",
                  "Price": 270000,
                  "Rating": 4.6,
                  "Time_Minutes": 360,
                  "Coordinate": "{'lat': -6.125312399999999, 'lng': 106.8335377}",
                  "Lat": -6.1253124,
                  "Long": 106.8335377,
                  "_deepnote_index_column": 2
                },
                {
                  "Place_Id": 4,
                  "Place_Name": "Taman Mini Indonesia Indah (TMII)",
                  "Description": "Taman Mini Indonesia Indah merupakan suatu kawasan taman wisata bertema budaya Indonesia di Jakarta Timur. Area seluas kurang lebih 150 hektare atau 1,5 kilometer persegi ini terletak pada koordinat 6°18′6.8″LS,106°53′47.2″BT",
                  "Category": "Taman Hiburan",
                  "City": "Jakarta",
                  "Price": 10000,
                  "Rating": 4.5,
                  "Time_Minutes": 99,
                  "Coordinate": "{'lat': -6.302445899999999, 'lng': 106.8951559}",
                  "Lat": -6.3024459,
                  "Long": 106.8951559,
                  "_deepnote_index_column": 3
                },
                {
                  "Place_Id": 5,
                  "Place_Name": "Atlantis Water Adventure",
                  "Description": "Atlantis Water Adventure atau dikenal dengan Atlantis Ancol akan menyuguhkan petualangan wisata air tak terlupakan. Tempat Wisata bertemakan permainan air dengan luas 5 hektar ini memberi sensasi petualangan di 8 kolam utama. Yaitu kolam Antila, Plaza Atlas, Poseidon, Aquarius, Octopus, Kiddy Pool, dan Atlantean. Berlokasi di kawasan Ancol Jakarta Baycity, Atlantis bisa menjadi pilihan destinasi yang pas untuk wisata berenang.",
                  "Category": "Taman Hiburan",
                  "City": "Jakarta",
                  "Price": 94000,
                  "Rating": 4.5,
                  "Time_Minutes": 60,
                  "Coordinate": "{'lat': -6.12419, 'lng': 106.839134}",
                  "Lat": -6.12419,
                  "Long": 106.839134,
                  "_deepnote_index_column": 4
                }
              ]
            },
            "text/plain": "   Place_Id                         Place_Name  \\\n0         1                   Monumen Nasional   \n1         2                           Kota Tua   \n2         3                      Dunia Fantasi   \n3         4  Taman Mini Indonesia Indah (TMII)   \n4         5           Atlantis Water Adventure   \n\n                                         Description       Category     City  \\\n0  Monumen Nasional atau yang populer disingkat d...         Budaya  Jakarta   \n1  Kota tua di Jakarta, yang juga bernama Kota Tu...         Budaya  Jakarta   \n2  Dunia Fantasi atau disebut juga Dufan adalah t...  Taman Hiburan  Jakarta   \n3  Taman Mini Indonesia Indah merupakan suatu kaw...  Taman Hiburan  Jakarta   \n4  Atlantis Water Adventure atau dikenal dengan A...  Taman Hiburan  Jakarta   \n\n      Price  Rating  Time_Minutes  \\\n0   20000.0     4.6          15.0   \n1   72904.0     4.6          90.0   \n2  270000.0     4.6         360.0   \n3   10000.0     4.5          99.0   \n4   94000.0     4.5          60.0   \n\n                                        Coordinate       Lat        Long  \n0          {'lat': -6.1753924, 'lng': 106.8271528} -6.175392  106.827153  \n1  {'lat': -6.137644799999999, 'lng': 106.8171245} -6.137645  106.817125  \n2  {'lat': -6.125312399999999, 'lng': 106.8335377} -6.125312  106.833538  \n3  {'lat': -6.302445899999999, 'lng': 106.8951559} -6.302446  106.895156  \n4             {'lat': -6.12419, 'lng': 106.839134} -6.124190  106.839134  ",
            "text/html": "<div>\n<style scoped>\n    .dataframe tbody tr th:only-of-type {\n        vertical-align: middle;\n    }\n\n    .dataframe tbody tr th {\n        vertical-align: top;\n    }\n\n    .dataframe thead th {\n        text-align: right;\n    }\n</style>\n<table border=\"1\" class=\"dataframe\">\n  <thead>\n    <tr style=\"text-align: right;\">\n      <th></th>\n      <th>Place_Id</th>\n      <th>Place_Name</th>\n      <th>Description</th>\n      <th>Category</th>\n      <th>City</th>\n      <th>Price</th>\n      <th>Rating</th>\n      <th>Time_Minutes</th>\n      <th>Coordinate</th>\n      <th>Lat</th>\n      <th>Long</th>\n    </tr>\n  </thead>\n  <tbody>\n    <tr>\n      <th>0</th>\n      <td>1</td>\n      <td>Monumen Nasional</td>\n      <td>Monumen Nasional atau yang populer disingkat d...</td>\n      <td>Budaya</td>\n      <td>Jakarta</td>\n      <td>20000.0</td>\n      <td>4.6</td>\n      <td>15.0</td>\n      <td>{'lat': -6.1753924, 'lng': 106.8271528}</td>\n      <td>-6.175392</td>\n      <td>106.827153</td>\n    </tr>\n    <tr>\n      <th>1</th>\n      <td>2</td>\n      <td>Kota Tua</td>\n      <td>Kota tua di Jakarta, yang juga bernama Kota Tu...</td>\n      <td>Budaya</td>\n      <td>Jakarta</td>\n      <td>72904.0</td>\n      <td>4.6</td>\n      <td>90.0</td>\n      <td>{'lat': -6.137644799999999, 'lng': 106.8171245}</td>\n      <td>-6.137645</td>\n      <td>106.817125</td>\n    </tr>\n    <tr>\n      <th>2</th>\n      <td>3</td>\n      <td>Dunia Fantasi</td>\n      <td>Dunia Fantasi atau disebut juga Dufan adalah t...</td>\n      <td>Taman Hiburan</td>\n      <td>Jakarta</td>\n      <td>270000.0</td>\n      <td>4.6</td>\n      <td>360.0</td>\n      <td>{'lat': -6.125312399999999, 'lng': 106.8335377}</td>\n      <td>-6.125312</td>\n      <td>106.833538</td>\n    </tr>\n    <tr>\n      <th>3</th>\n      <td>4</td>\n      <td>Taman Mini Indonesia Indah (TMII)</td>\n      <td>Taman Mini Indonesia Indah merupakan suatu kaw...</td>\n      <td>Taman Hiburan</td>\n      <td>Jakarta</td>\n      <td>10000.0</td>\n      <td>4.5</td>\n      <td>99.0</td>\n      <td>{'lat': -6.302445899999999, 'lng': 106.8951559}</td>\n      <td>-6.302446</td>\n      <td>106.895156</td>\n    </tr>\n    <tr>\n      <th>4</th>\n      <td>5</td>\n      <td>Atlantis Water Adventure</td>\n      <td>Atlantis Water Adventure atau dikenal dengan A...</td>\n      <td>Taman Hiburan</td>\n      <td>Jakarta</td>\n      <td>94000.0</td>\n      <td>4.5</td>\n      <td>60.0</td>\n      <td>{'lat': -6.12419, 'lng': 106.839134}</td>\n      <td>-6.124190</td>\n      <td>106.839134</td>\n    </tr>\n  </tbody>\n</table>\n</div>"
          },
          "metadata": {}
        }
      ]
    },
    {
      "cell_type": "markdown",
      "source": [
        "Menghapus kolom yang tidak digunakan dalam proses machine learning. Disini kita menghapus 6 kolom yaitu Place_Id,&nbsp;Place_Name,&nbsp;Description, Coordinate, Lat, Long"
      ],
      "metadata": {
        "formattedRanges": [],
        "cell_id": "1adf145d758e4f56af76762013b5fa0a",
        "tags": [],
        "is_collapsed": false,
        "deepnote_cell_type": "text-cell-p",
        "id": "x_doXsU32m7F"
      }
    },
    {
      "cell_type": "code",
      "metadata": {
        "cell_id": "36e530c5cca94518a4b94dc70b6980f6",
        "tags": [],
        "deepnote_to_be_reexecuted": false,
        "source_hash": "6496f72f",
        "execution_start": 1656166068226,
        "execution_millis": 2,
        "deepnote_cell_type": "code",
        "deepnote_cell_height": 81,
        "id": "lbwgVhL42m7H"
      },
      "source": [
        "data.drop(['Place_Id', 'Place_Name', 'Description','Coordinate','Lat','Long'], axis=1, inplace=True)"
      ],
      "execution_count": null,
      "outputs": []
    },
    {
      "cell_type": "markdown",
      "source": [
        "Kolom yang digunakan dalam proses machine learning yaitu Category, City, Price, Rating, Time_Minutes"
      ],
      "metadata": {
        "formattedRanges": [],
        "cell_id": "af8887e4277f4c4eb661036566758b15",
        "tags": [],
        "is_collapsed": false,
        "deepnote_cell_type": "text-cell-p",
        "id": "_Lrp8s8L2m7I"
      }
    },
    {
      "cell_type": "code",
      "metadata": {
        "cell_id": "e9551208d3d44dcf98946d7c1187a153",
        "tags": [],
        "deepnote_to_be_reexecuted": false,
        "source_hash": "e6928a8f",
        "execution_start": 1656166068228,
        "execution_millis": 55,
        "deepnote_cell_type": "code",
        "deepnote_cell_height": 600,
        "id": "VS3Jba052m7I",
        "outputId": "bb3c0ead-7125-455b-b652-a507338e4116"
      },
      "source": [
        "data"
      ],
      "execution_count": null,
      "outputs": [
        {
          "output_type": "execute_result",
          "execution_count": 37,
          "data": {
            "application/vnd.deepnote.dataframe.v3+json": {
              "column_count": 5,
              "row_count": 437,
              "columns": [
                {
                  "name": "Category",
                  "dtype": "object",
                  "stats": {
                    "unique_count": 6,
                    "nan_count": 0,
                    "categories": [
                      {
                        "name": "Taman Hiburan",
                        "count": 135
                      },
                      {
                        "name": "Budaya",
                        "count": 117
                      },
                      {
                        "name": "4 others",
                        "count": 185
                      }
                    ]
                  }
                },
                {
                  "name": "City",
                  "dtype": "object",
                  "stats": {
                    "unique_count": 5,
                    "nan_count": 0,
                    "categories": [
                      {
                        "name": "Yogyakarta",
                        "count": 126
                      },
                      {
                        "name": "Bandung",
                        "count": 124
                      },
                      {
                        "name": "3 others",
                        "count": 187
                      }
                    ]
                  }
                },
                {
                  "name": "Price",
                  "dtype": "float64",
                  "stats": {
                    "unique_count": 54,
                    "nan_count": 0,
                    "min": "1000.0",
                    "max": "900000.0",
                    "histogram": [
                      {
                        "bin_start": 1000,
                        "bin_end": 90900,
                        "count": 408
                      },
                      {
                        "bin_start": 90900,
                        "bin_end": 180800,
                        "count": 17
                      },
                      {
                        "bin_start": 180800,
                        "bin_end": 270700,
                        "count": 7
                      },
                      {
                        "bin_start": 270700,
                        "bin_end": 360600,
                        "count": 2
                      },
                      {
                        "bin_start": 360600,
                        "bin_end": 450500,
                        "count": 1
                      },
                      {
                        "bin_start": 450500,
                        "bin_end": 540400,
                        "count": 1
                      },
                      {
                        "bin_start": 540400,
                        "bin_end": 630300,
                        "count": 0
                      },
                      {
                        "bin_start": 630300,
                        "bin_end": 720200,
                        "count": 0
                      },
                      {
                        "bin_start": 720200,
                        "bin_end": 810100,
                        "count": 0
                      },
                      {
                        "bin_start": 810100,
                        "bin_end": 900000,
                        "count": 1
                      }
                    ]
                  }
                },
                {
                  "name": "Rating",
                  "dtype": "float64",
                  "stats": {
                    "unique_count": 14,
                    "nan_count": 0,
                    "min": "3.4",
                    "max": "5.0",
                    "histogram": [
                      {
                        "bin_start": 3.4,
                        "bin_end": 3.56,
                        "count": 1
                      },
                      {
                        "bin_start": 3.56,
                        "bin_end": 3.7199999999999998,
                        "count": 0
                      },
                      {
                        "bin_start": 3.7199999999999998,
                        "bin_end": 3.88,
                        "count": 2
                      },
                      {
                        "bin_start": 3.88,
                        "bin_end": 4.04,
                        "count": 21
                      },
                      {
                        "bin_start": 4.04,
                        "bin_end": 4.2,
                        "count": 20
                      },
                      {
                        "bin_start": 4.2,
                        "bin_end": 4.359999999999999,
                        "count": 67
                      },
                      {
                        "bin_start": 4.359999999999999,
                        "bin_end": 4.52,
                        "count": 196
                      },
                      {
                        "bin_start": 4.52,
                        "bin_end": 4.68,
                        "count": 75
                      },
                      {
                        "bin_start": 4.68,
                        "bin_end": 4.84,
                        "count": 47
                      },
                      {
                        "bin_start": 4.84,
                        "bin_end": 5,
                        "count": 8
                      }
                    ]
                  }
                },
                {
                  "name": "Time_Minutes",
                  "dtype": "float64",
                  "stats": {
                    "unique_count": 20,
                    "nan_count": 0,
                    "min": "10.0",
                    "max": "360.0",
                    "histogram": [
                      {
                        "bin_start": 10,
                        "bin_end": 45,
                        "count": 34
                      },
                      {
                        "bin_start": 45,
                        "bin_end": 80,
                        "count": 184
                      },
                      {
                        "bin_start": 80,
                        "bin_end": 115,
                        "count": 164
                      },
                      {
                        "bin_start": 115,
                        "bin_end": 150,
                        "count": 28
                      },
                      {
                        "bin_start": 150,
                        "bin_end": 185,
                        "count": 21
                      },
                      {
                        "bin_start": 185,
                        "bin_end": 220,
                        "count": 2
                      },
                      {
                        "bin_start": 220,
                        "bin_end": 255,
                        "count": 2
                      },
                      {
                        "bin_start": 255,
                        "bin_end": 290,
                        "count": 0
                      },
                      {
                        "bin_start": 290,
                        "bin_end": 325,
                        "count": 1
                      },
                      {
                        "bin_start": 325,
                        "bin_end": 360,
                        "count": 1
                      }
                    ]
                  }
                },
                {
                  "name": "_deepnote_index_column",
                  "dtype": "int64"
                }
              ],
              "rows": [
                {
                  "Category": "Budaya",
                  "City": "Jakarta",
                  "Price": 20000,
                  "Rating": 4.6,
                  "Time_Minutes": 15,
                  "_deepnote_index_column": 0
                },
                {
                  "Category": "Budaya",
                  "City": "Jakarta",
                  "Price": 72904,
                  "Rating": 4.6,
                  "Time_Minutes": 90,
                  "_deepnote_index_column": 1
                },
                {
                  "Category": "Taman Hiburan",
                  "City": "Jakarta",
                  "Price": 270000,
                  "Rating": 4.6,
                  "Time_Minutes": 360,
                  "_deepnote_index_column": 2
                },
                {
                  "Category": "Taman Hiburan",
                  "City": "Jakarta",
                  "Price": 10000,
                  "Rating": 4.5,
                  "Time_Minutes": 99,
                  "_deepnote_index_column": 3
                },
                {
                  "Category": "Taman Hiburan",
                  "City": "Jakarta",
                  "Price": 94000,
                  "Rating": 4.5,
                  "Time_Minutes": 60,
                  "_deepnote_index_column": 4
                },
                {
                  "Category": "Taman Hiburan",
                  "City": "Jakarta",
                  "Price": 25000,
                  "Rating": 4.5,
                  "Time_Minutes": 10,
                  "_deepnote_index_column": 5
                },
                {
                  "Category": "Cagar Alam",
                  "City": "Jakarta",
                  "Price": 4000,
                  "Rating": 4.5,
                  "Time_Minutes": 99,
                  "_deepnote_index_column": 6
                },
                {
                  "Category": "Taman Hiburan",
                  "City": "Jakarta",
                  "Price": 180000,
                  "Rating": 4,
                  "Time_Minutes": 99,
                  "_deepnote_index_column": 7
                },
                {
                  "Category": "Bahari",
                  "City": "Jakarta",
                  "Price": 175000,
                  "Rating": 4.4,
                  "Time_Minutes": 99,
                  "_deepnote_index_column": 8
                },
                {
                  "Category": "Bahari",
                  "City": "Jakarta",
                  "Price": 150000,
                  "Rating": 4.5,
                  "Time_Minutes": 99,
                  "_deepnote_index_column": 9
                }
              ]
            },
            "text/plain": "          Category      City     Price  Rating  Time_Minutes\n0           Budaya   Jakarta   20000.0     4.6          15.0\n1           Budaya   Jakarta   72904.0     4.6          90.0\n2    Taman Hiburan   Jakarta  270000.0     4.6         360.0\n3    Taman Hiburan   Jakarta   10000.0     4.5          99.0\n4    Taman Hiburan   Jakarta   94000.0     4.5          60.0\n..             ...       ...       ...     ...           ...\n432         Budaya  Surabaya    2000.0     4.4          45.0\n433  Taman Hiburan  Surabaya   27588.0     4.6          52.0\n434  Taman Hiburan  Surabaya   27588.0     4.4          45.0\n435  Taman Hiburan  Surabaya   27588.0     4.6          52.0\n436  Tempat Ibadah  Surabaya   10000.0     4.8          52.0\n\n[437 rows x 5 columns]",
            "text/html": "<div>\n<style scoped>\n    .dataframe tbody tr th:only-of-type {\n        vertical-align: middle;\n    }\n\n    .dataframe tbody tr th {\n        vertical-align: top;\n    }\n\n    .dataframe thead th {\n        text-align: right;\n    }\n</style>\n<table border=\"1\" class=\"dataframe\">\n  <thead>\n    <tr style=\"text-align: right;\">\n      <th></th>\n      <th>Category</th>\n      <th>City</th>\n      <th>Price</th>\n      <th>Rating</th>\n      <th>Time_Minutes</th>\n    </tr>\n  </thead>\n  <tbody>\n    <tr>\n      <th>0</th>\n      <td>Budaya</td>\n      <td>Jakarta</td>\n      <td>20000.0</td>\n      <td>4.6</td>\n      <td>15.0</td>\n    </tr>\n    <tr>\n      <th>1</th>\n      <td>Budaya</td>\n      <td>Jakarta</td>\n      <td>72904.0</td>\n      <td>4.6</td>\n      <td>90.0</td>\n    </tr>\n    <tr>\n      <th>2</th>\n      <td>Taman Hiburan</td>\n      <td>Jakarta</td>\n      <td>270000.0</td>\n      <td>4.6</td>\n      <td>360.0</td>\n    </tr>\n    <tr>\n      <th>3</th>\n      <td>Taman Hiburan</td>\n      <td>Jakarta</td>\n      <td>10000.0</td>\n      <td>4.5</td>\n      <td>99.0</td>\n    </tr>\n    <tr>\n      <th>4</th>\n      <td>Taman Hiburan</td>\n      <td>Jakarta</td>\n      <td>94000.0</td>\n      <td>4.5</td>\n      <td>60.0</td>\n    </tr>\n    <tr>\n      <th>...</th>\n      <td>...</td>\n      <td>...</td>\n      <td>...</td>\n      <td>...</td>\n      <td>...</td>\n    </tr>\n    <tr>\n      <th>432</th>\n      <td>Budaya</td>\n      <td>Surabaya</td>\n      <td>2000.0</td>\n      <td>4.4</td>\n      <td>45.0</td>\n    </tr>\n    <tr>\n      <th>433</th>\n      <td>Taman Hiburan</td>\n      <td>Surabaya</td>\n      <td>27588.0</td>\n      <td>4.6</td>\n      <td>52.0</td>\n    </tr>\n    <tr>\n      <th>434</th>\n      <td>Taman Hiburan</td>\n      <td>Surabaya</td>\n      <td>27588.0</td>\n      <td>4.4</td>\n      <td>45.0</td>\n    </tr>\n    <tr>\n      <th>435</th>\n      <td>Taman Hiburan</td>\n      <td>Surabaya</td>\n      <td>27588.0</td>\n      <td>4.6</td>\n      <td>52.0</td>\n    </tr>\n    <tr>\n      <th>436</th>\n      <td>Tempat Ibadah</td>\n      <td>Surabaya</td>\n      <td>10000.0</td>\n      <td>4.8</td>\n      <td>52.0</td>\n    </tr>\n  </tbody>\n</table>\n<p>437 rows × 5 columns</p>\n</div>"
          },
          "metadata": {}
        }
      ]
    },
    {
      "cell_type": "markdown",
      "source": [
        "Pada proses machine learning kita harus melakukan transformasi atau perubahan bentuk data menjadi numeric, kolom yang akan ditransform Category dan City. Pada Category sendiri terdapat 6 Kategori yaitu Budaya (1), Taman Hiburan (2), Cagar Alam (3), Bahari (4), Pusat Perbelanjaan (5), Tempat Ibadah (6)."
      ],
      "metadata": {
        "formattedRanges": [],
        "cell_id": "3904e32823d745afb0616215d9452794",
        "tags": [],
        "is_collapsed": false,
        "deepnote_cell_type": "text-cell-p",
        "id": "xtoS1Iqe2m7J"
      }
    },
    {
      "cell_type": "code",
      "metadata": {
        "cell_id": "76b326a4be8b4084a014bfc1d65752e4",
        "tags": [],
        "deepnote_to_be_reexecuted": false,
        "source_hash": "aadd2ab",
        "execution_start": 1656166068273,
        "execution_millis": 13,
        "deepnote_cell_type": "code",
        "deepnote_cell_height": 171,
        "id": "ORRHFrYC2m7K"
      },
      "source": [
        "data['Category'] = data['Category'].replace('Budaya', 1)\n",
        "data['Category'] = data['Category'].replace('Taman Hiburan', 2)\n",
        "data['Category'] = data['Category'].replace('Cagar Alam', 3)\n",
        "data['Category'] = data['Category'].replace('Bahari', 4)\n",
        "data['Category'] = data['Category'].replace('Pusat Perbelanjaan', 5)\n",
        "data['Category'] = data['Category'].replace('Tempat Ibadah', 6)"
      ],
      "execution_count": null,
      "outputs": []
    },
    {
      "cell_type": "markdown",
      "source": [
        "Pada kolom City sendiri terdiri dari 5 Kota yaitu Jakarta (1), Yogyakarta (2), Bandung (3), Semarang (4) dan Surabaya (5)"
      ],
      "metadata": {
        "formattedRanges": [],
        "cell_id": "ed1c331c4c86411da45a53aa7aaeba9b",
        "tags": [],
        "is_collapsed": false,
        "deepnote_cell_type": "text-cell-p",
        "id": "9YsWwh4L2m7L"
      }
    },
    {
      "cell_type": "code",
      "metadata": {
        "cell_id": "da052a6e3b77460aa24e84dfc4731bb8",
        "tags": [],
        "deepnote_to_be_reexecuted": false,
        "source_hash": "5ce0b7de",
        "execution_start": 1656166068293,
        "execution_millis": 0,
        "deepnote_cell_type": "code",
        "deepnote_cell_height": 153,
        "id": "27ukS9mO2m7M"
      },
      "source": [
        "data['City'] = data['City'].replace('Jakarta', 1)\n",
        "data['City'] = data['City'].replace('Yogyakarta', 2)\n",
        "data['City'] = data['City'].replace('Bandung', 3)\n",
        "data['City'] = data['City'].replace('Semarang', 4)\n",
        "data['City'] = data['City'].replace('Surabaya', 5)"
      ],
      "execution_count": null,
      "outputs": []
    },
    {
      "cell_type": "code",
      "metadata": {
        "cell_id": "a361d8c7ab0a4fa590055bff06cf445f",
        "tags": [],
        "deepnote_to_be_reexecuted": false,
        "source_hash": "cfbbc02e",
        "execution_start": 1656166068294,
        "execution_millis": 2949121,
        "deepnote_cell_type": "code",
        "deepnote_cell_height": 81,
        "id": "m1dlJVfX2m7V"
      },
      "source": [
        "data_copy = data.copy()"
      ],
      "execution_count": null,
      "outputs": []
    },
    {
      "cell_type": "code",
      "metadata": {
        "cell_id": "a72b2181bbd2495880d30c0bc9012c99",
        "tags": [],
        "deepnote_to_be_reexecuted": false,
        "source_hash": "41313cfa",
        "execution_start": 1656166068309,
        "execution_millis": 13,
        "deepnote_table_state": {
          "pageSize": 10,
          "pageIndex": 0,
          "filters": [],
          "sortBy": []
        },
        "deepnote_table_loading": false,
        "deepnote_cell_type": "code",
        "deepnote_cell_height": 395,
        "id": "6ieDlVwG2m7X",
        "outputId": "0716d204-fe89-461f-a79a-0c59f56a41ed"
      },
      "source": [
        "data.head()"
      ],
      "execution_count": null,
      "outputs": [
        {
          "output_type": "execute_result",
          "execution_count": 41,
          "data": {
            "application/vnd.deepnote.dataframe.v3+json": {
              "column_count": 5,
              "row_count": 5,
              "columns": [
                {
                  "name": "Category",
                  "dtype": "int64",
                  "stats": {
                    "unique_count": 2,
                    "nan_count": 0,
                    "min": "1",
                    "max": "2",
                    "histogram": [
                      {
                        "bin_start": 1,
                        "bin_end": 1.1,
                        "count": 2
                      },
                      {
                        "bin_start": 1.1,
                        "bin_end": 1.2,
                        "count": 0
                      },
                      {
                        "bin_start": 1.2,
                        "bin_end": 1.3,
                        "count": 0
                      },
                      {
                        "bin_start": 1.3,
                        "bin_end": 1.4,
                        "count": 0
                      },
                      {
                        "bin_start": 1.4,
                        "bin_end": 1.5,
                        "count": 0
                      },
                      {
                        "bin_start": 1.5,
                        "bin_end": 1.6,
                        "count": 0
                      },
                      {
                        "bin_start": 1.6,
                        "bin_end": 1.7000000000000002,
                        "count": 0
                      },
                      {
                        "bin_start": 1.7000000000000002,
                        "bin_end": 1.8,
                        "count": 0
                      },
                      {
                        "bin_start": 1.8,
                        "bin_end": 1.9,
                        "count": 0
                      },
                      {
                        "bin_start": 1.9,
                        "bin_end": 2,
                        "count": 3
                      }
                    ]
                  }
                },
                {
                  "name": "City",
                  "dtype": "int64",
                  "stats": {
                    "unique_count": 1,
                    "nan_count": 0,
                    "min": "1",
                    "max": "1",
                    "histogram": [
                      {
                        "bin_start": 0.5,
                        "bin_end": 0.6,
                        "count": 0
                      },
                      {
                        "bin_start": 0.6,
                        "bin_end": 0.7,
                        "count": 0
                      },
                      {
                        "bin_start": 0.7,
                        "bin_end": 0.8,
                        "count": 0
                      },
                      {
                        "bin_start": 0.8,
                        "bin_end": 0.9,
                        "count": 0
                      },
                      {
                        "bin_start": 0.9,
                        "bin_end": 1,
                        "count": 0
                      },
                      {
                        "bin_start": 1,
                        "bin_end": 1.1,
                        "count": 5
                      },
                      {
                        "bin_start": 1.1,
                        "bin_end": 1.2000000000000002,
                        "count": 0
                      },
                      {
                        "bin_start": 1.2000000000000002,
                        "bin_end": 1.3,
                        "count": 0
                      },
                      {
                        "bin_start": 1.3,
                        "bin_end": 1.4,
                        "count": 0
                      },
                      {
                        "bin_start": 1.4,
                        "bin_end": 1.5,
                        "count": 0
                      }
                    ]
                  }
                },
                {
                  "name": "Price",
                  "dtype": "float64",
                  "stats": {
                    "unique_count": 5,
                    "nan_count": 0,
                    "min": "10000.0",
                    "max": "270000.0",
                    "histogram": [
                      {
                        "bin_start": 10000,
                        "bin_end": 36000,
                        "count": 2
                      },
                      {
                        "bin_start": 36000,
                        "bin_end": 62000,
                        "count": 0
                      },
                      {
                        "bin_start": 62000,
                        "bin_end": 88000,
                        "count": 1
                      },
                      {
                        "bin_start": 88000,
                        "bin_end": 114000,
                        "count": 1
                      },
                      {
                        "bin_start": 114000,
                        "bin_end": 140000,
                        "count": 0
                      },
                      {
                        "bin_start": 140000,
                        "bin_end": 166000,
                        "count": 0
                      },
                      {
                        "bin_start": 166000,
                        "bin_end": 192000,
                        "count": 0
                      },
                      {
                        "bin_start": 192000,
                        "bin_end": 218000,
                        "count": 0
                      },
                      {
                        "bin_start": 218000,
                        "bin_end": 244000,
                        "count": 0
                      },
                      {
                        "bin_start": 244000,
                        "bin_end": 270000,
                        "count": 1
                      }
                    ]
                  }
                },
                {
                  "name": "Rating",
                  "dtype": "float64",
                  "stats": {
                    "unique_count": 2,
                    "nan_count": 0,
                    "min": "4.5",
                    "max": "4.6",
                    "histogram": [
                      {
                        "bin_start": 4.5,
                        "bin_end": 4.51,
                        "count": 2
                      },
                      {
                        "bin_start": 4.51,
                        "bin_end": 4.52,
                        "count": 0
                      },
                      {
                        "bin_start": 4.52,
                        "bin_end": 4.53,
                        "count": 0
                      },
                      {
                        "bin_start": 4.53,
                        "bin_end": 4.54,
                        "count": 0
                      },
                      {
                        "bin_start": 4.54,
                        "bin_end": 4.55,
                        "count": 0
                      },
                      {
                        "bin_start": 4.55,
                        "bin_end": 4.56,
                        "count": 0
                      },
                      {
                        "bin_start": 4.56,
                        "bin_end": 4.569999999999999,
                        "count": 0
                      },
                      {
                        "bin_start": 4.569999999999999,
                        "bin_end": 4.58,
                        "count": 0
                      },
                      {
                        "bin_start": 4.58,
                        "bin_end": 4.59,
                        "count": 0
                      },
                      {
                        "bin_start": 4.59,
                        "bin_end": 4.6,
                        "count": 3
                      }
                    ]
                  }
                },
                {
                  "name": "Time_Minutes",
                  "dtype": "float64",
                  "stats": {
                    "unique_count": 5,
                    "nan_count": 0,
                    "min": "15.0",
                    "max": "360.0",
                    "histogram": [
                      {
                        "bin_start": 15,
                        "bin_end": 49.5,
                        "count": 1
                      },
                      {
                        "bin_start": 49.5,
                        "bin_end": 84,
                        "count": 1
                      },
                      {
                        "bin_start": 84,
                        "bin_end": 118.5,
                        "count": 2
                      },
                      {
                        "bin_start": 118.5,
                        "bin_end": 153,
                        "count": 0
                      },
                      {
                        "bin_start": 153,
                        "bin_end": 187.5,
                        "count": 0
                      },
                      {
                        "bin_start": 187.5,
                        "bin_end": 222,
                        "count": 0
                      },
                      {
                        "bin_start": 222,
                        "bin_end": 256.5,
                        "count": 0
                      },
                      {
                        "bin_start": 256.5,
                        "bin_end": 291,
                        "count": 0
                      },
                      {
                        "bin_start": 291,
                        "bin_end": 325.5,
                        "count": 0
                      },
                      {
                        "bin_start": 325.5,
                        "bin_end": 360,
                        "count": 1
                      }
                    ]
                  }
                },
                {
                  "name": "_deepnote_index_column",
                  "dtype": "int64"
                }
              ],
              "rows": [
                {
                  "Category": 1,
                  "City": 1,
                  "Price": 20000,
                  "Rating": 4.6,
                  "Time_Minutes": 15,
                  "_deepnote_index_column": 0
                },
                {
                  "Category": 1,
                  "City": 1,
                  "Price": 72904,
                  "Rating": 4.6,
                  "Time_Minutes": 90,
                  "_deepnote_index_column": 1
                },
                {
                  "Category": 2,
                  "City": 1,
                  "Price": 270000,
                  "Rating": 4.6,
                  "Time_Minutes": 360,
                  "_deepnote_index_column": 2
                },
                {
                  "Category": 2,
                  "City": 1,
                  "Price": 10000,
                  "Rating": 4.5,
                  "Time_Minutes": 99,
                  "_deepnote_index_column": 3
                },
                {
                  "Category": 2,
                  "City": 1,
                  "Price": 94000,
                  "Rating": 4.5,
                  "Time_Minutes": 60,
                  "_deepnote_index_column": 4
                }
              ]
            },
            "text/plain": "   Category  City     Price  Rating  Time_Minutes\n0         1     1   20000.0     4.6          15.0\n1         1     1   72904.0     4.6          90.0\n2         2     1  270000.0     4.6         360.0\n3         2     1   10000.0     4.5          99.0\n4         2     1   94000.0     4.5          60.0",
            "text/html": "<div>\n<style scoped>\n    .dataframe tbody tr th:only-of-type {\n        vertical-align: middle;\n    }\n\n    .dataframe tbody tr th {\n        vertical-align: top;\n    }\n\n    .dataframe thead th {\n        text-align: right;\n    }\n</style>\n<table border=\"1\" class=\"dataframe\">\n  <thead>\n    <tr style=\"text-align: right;\">\n      <th></th>\n      <th>Category</th>\n      <th>City</th>\n      <th>Price</th>\n      <th>Rating</th>\n      <th>Time_Minutes</th>\n    </tr>\n  </thead>\n  <tbody>\n    <tr>\n      <th>0</th>\n      <td>1</td>\n      <td>1</td>\n      <td>20000.0</td>\n      <td>4.6</td>\n      <td>15.0</td>\n    </tr>\n    <tr>\n      <th>1</th>\n      <td>1</td>\n      <td>1</td>\n      <td>72904.0</td>\n      <td>4.6</td>\n      <td>90.0</td>\n    </tr>\n    <tr>\n      <th>2</th>\n      <td>2</td>\n      <td>1</td>\n      <td>270000.0</td>\n      <td>4.6</td>\n      <td>360.0</td>\n    </tr>\n    <tr>\n      <th>3</th>\n      <td>2</td>\n      <td>1</td>\n      <td>10000.0</td>\n      <td>4.5</td>\n      <td>99.0</td>\n    </tr>\n    <tr>\n      <th>4</th>\n      <td>2</td>\n      <td>1</td>\n      <td>94000.0</td>\n      <td>4.5</td>\n      <td>60.0</td>\n    </tr>\n  </tbody>\n</table>\n</div>"
          },
          "metadata": {}
        }
      ]
    },
    {
      "cell_type": "markdown",
      "source": [
        "## Clustering K-Means"
      ],
      "metadata": {
        "formattedRanges": [],
        "cell_id": "4350589698964321af89c5eb699bf61c",
        "tags": [],
        "is_collapsed": false,
        "deepnote_cell_type": "text-cell-h2",
        "id": "L9shSUqq2m7Y"
      }
    },
    {
      "cell_type": "code",
      "metadata": {
        "cell_id": "f5190e225e5446009e2c57de27494f11",
        "tags": [],
        "deepnote_to_be_reexecuted": false,
        "source_hash": "cd3ceadb",
        "execution_start": 1656166068322,
        "execution_millis": 4,
        "deepnote_cell_type": "code",
        "deepnote_cell_height": 99,
        "id": "aXENFDrj2m7a"
      },
      "source": [
        "ms = MinMaxScaler()\n",
        "feature_mms = ms.fit_transform(data)"
      ],
      "execution_count": null,
      "outputs": []
    },
    {
      "cell_type": "code",
      "metadata": {
        "cell_id": "bbb66e3c6270410f9b4cf0923168a364",
        "tags": [],
        "deepnote_to_be_reexecuted": false,
        "source_hash": "65aacd56",
        "execution_start": 1656166068331,
        "execution_millis": 5,
        "deepnote_cell_type": "code",
        "deepnote_cell_height": 81,
        "id": "8zYubo9p2m7b"
      },
      "source": [
        "data = pd.DataFrame(feature_mms, columns=['Category', 'City', 'Price', 'Rating', 'Time_Minutes'])"
      ],
      "execution_count": null,
      "outputs": []
    },
    {
      "cell_type": "code",
      "metadata": {
        "cell_id": "c364c0e401574043b6a51037aa91ee40",
        "tags": [],
        "deepnote_to_be_reexecuted": false,
        "source_hash": "2d4cec7e",
        "execution_start": 1656166068338,
        "execution_millis": 59,
        "deepnote_cell_type": "code",
        "deepnote_cell_height": 537.9375,
        "deepnote_output_heights": [
          404.9375
        ],
        "id": "OhpB1JwN2m7b",
        "outputId": "44934024-a4b4-4eae-a7f8-73fef2e50b89"
      },
      "source": [
        "kmeans = KMeans(n_clusters = 5)\n",
        "kmeans.fit(feature_mms)\n",
        "kmeans.labels_"
      ],
      "execution_count": null,
      "outputs": [
        {
          "output_type": "execute_result",
          "execution_count": 44,
          "data": {
            "text/plain": "array([0, 0, 0, 0, 0, 0, 3, 0, 3, 3, 3, 3, 3, 3, 3, 0, 0, 0, 0, 0, 0, 3,\n       3, 0, 3, 3, 0, 0, 3, 0, 3, 0, 0, 3, 3, 0, 0, 0, 0, 0, 0, 0, 0, 0,\n       0, 3, 0, 0, 0, 0, 0, 0, 0, 0, 3, 3, 0, 0, 0, 0, 0, 0, 0, 0, 0, 0,\n       3, 3, 0, 0, 3, 0, 0, 0, 0, 0, 0, 0, 0, 3, 3, 0, 0, 3, 0, 0, 0, 0,\n       0, 0, 0, 0, 3, 0, 0, 0, 0, 0, 0, 0, 0, 0, 0, 0, 0, 0, 0, 0, 0, 0,\n       0, 0, 0, 0, 0, 0, 0, 0, 0, 0, 0, 0, 0, 0, 0, 3, 0, 0, 0, 0, 3, 3,\n       0, 0, 3, 0, 3, 0, 3, 0, 3, 3, 3, 3, 0, 3, 0, 3, 3, 0, 0, 3, 3, 3,\n       3, 3, 3, 3, 3, 3, 3, 0, 3, 3, 0, 3, 3, 3, 3, 0, 0, 3, 3, 3, 0, 0,\n       3, 3, 0, 3, 3, 3, 0, 3, 3, 3, 3, 3, 3, 3, 3, 3, 0, 3, 3, 3, 3, 3,\n       3, 3, 3, 3, 0, 0, 0, 3, 0, 3, 3, 3, 2, 2, 2, 2, 2, 2, 2, 2, 2, 2,\n       2, 2, 4, 2, 2, 2, 2, 2, 2, 2, 2, 2, 2, 2, 2, 2, 2, 2, 2, 2, 2, 2,\n       2, 2, 2, 2, 2, 2, 2, 2, 2, 2, 2, 2, 2, 2, 2, 2, 2, 2, 2, 2, 2, 4,\n       2, 2, 2, 2, 2, 2, 2, 2, 2, 2, 2, 2, 2, 4, 4, 4, 2, 2, 2, 4, 2, 2,\n       2, 4, 2, 2, 2, 2, 2, 2, 2, 2, 2, 2, 2, 2, 2, 4, 4, 2, 2, 2, 2, 2,\n       2, 2, 2, 2, 2, 2, 2, 2, 2, 2, 2, 2, 2, 2, 2, 2, 2, 2, 2, 2, 2, 2,\n       2, 2, 2, 2, 1, 1, 1, 1, 1, 2, 2, 1, 2, 2, 1, 1, 1, 1, 2, 2, 1, 4,\n       1, 1, 2, 2, 2, 4, 2, 2, 1, 2, 2, 1, 2, 2, 2, 2, 1, 1, 2, 2, 1, 2,\n       1, 1, 1, 1, 2, 4, 1, 1, 1, 1, 1, 2, 2, 2, 2, 2, 2, 1, 1, 1, 1, 1,\n       1, 1, 1, 1, 1, 4, 1, 1, 1, 1, 1, 1, 1, 1, 4, 4, 1, 1, 1, 1, 1, 1,\n       1, 1, 1, 1, 1, 1, 1, 1, 1, 1, 1, 1, 1, 1, 1, 1, 1, 1, 4],\n      dtype=int32)"
          },
          "metadata": {}
        }
      ]
    },
    {
      "cell_type": "code",
      "metadata": {
        "cell_id": "1a0a765dc0044e119c6c609f4ada00ae",
        "tags": [],
        "deepnote_to_be_reexecuted": false,
        "source_hash": "3aa45c9b",
        "execution_start": 1656166068396,
        "execution_millis": 22,
        "deepnote_cell_type": "code",
        "deepnote_cell_height": 81,
        "id": "_e44MhXj2m7c"
      },
      "source": [
        "data['cluster'] = kmeans.labels_"
      ],
      "execution_count": null,
      "outputs": []
    },
    {
      "cell_type": "code",
      "metadata": {
        "cell_id": "ca0e39bd845b4fae9b9d492209dce397",
        "tags": [],
        "deepnote_to_be_reexecuted": false,
        "source_hash": "41313cfa",
        "execution_start": 1656166068431,
        "execution_millis": 5,
        "deepnote_cell_type": "code",
        "deepnote_cell_height": 412,
        "id": "mKqio_hi2m7d",
        "outputId": "544a3b43-9bac-4b2c-8d31-8cec2b5eb58b"
      },
      "source": [
        "data.head()"
      ],
      "execution_count": null,
      "outputs": [
        {
          "output_type": "execute_result",
          "execution_count": 46,
          "data": {
            "application/vnd.deepnote.dataframe.v3+json": {
              "column_count": 6,
              "row_count": 5,
              "columns": [
                {
                  "name": "Category",
                  "dtype": "float64",
                  "stats": {
                    "unique_count": 2,
                    "nan_count": 0,
                    "min": "0.0",
                    "max": "0.2",
                    "histogram": [
                      {
                        "bin_start": 0,
                        "bin_end": 0.02,
                        "count": 2
                      },
                      {
                        "bin_start": 0.02,
                        "bin_end": 0.04,
                        "count": 0
                      },
                      {
                        "bin_start": 0.04,
                        "bin_end": 0.06,
                        "count": 0
                      },
                      {
                        "bin_start": 0.06,
                        "bin_end": 0.08,
                        "count": 0
                      },
                      {
                        "bin_start": 0.08,
                        "bin_end": 0.1,
                        "count": 0
                      },
                      {
                        "bin_start": 0.1,
                        "bin_end": 0.12,
                        "count": 0
                      },
                      {
                        "bin_start": 0.12,
                        "bin_end": 0.14,
                        "count": 0
                      },
                      {
                        "bin_start": 0.14,
                        "bin_end": 0.16,
                        "count": 0
                      },
                      {
                        "bin_start": 0.16,
                        "bin_end": 0.18,
                        "count": 0
                      },
                      {
                        "bin_start": 0.18,
                        "bin_end": 0.2,
                        "count": 3
                      }
                    ]
                  }
                },
                {
                  "name": "City",
                  "dtype": "float64",
                  "stats": {
                    "unique_count": 1,
                    "nan_count": 0,
                    "min": "0.0",
                    "max": "0.0",
                    "histogram": [
                      {
                        "bin_start": -0.5,
                        "bin_end": -0.4,
                        "count": 0
                      },
                      {
                        "bin_start": -0.4,
                        "bin_end": -0.3,
                        "count": 0
                      },
                      {
                        "bin_start": -0.3,
                        "bin_end": -0.19999999999999996,
                        "count": 0
                      },
                      {
                        "bin_start": -0.19999999999999996,
                        "bin_end": -0.09999999999999998,
                        "count": 0
                      },
                      {
                        "bin_start": -0.09999999999999998,
                        "bin_end": 0,
                        "count": 0
                      },
                      {
                        "bin_start": 0,
                        "bin_end": 0.10000000000000009,
                        "count": 5
                      },
                      {
                        "bin_start": 0.10000000000000009,
                        "bin_end": 0.20000000000000007,
                        "count": 0
                      },
                      {
                        "bin_start": 0.20000000000000007,
                        "bin_end": 0.30000000000000004,
                        "count": 0
                      },
                      {
                        "bin_start": 0.30000000000000004,
                        "bin_end": 0.4,
                        "count": 0
                      },
                      {
                        "bin_start": 0.4,
                        "bin_end": 0.5,
                        "count": 0
                      }
                    ]
                  }
                },
                {
                  "name": "Price",
                  "dtype": "float64",
                  "stats": {
                    "unique_count": 5,
                    "nan_count": 0,
                    "min": "0.010011123470522803",
                    "max": "0.2992213570634038",
                    "histogram": [
                      {
                        "bin_start": 0.010011123470522803,
                        "bin_end": 0.0389321468298109,
                        "count": 2
                      },
                      {
                        "bin_start": 0.0389321468298109,
                        "bin_end": 0.067853170189099,
                        "count": 0
                      },
                      {
                        "bin_start": 0.067853170189099,
                        "bin_end": 0.0967741935483871,
                        "count": 1
                      },
                      {
                        "bin_start": 0.0967741935483871,
                        "bin_end": 0.1256952169076752,
                        "count": 1
                      },
                      {
                        "bin_start": 0.1256952169076752,
                        "bin_end": 0.1546162402669633,
                        "count": 0
                      },
                      {
                        "bin_start": 0.1546162402669633,
                        "bin_end": 0.1835372636262514,
                        "count": 0
                      },
                      {
                        "bin_start": 0.1835372636262514,
                        "bin_end": 0.2124582869855395,
                        "count": 0
                      },
                      {
                        "bin_start": 0.2124582869855395,
                        "bin_end": 0.2413793103448276,
                        "count": 0
                      },
                      {
                        "bin_start": 0.2413793103448276,
                        "bin_end": 0.2703003337041157,
                        "count": 0
                      },
                      {
                        "bin_start": 0.2703003337041157,
                        "bin_end": 0.2992213570634038,
                        "count": 1
                      }
                    ]
                  }
                },
                {
                  "name": "Rating",
                  "dtype": "float64",
                  "stats": {
                    "unique_count": 2,
                    "nan_count": 0,
                    "min": "0.6875",
                    "max": "0.75",
                    "histogram": [
                      {
                        "bin_start": 0.6875,
                        "bin_end": 0.69375,
                        "count": 2
                      },
                      {
                        "bin_start": 0.69375,
                        "bin_end": 0.7,
                        "count": 0
                      },
                      {
                        "bin_start": 0.7,
                        "bin_end": 0.70625,
                        "count": 0
                      },
                      {
                        "bin_start": 0.70625,
                        "bin_end": 0.7125,
                        "count": 0
                      },
                      {
                        "bin_start": 0.7125,
                        "bin_end": 0.71875,
                        "count": 0
                      },
                      {
                        "bin_start": 0.71875,
                        "bin_end": 0.725,
                        "count": 0
                      },
                      {
                        "bin_start": 0.725,
                        "bin_end": 0.73125,
                        "count": 0
                      },
                      {
                        "bin_start": 0.73125,
                        "bin_end": 0.7375,
                        "count": 0
                      },
                      {
                        "bin_start": 0.7375,
                        "bin_end": 0.74375,
                        "count": 0
                      },
                      {
                        "bin_start": 0.74375,
                        "bin_end": 0.75,
                        "count": 3
                      }
                    ]
                  }
                },
                {
                  "name": "Time_Minutes",
                  "dtype": "float64",
                  "stats": {
                    "unique_count": 5,
                    "nan_count": 0,
                    "min": "0.014285714285714287",
                    "max": "0.9999999999999999",
                    "histogram": [
                      {
                        "bin_start": 0.014285714285714287,
                        "bin_end": 0.11285714285714285,
                        "count": 1
                      },
                      {
                        "bin_start": 0.11285714285714285,
                        "bin_end": 0.2114285714285714,
                        "count": 1
                      },
                      {
                        "bin_start": 0.2114285714285714,
                        "bin_end": 0.31,
                        "count": 2
                      },
                      {
                        "bin_start": 0.31,
                        "bin_end": 0.40857142857142853,
                        "count": 0
                      },
                      {
                        "bin_start": 0.40857142857142853,
                        "bin_end": 0.507142857142857,
                        "count": 0
                      },
                      {
                        "bin_start": 0.507142857142857,
                        "bin_end": 0.6057142857142856,
                        "count": 0
                      },
                      {
                        "bin_start": 0.6057142857142856,
                        "bin_end": 0.7042857142857142,
                        "count": 0
                      },
                      {
                        "bin_start": 0.7042857142857142,
                        "bin_end": 0.8028571428571427,
                        "count": 0
                      },
                      {
                        "bin_start": 0.8028571428571427,
                        "bin_end": 0.9014285714285712,
                        "count": 0
                      },
                      {
                        "bin_start": 0.9014285714285712,
                        "bin_end": 0.9999999999999999,
                        "count": 1
                      }
                    ]
                  }
                },
                {
                  "name": "cluster",
                  "dtype": "int32",
                  "stats": {
                    "unique_count": 1,
                    "nan_count": 0,
                    "min": "0",
                    "max": "0",
                    "histogram": [
                      {
                        "bin_start": -0.5,
                        "bin_end": -0.4,
                        "count": 0
                      },
                      {
                        "bin_start": -0.4,
                        "bin_end": -0.3,
                        "count": 0
                      },
                      {
                        "bin_start": -0.3,
                        "bin_end": -0.19999999999999996,
                        "count": 0
                      },
                      {
                        "bin_start": -0.19999999999999996,
                        "bin_end": -0.09999999999999998,
                        "count": 0
                      },
                      {
                        "bin_start": -0.09999999999999998,
                        "bin_end": 0,
                        "count": 0
                      },
                      {
                        "bin_start": 0,
                        "bin_end": 0.10000000000000009,
                        "count": 5
                      },
                      {
                        "bin_start": 0.10000000000000009,
                        "bin_end": 0.20000000000000007,
                        "count": 0
                      },
                      {
                        "bin_start": 0.20000000000000007,
                        "bin_end": 0.30000000000000004,
                        "count": 0
                      },
                      {
                        "bin_start": 0.30000000000000004,
                        "bin_end": 0.4,
                        "count": 0
                      },
                      {
                        "bin_start": 0.4,
                        "bin_end": 0.5,
                        "count": 0
                      }
                    ]
                  }
                },
                {
                  "name": "_deepnote_index_column",
                  "dtype": "int64"
                }
              ],
              "rows": [
                {
                  "Category": 0,
                  "City": 0,
                  "Price": 0.021134593993325918,
                  "Rating": 0.75,
                  "Time_Minutes": 0.014285714285714287,
                  "cluster": 0,
                  "_deepnote_index_column": 0
                },
                {
                  "Category": 0,
                  "City": 0,
                  "Price": 0.07998220244716353,
                  "Rating": 0.75,
                  "Time_Minutes": 0.22857142857142854,
                  "cluster": 0,
                  "_deepnote_index_column": 1
                },
                {
                  "Category": 0.2,
                  "City": 0,
                  "Price": 0.2992213570634038,
                  "Rating": 0.75,
                  "Time_Minutes": 0.9999999999999999,
                  "cluster": 0,
                  "_deepnote_index_column": 2
                },
                {
                  "Category": 0.2,
                  "City": 0,
                  "Price": 0.010011123470522803,
                  "Rating": 0.6875,
                  "Time_Minutes": 0.2542857142857143,
                  "cluster": 0,
                  "_deepnote_index_column": 3
                },
                {
                  "Category": 0.2,
                  "City": 0,
                  "Price": 0.10344827586206898,
                  "Rating": 0.6875,
                  "Time_Minutes": 0.14285714285714285,
                  "cluster": 0,
                  "_deepnote_index_column": 4
                }
              ]
            },
            "text/plain": "   Category  City     Price  Rating  Time_Minutes  cluster\n0       0.0   0.0  0.021135  0.7500      0.014286        0\n1       0.0   0.0  0.079982  0.7500      0.228571        0\n2       0.2   0.0  0.299221  0.7500      1.000000        0\n3       0.2   0.0  0.010011  0.6875      0.254286        0\n4       0.2   0.0  0.103448  0.6875      0.142857        0",
            "text/html": "<div>\n<style scoped>\n    .dataframe tbody tr th:only-of-type {\n        vertical-align: middle;\n    }\n\n    .dataframe tbody tr th {\n        vertical-align: top;\n    }\n\n    .dataframe thead th {\n        text-align: right;\n    }\n</style>\n<table border=\"1\" class=\"dataframe\">\n  <thead>\n    <tr style=\"text-align: right;\">\n      <th></th>\n      <th>Category</th>\n      <th>City</th>\n      <th>Price</th>\n      <th>Rating</th>\n      <th>Time_Minutes</th>\n      <th>cluster</th>\n    </tr>\n  </thead>\n  <tbody>\n    <tr>\n      <th>0</th>\n      <td>0.0</td>\n      <td>0.0</td>\n      <td>0.021135</td>\n      <td>0.7500</td>\n      <td>0.014286</td>\n      <td>0</td>\n    </tr>\n    <tr>\n      <th>1</th>\n      <td>0.0</td>\n      <td>0.0</td>\n      <td>0.079982</td>\n      <td>0.7500</td>\n      <td>0.228571</td>\n      <td>0</td>\n    </tr>\n    <tr>\n      <th>2</th>\n      <td>0.2</td>\n      <td>0.0</td>\n      <td>0.299221</td>\n      <td>0.7500</td>\n      <td>1.000000</td>\n      <td>0</td>\n    </tr>\n    <tr>\n      <th>3</th>\n      <td>0.2</td>\n      <td>0.0</td>\n      <td>0.010011</td>\n      <td>0.6875</td>\n      <td>0.254286</td>\n      <td>0</td>\n    </tr>\n    <tr>\n      <th>4</th>\n      <td>0.2</td>\n      <td>0.0</td>\n      <td>0.103448</td>\n      <td>0.6875</td>\n      <td>0.142857</td>\n      <td>0</td>\n    </tr>\n  </tbody>\n</table>\n</div>"
          },
          "metadata": {}
        }
      ]
    },
    {
      "cell_type": "code",
      "metadata": {
        "cell_id": "a117ae0352ae4140ba84c6c38ee43597",
        "tags": [],
        "deepnote_to_be_reexecuted": false,
        "source_hash": "e27beb3e",
        "execution_start": 1656166068483,
        "execution_millis": 0,
        "deepnote_cell_type": "code",
        "deepnote_cell_height": 81,
        "id": "OAtAiRIg2m7d"
      },
      "source": [
        "data_copy['cluster'] = kmeans.labels_"
      ],
      "execution_count": null,
      "outputs": []
    },
    {
      "cell_type": "code",
      "metadata": {
        "cell_id": "a4289d56b978408c9d9f564c19cb8ad2",
        "tags": [],
        "deepnote_to_be_reexecuted": false,
        "source_hash": "f6ec3eab",
        "execution_start": 1656166068484,
        "execution_millis": 3,
        "deepnote_table_state": {
          "pageSize": 10,
          "pageIndex": 1,
          "filters": [],
          "sortBy": []
        },
        "deepnote_table_loading": false,
        "deepnote_cell_type": "code",
        "deepnote_cell_height": 617,
        "id": "BkjhlNNv2m7e",
        "outputId": "00d3b74b-732b-491e-8674-44200577c9f5"
      },
      "source": [
        "data_copy"
      ],
      "execution_count": null,
      "outputs": [
        {
          "output_type": "execute_result",
          "execution_count": 48,
          "data": {
            "application/vnd.deepnote.dataframe.v3+json": {
              "column_count": 6,
              "row_count": 437,
              "columns": [
                {
                  "name": "Category",
                  "dtype": "int64",
                  "stats": {
                    "unique_count": 6,
                    "nan_count": 0,
                    "min": "1",
                    "max": "6",
                    "histogram": [
                      {
                        "bin_start": 1,
                        "bin_end": 1.5,
                        "count": 117
                      },
                      {
                        "bin_start": 1.5,
                        "bin_end": 2,
                        "count": 0
                      },
                      {
                        "bin_start": 2,
                        "bin_end": 2.5,
                        "count": 135
                      },
                      {
                        "bin_start": 2.5,
                        "bin_end": 3,
                        "count": 0
                      },
                      {
                        "bin_start": 3,
                        "bin_end": 3.5,
                        "count": 106
                      },
                      {
                        "bin_start": 3.5,
                        "bin_end": 4,
                        "count": 0
                      },
                      {
                        "bin_start": 4,
                        "bin_end": 4.5,
                        "count": 47
                      },
                      {
                        "bin_start": 4.5,
                        "bin_end": 5,
                        "count": 0
                      },
                      {
                        "bin_start": 5,
                        "bin_end": 5.5,
                        "count": 15
                      },
                      {
                        "bin_start": 5.5,
                        "bin_end": 6,
                        "count": 17
                      }
                    ]
                  }
                },
                {
                  "name": "City",
                  "dtype": "int64",
                  "stats": {
                    "unique_count": 5,
                    "nan_count": 0,
                    "min": "1",
                    "max": "5",
                    "histogram": [
                      {
                        "bin_start": 1,
                        "bin_end": 1.4,
                        "count": 84
                      },
                      {
                        "bin_start": 1.4,
                        "bin_end": 1.8,
                        "count": 0
                      },
                      {
                        "bin_start": 1.8,
                        "bin_end": 2.2,
                        "count": 126
                      },
                      {
                        "bin_start": 2.2,
                        "bin_end": 2.6,
                        "count": 0
                      },
                      {
                        "bin_start": 2.6,
                        "bin_end": 3,
                        "count": 0
                      },
                      {
                        "bin_start": 3,
                        "bin_end": 3.4000000000000004,
                        "count": 124
                      },
                      {
                        "bin_start": 3.4000000000000004,
                        "bin_end": 3.8000000000000003,
                        "count": 0
                      },
                      {
                        "bin_start": 3.8000000000000003,
                        "bin_end": 4.2,
                        "count": 57
                      },
                      {
                        "bin_start": 4.2,
                        "bin_end": 4.6,
                        "count": 0
                      },
                      {
                        "bin_start": 4.6,
                        "bin_end": 5,
                        "count": 46
                      }
                    ]
                  }
                },
                {
                  "name": "Price",
                  "dtype": "float64",
                  "stats": {
                    "unique_count": 54,
                    "nan_count": 0,
                    "min": "1000.0",
                    "max": "900000.0",
                    "histogram": [
                      {
                        "bin_start": 1000,
                        "bin_end": 90900,
                        "count": 408
                      },
                      {
                        "bin_start": 90900,
                        "bin_end": 180800,
                        "count": 17
                      },
                      {
                        "bin_start": 180800,
                        "bin_end": 270700,
                        "count": 7
                      },
                      {
                        "bin_start": 270700,
                        "bin_end": 360600,
                        "count": 2
                      },
                      {
                        "bin_start": 360600,
                        "bin_end": 450500,
                        "count": 1
                      },
                      {
                        "bin_start": 450500,
                        "bin_end": 540400,
                        "count": 1
                      },
                      {
                        "bin_start": 540400,
                        "bin_end": 630300,
                        "count": 0
                      },
                      {
                        "bin_start": 630300,
                        "bin_end": 720200,
                        "count": 0
                      },
                      {
                        "bin_start": 720200,
                        "bin_end": 810100,
                        "count": 0
                      },
                      {
                        "bin_start": 810100,
                        "bin_end": 900000,
                        "count": 1
                      }
                    ]
                  }
                },
                {
                  "name": "Rating",
                  "dtype": "float64",
                  "stats": {
                    "unique_count": 14,
                    "nan_count": 0,
                    "min": "3.4",
                    "max": "5.0",
                    "histogram": [
                      {
                        "bin_start": 3.4,
                        "bin_end": 3.56,
                        "count": 1
                      },
                      {
                        "bin_start": 3.56,
                        "bin_end": 3.7199999999999998,
                        "count": 0
                      },
                      {
                        "bin_start": 3.7199999999999998,
                        "bin_end": 3.88,
                        "count": 2
                      },
                      {
                        "bin_start": 3.88,
                        "bin_end": 4.04,
                        "count": 21
                      },
                      {
                        "bin_start": 4.04,
                        "bin_end": 4.2,
                        "count": 20
                      },
                      {
                        "bin_start": 4.2,
                        "bin_end": 4.359999999999999,
                        "count": 67
                      },
                      {
                        "bin_start": 4.359999999999999,
                        "bin_end": 4.52,
                        "count": 196
                      },
                      {
                        "bin_start": 4.52,
                        "bin_end": 4.68,
                        "count": 75
                      },
                      {
                        "bin_start": 4.68,
                        "bin_end": 4.84,
                        "count": 47
                      },
                      {
                        "bin_start": 4.84,
                        "bin_end": 5,
                        "count": 8
                      }
                    ]
                  }
                },
                {
                  "name": "Time_Minutes",
                  "dtype": "float64",
                  "stats": {
                    "unique_count": 20,
                    "nan_count": 0,
                    "min": "10.0",
                    "max": "360.0",
                    "histogram": [
                      {
                        "bin_start": 10,
                        "bin_end": 45,
                        "count": 34
                      },
                      {
                        "bin_start": 45,
                        "bin_end": 80,
                        "count": 184
                      },
                      {
                        "bin_start": 80,
                        "bin_end": 115,
                        "count": 164
                      },
                      {
                        "bin_start": 115,
                        "bin_end": 150,
                        "count": 28
                      },
                      {
                        "bin_start": 150,
                        "bin_end": 185,
                        "count": 21
                      },
                      {
                        "bin_start": 185,
                        "bin_end": 220,
                        "count": 2
                      },
                      {
                        "bin_start": 220,
                        "bin_end": 255,
                        "count": 2
                      },
                      {
                        "bin_start": 255,
                        "bin_end": 290,
                        "count": 0
                      },
                      {
                        "bin_start": 290,
                        "bin_end": 325,
                        "count": 1
                      },
                      {
                        "bin_start": 325,
                        "bin_end": 360,
                        "count": 1
                      }
                    ]
                  }
                },
                {
                  "name": "cluster",
                  "dtype": "int32",
                  "stats": {
                    "unique_count": 5,
                    "nan_count": 0,
                    "min": "0",
                    "max": "4",
                    "histogram": [
                      {
                        "bin_start": 0,
                        "bin_end": 0.4,
                        "count": 125
                      },
                      {
                        "bin_start": 0.4,
                        "bin_end": 0.8,
                        "count": 0
                      },
                      {
                        "bin_start": 0.8,
                        "bin_end": 1.2000000000000002,
                        "count": 69
                      },
                      {
                        "bin_start": 1.2000000000000002,
                        "bin_end": 1.6,
                        "count": 0
                      },
                      {
                        "bin_start": 1.6,
                        "bin_end": 2,
                        "count": 0
                      },
                      {
                        "bin_start": 2,
                        "bin_end": 2.4000000000000004,
                        "count": 142
                      },
                      {
                        "bin_start": 2.4000000000000004,
                        "bin_end": 2.8000000000000003,
                        "count": 0
                      },
                      {
                        "bin_start": 2.8000000000000003,
                        "bin_end": 3.2,
                        "count": 85
                      },
                      {
                        "bin_start": 3.2,
                        "bin_end": 3.6,
                        "count": 0
                      },
                      {
                        "bin_start": 3.6,
                        "bin_end": 4,
                        "count": 16
                      }
                    ]
                  }
                },
                {
                  "name": "_deepnote_index_column",
                  "dtype": "int64"
                }
              ],
              "rows": [
                {
                  "Category": 4,
                  "City": 1,
                  "Price": 5000,
                  "Rating": 4.6,
                  "Time_Minutes": 99,
                  "cluster": 3,
                  "_deepnote_index_column": 10
                },
                {
                  "Category": 4,
                  "City": 1,
                  "Price": 150000,
                  "Rating": 4,
                  "Time_Minutes": 99,
                  "cluster": 3,
                  "_deepnote_index_column": 11
                },
                {
                  "Category": 4,
                  "City": 1,
                  "Price": 5000,
                  "Rating": 4.2,
                  "Time_Minutes": 99,
                  "cluster": 3,
                  "_deepnote_index_column": 12
                },
                {
                  "Category": 4,
                  "City": 1,
                  "Price": 900000,
                  "Rating": 4.8,
                  "Time_Minutes": 99,
                  "cluster": 3,
                  "_deepnote_index_column": 13
                },
                {
                  "Category": 5,
                  "City": 1,
                  "Price": 72904,
                  "Rating": 4.4,
                  "Time_Minutes": 90,
                  "cluster": 3,
                  "_deepnote_index_column": 14
                },
                {
                  "Category": 1,
                  "City": 1,
                  "Price": 72904,
                  "Rating": 4.3,
                  "Time_Minutes": 99,
                  "cluster": 0,
                  "_deepnote_index_column": 15
                },
                {
                  "Category": 1,
                  "City": 1,
                  "Price": 5000,
                  "Rating": 4.4,
                  "Time_Minutes": 99,
                  "cluster": 0,
                  "_deepnote_index_column": 16
                },
                {
                  "Category": 1,
                  "City": 1,
                  "Price": 2000,
                  "Rating": 4.7,
                  "Time_Minutes": 99,
                  "cluster": 0,
                  "_deepnote_index_column": 17
                },
                {
                  "Category": 2,
                  "City": 1,
                  "Price": 185000,
                  "Rating": 4.6,
                  "Time_Minutes": 300,
                  "cluster": 0,
                  "_deepnote_index_column": 18
                },
                {
                  "Category": 1,
                  "City": 1,
                  "Price": 2000,
                  "Rating": 4.5,
                  "Time_Minutes": 90,
                  "cluster": 0,
                  "_deepnote_index_column": 19
                }
              ]
            },
            "text/plain": "     Category  City     Price  Rating  Time_Minutes  cluster\n0           1     1   20000.0     4.6          15.0        0\n1           1     1   72904.0     4.6          90.0        0\n2           2     1  270000.0     4.6         360.0        0\n3           2     1   10000.0     4.5          99.0        0\n4           2     1   94000.0     4.5          60.0        0\n..        ...   ...       ...     ...           ...      ...\n432         1     5    2000.0     4.4          45.0        1\n433         2     5   27588.0     4.6          52.0        1\n434         2     5   27588.0     4.4          45.0        1\n435         2     5   27588.0     4.6          52.0        1\n436         6     5   10000.0     4.8          52.0        4\n\n[437 rows x 6 columns]",
            "text/html": "<div>\n<style scoped>\n    .dataframe tbody tr th:only-of-type {\n        vertical-align: middle;\n    }\n\n    .dataframe tbody tr th {\n        vertical-align: top;\n    }\n\n    .dataframe thead th {\n        text-align: right;\n    }\n</style>\n<table border=\"1\" class=\"dataframe\">\n  <thead>\n    <tr style=\"text-align: right;\">\n      <th></th>\n      <th>Category</th>\n      <th>City</th>\n      <th>Price</th>\n      <th>Rating</th>\n      <th>Time_Minutes</th>\n      <th>cluster</th>\n    </tr>\n  </thead>\n  <tbody>\n    <tr>\n      <th>0</th>\n      <td>1</td>\n      <td>1</td>\n      <td>20000.0</td>\n      <td>4.6</td>\n      <td>15.0</td>\n      <td>0</td>\n    </tr>\n    <tr>\n      <th>1</th>\n      <td>1</td>\n      <td>1</td>\n      <td>72904.0</td>\n      <td>4.6</td>\n      <td>90.0</td>\n      <td>0</td>\n    </tr>\n    <tr>\n      <th>2</th>\n      <td>2</td>\n      <td>1</td>\n      <td>270000.0</td>\n      <td>4.6</td>\n      <td>360.0</td>\n      <td>0</td>\n    </tr>\n    <tr>\n      <th>3</th>\n      <td>2</td>\n      <td>1</td>\n      <td>10000.0</td>\n      <td>4.5</td>\n      <td>99.0</td>\n      <td>0</td>\n    </tr>\n    <tr>\n      <th>4</th>\n      <td>2</td>\n      <td>1</td>\n      <td>94000.0</td>\n      <td>4.5</td>\n      <td>60.0</td>\n      <td>0</td>\n    </tr>\n    <tr>\n      <th>...</th>\n      <td>...</td>\n      <td>...</td>\n      <td>...</td>\n      <td>...</td>\n      <td>...</td>\n      <td>...</td>\n    </tr>\n    <tr>\n      <th>432</th>\n      <td>1</td>\n      <td>5</td>\n      <td>2000.0</td>\n      <td>4.4</td>\n      <td>45.0</td>\n      <td>1</td>\n    </tr>\n    <tr>\n      <th>433</th>\n      <td>2</td>\n      <td>5</td>\n      <td>27588.0</td>\n      <td>4.6</td>\n      <td>52.0</td>\n      <td>1</td>\n    </tr>\n    <tr>\n      <th>434</th>\n      <td>2</td>\n      <td>5</td>\n      <td>27588.0</td>\n      <td>4.4</td>\n      <td>45.0</td>\n      <td>1</td>\n    </tr>\n    <tr>\n      <th>435</th>\n      <td>2</td>\n      <td>5</td>\n      <td>27588.0</td>\n      <td>4.6</td>\n      <td>52.0</td>\n      <td>1</td>\n    </tr>\n    <tr>\n      <th>436</th>\n      <td>6</td>\n      <td>5</td>\n      <td>10000.0</td>\n      <td>4.8</td>\n      <td>52.0</td>\n      <td>4</td>\n    </tr>\n  </tbody>\n</table>\n<p>437 rows × 6 columns</p>\n</div>"
          },
          "metadata": {}
        }
      ]
    },
    {
      "cell_type": "code",
      "metadata": {
        "cell_id": "105caeb811604ba58e68c7efb2b000ac",
        "tags": [],
        "deepnote_to_be_reexecuted": false,
        "source_hash": "5b072377",
        "execution_start": 1656166068539,
        "execution_millis": 340,
        "deepnote_cell_type": "code",
        "deepnote_cell_height": 646.375,
        "deepnote_output_heights": [
          null,
          389
        ],
        "id": "CAWlUGqP2m7e",
        "outputId": "49a0af31-c57b-44d8-cd41-d03e7c046fc4"
      },
      "source": [
        "import seaborn as sns\n",
        "plt.figure(figsize=(10, 6))\n",
        "sns.scatterplot(data_copy['Category'], data_copy['City'], hue=data_copy['cluster'],\n",
        "                palette=sns.color_palette('hls', 5))\n",
        "plt.title('KMeans with 5 Clusters')\n",
        "plt.show()"
      ],
      "execution_count": null,
      "outputs": [
        {
          "name": "stderr",
          "text": "/shared-libs/python3.7/py/lib/python3.7/site-packages/seaborn/_decorators.py:43: FutureWarning: Pass the following variables as keyword args: x, y. From version 0.12, the only valid positional argument will be `data`, and passing other arguments without an explicit keyword will result in an error or misinterpretation.\n  FutureWarning\n",
          "output_type": "stream"
        },
        {
          "data": {
            "text/plain": "<Figure size 720x432 with 1 Axes>",
            "image/png": "[encoded data removed]"
          },
          "metadata": {
            "needs_background": "light",
            "image/png": {
              "width": 609,
              "height": 387
            }
          },
          "output_type": "display_data"
        }
      ]
    },
    {
      "cell_type": "code",
      "metadata": {
        "cell_id": "3bada2dbaaf24e14aa42ffb074bdc0bf",
        "tags": [],
        "deepnote_to_be_reexecuted": false,
        "source_hash": "fa7a8e6c",
        "execution_start": 1656166068883,
        "execution_millis": 862,
        "deepnote_cell_type": "code",
        "deepnote_cell_height": 664.375,
        "deepnote_output_heights": [
          null,
          389
        ],
        "id": "7HekTpAD2m7f",
        "outputId": "38fcc79d-bd6c-464b-b8cd-52c761cf3783"
      },
      "source": [
        "plt.figure(figsize=(10, 6))\n",
        "sns.scatterplot(data_copy['Price'], data_copy['Rating'], hue=data_copy['cluster'],\n",
        "                palette=sns.color_palette('hls', 5))\n",
        "plt.title('KMeans with 5 Clusters')\n",
        "plt.xlim((0, 200000))\n",
        "plt.ylim((3.8, 5))\n",
        "plt.show()"
      ],
      "execution_count": null,
      "outputs": [
        {
          "name": "stderr",
          "text": "/shared-libs/python3.7/py/lib/python3.7/site-packages/seaborn/_decorators.py:43: FutureWarning: Pass the following variables as keyword args: x, y. From version 0.12, the only valid positional argument will be `data`, and passing other arguments without an explicit keyword will result in an error or misinterpretation.\n  FutureWarning\n",
          "output_type": "stream"
        },
        {
          "data": {
            "text/plain": "<Figure size 720x432 with 1 Axes>",
            "image/png": "[encoded data removed]"
          },
          "metadata": {
            "needs_background": "light",
            "image/png": {
              "width": 628,
              "height": 387
            }
          },
          "output_type": "display_data"
        }
      ]
    },
    {
      "cell_type": "code",
      "metadata": {
        "cell_id": "16b91dcc7d99409c94ecfe1274556d69",
        "tags": [],
        "deepnote_to_be_reexecuted": false,
        "source_hash": "2e6e235d",
        "execution_start": 1656166069254,
        "execution_millis": 495,
        "deepnote_cell_type": "code",
        "deepnote_cell_height": 629.375,
        "deepnote_output_heights": [
          null,
          390
        ],
        "id": "9_F-zCrQ2m7g",
        "outputId": "4bc97523-4488-4f90-aba5-251571b2e93c"
      },
      "source": [
        "plt.figure(figsize=(10, 6))\n",
        "sns.scatterplot(data_copy['Time_Minutes'], data_copy['City'], hue=data_copy['cluster'],\n",
        "                palette=sns.color_palette('hls', 5))\n",
        "plt.title('KMeans with 5 Clusters')\n",
        "plt.show()"
      ],
      "execution_count": null,
      "outputs": [
        {
          "name": "stderr",
          "text": "/shared-libs/python3.7/py/lib/python3.7/site-packages/seaborn/_decorators.py:43: FutureWarning: Pass the following variables as keyword args: x, y. From version 0.12, the only valid positional argument will be `data`, and passing other arguments without an explicit keyword will result in an error or misinterpretation.\n  FutureWarning\n",
          "output_type": "stream"
        },
        {
          "data": {
            "text/plain": "<Figure size 720x432 with 1 Axes>",
            "image/png": "[encoded data removed]"
          },
          "metadata": {
            "needs_background": "light",
            "image/png": {
              "width": 609,
              "height": 388
            }
          },
          "output_type": "display_data"
        }
      ]
    },
    {
      "cell_type": "markdown",
      "source": [
        "Dalam Proses Clustering didapatkan 5 Cluster yaitu Cluster 0,1,2,3, dan 4.  "
      ],
      "metadata": {
        "formattedRanges": [],
        "cell_id": "ce1d424559ce4910b50a152066a50706",
        "tags": [],
        "is_collapsed": false,
        "deepnote_cell_type": "text-cell-p",
        "id": "JTQ6ffb02m7h"
      }
    },
    {
      "cell_type": "markdown",
      "source": [
        "Cluster 0 City nya adalah Bandung, Semarang dengan Category  Budaya, Taman Hiburan, Cagar Alam, Bahari yang Price nya 0k sampai 75k dan Rating= 3.8 sampai 4,8 serta Time Minutes antara 50 sampai 200."
      ],
      "metadata": {
        "formattedRanges": [],
        "cell_id": "36b27b029bd54c4bb4d35ba8c41d44d8",
        "tags": [],
        "is_collapsed": false,
        "deepnote_cell_type": "text-cell-p",
        "id": "NvTrgWJQ2m7h"
      }
    },
    {
      "cell_type": "markdown",
      "source": [
        "Cluster 1 City nya adalah Jakarta dan Yogyakarta dengan Category  Cagar Alam, Bahari, Pusat Perbelanjaan yang Price nya 25k sampai 75k dan Rating= 4.0 sampai 4,7 serta Time Minutes antara 25 sampai 200."
      ],
      "metadata": {
        "formattedRanges": [],
        "cell_id": "62441a93f7d24e49bea5b06e36de0ea2",
        "tags": [],
        "is_collapsed": false,
        "deepnote_cell_type": "text-cell-p",
        "id": "5wPI7DCG2m7i"
      }
    },
    {
      "cell_type": "markdown",
      "source": [
        "Cluster 2 City nya adalah Semarang, Surabaya dengan Category  Budaya, Taman Hiburan, Cagar Alam, Bahari yang Price nya 0k sampai 50k dan Rating= 4.1 sampai 4,7 serta Time Minutes antara 25 sampai 200.\n"
      ],
      "metadata": {
        "formattedRanges": [],
        "cell_id": "2dad5e49358e40d89db72cae3010e447",
        "tags": [],
        "is_collapsed": false,
        "deepnote_cell_type": "text-cell-p",
        "id": "WfMsIp8M2m7i"
      }
    },
    {
      "cell_type": "markdown",
      "source": [
        "Cluster 3 City nya adalah Jakarta dan Yogyakarta dengan Category  Cagar Alam, Bahari, Pusat Pembelanjaan yang Price nya 25k sampai 75k dan Rating= 4.0 sampai 4,7 serta Time Minutes antara 25 sampai 150."
      ],
      "metadata": {
        "formattedRanges": [],
        "cell_id": "17b95b2e05b742d0a1cc77a5db6065a3",
        "tags": [],
        "is_collapsed": false,
        "deepnote_cell_type": "text-cell-p",
        "id": "fDZv_A132m7i"
      }
    },
    {
      "cell_type": "markdown",
      "source": [
        "Cluster 4 City nya adalah Semarang, Surabaya dengan Category  Pusat Perbelanjaan, Tempat Ibadah yang Price nya 0k sampai 40k dan Rating= 4.1 sampai 4,9 serta Time Minutes antara 0 sampai 50.\n"
      ],
      "metadata": {
        "formattedRanges": [],
        "cell_id": "9d2a38fb9e474ad5a75f96fdbe9ad0dc",
        "tags": [],
        "is_collapsed": false,
        "deepnote_cell_type": "text-cell-p",
        "id": "7hdXBlHi2m7j"
      }
    },
    {
      "cell_type": "markdown",
      "source": [
        "## Menyiapkan data"
      ],
      "metadata": {
        "formattedRanges": [],
        "cell_id": "2ea1e321dee84e71958da3560301e56e",
        "tags": [],
        "is_collapsed": false,
        "deepnote_cell_type": "text-cell-h2",
        "id": "BeJKAKje2m7j"
      }
    },
    {
      "cell_type": "markdown",
      "source": [
        "Membagi data latih dan data uji"
      ],
      "metadata": {
        "formattedRanges": [],
        "cell_id": "d2cf372cf6cc4bf89cf656e83a30ea27",
        "tags": [],
        "is_collapsed": false,
        "deepnote_cell_type": "text-cell-p",
        "id": "YxFfmC5o2m7j"
      }
    },
    {
      "cell_type": "code",
      "metadata": {
        "cell_id": "6effc158aded4fb0bef78031a9ec8ee8",
        "tags": [],
        "deepnote_to_be_reexecuted": false,
        "source_hash": "24014b88",
        "execution_start": 1656166069726,
        "execution_millis": 24,
        "deepnote_cell_type": "code",
        "deepnote_cell_height": 81,
        "id": "KjsJvraq2m7k"
      },
      "source": [
        "data_latih, data_uji = train_test_split(data, test_size=0.2)"
      ],
      "execution_count": null,
      "outputs": []
    },
    {
      "cell_type": "code",
      "metadata": {
        "cell_id": "bb618faa1bd14788b813b8e987be83b5",
        "tags": [],
        "deepnote_to_be_reexecuted": false,
        "source_hash": "fb86718e",
        "execution_start": 1656166069758,
        "execution_millis": 11,
        "deepnote_cell_type": "code",
        "deepnote_cell_height": 150.375,
        "id": "ZofiBUXA2m7k",
        "outputId": "a6c99fb9-8190-401d-c42d-5283f8111106"
      },
      "source": [
        "print(data_latih.shape[0])\n",
        "print(data_uji.shape[0])"
      ],
      "execution_count": null,
      "outputs": [
        {
          "name": "stdout",
          "text": "349\n88\n",
          "output_type": "stream"
        }
      ]
    },
    {
      "cell_type": "code",
      "metadata": {
        "cell_id": "168b581591824543a754fa8dd952d124",
        "tags": [],
        "deepnote_to_be_reexecuted": false,
        "source_hash": "c83797d",
        "execution_start": 1656166069760,
        "execution_millis": 1,
        "deepnote_cell_type": "code",
        "deepnote_cell_height": 81,
        "id": "J_6NHLt42m7l"
      },
      "source": [
        "label_uji = data_uji.pop('cluster')"
      ],
      "execution_count": null,
      "outputs": []
    },
    {
      "cell_type": "markdown",
      "source": [
        "## Mencari Hyperparameter"
      ],
      "metadata": {
        "formattedRanges": [],
        "cell_id": "22e8552e47204a40bf6484a37708acbf",
        "tags": [],
        "is_collapsed": false,
        "deepnote_cell_type": "text-cell-h2",
        "id": "k9G2KBc32m7l"
      }
    },
    {
      "cell_type": "markdown",
      "source": [
        "* Melakukan Train-Test Split (Misal 80% Training Data - 20% Testing Data)\n",
        "* Gunakan Training data untuk membuat k-Fold\n",
        "  * Disarankan 5-cross fold Validation\n",
        "  * Jika data > 1000 baris bisa menggunakan 10-cross validation\n",
        "  * Nilai parameter terbaik ditentukan dari nilai rata-rata n-fold\n",
        "* Training kembali 80% training data dengan menggunakan hyperparam terbaik yang didapatkan dari tahapan sebelumnya\n",
        "* Ujikan model dengan 20% testing data\n"
      ],
      "metadata": {
        "cell_id": "47c174b5b59a4c39877c137af9cdf7c3",
        "tags": [],
        "deepnote_cell_type": "markdown",
        "deepnote_cell_height": 255.125,
        "id": "Heh1Nc4W2m7m"
      }
    },
    {
      "cell_type": "markdown",
      "source": [
        "Menggunakan&nbsp;Grid&nbsp;Search&nbsp;CV&nbsp;untuk&nbsp;melakukan&nbsp;cross&nbsp;validation&nbsp;dan&nbsp;mencari&nbsp;Hyperparameter&nbsp;terbaik"
      ],
      "metadata": {
        "formattedRanges": [],
        "cell_id": "4f034da2b25242e288fd6e6424b1c6f7",
        "tags": [],
        "is_collapsed": false,
        "deepnote_cell_type": "text-cell-p",
        "id": "2E-fmSi52m7n"
      }
    },
    {
      "cell_type": "code",
      "metadata": {
        "cell_id": "29a8a2c9301d47ae8741fc69b85c3c0d",
        "tags": [],
        "deepnote_to_be_reexecuted": false,
        "source_hash": "156edd41",
        "execution_start": 1656166069761,
        "execution_millis": 3,
        "deepnote_cell_type": "code",
        "deepnote_cell_height": 117,
        "id": "pKHnjoXX2m7o"
      },
      "source": [
        "grid_models = [(GaussianNB(),[{'var_smoothing': [1e-09]}]),\n",
        "               (KNeighborsClassifier(), [{'n_neighbors': [3,5,7], 'weights': ['uniform', 'distance'], 'metric': ['euclidean', 'manhattan', 'minkowski']}])\n",
        "               ]"
      ],
      "execution_count": null,
      "outputs": []
    },
    {
      "cell_type": "code",
      "metadata": {
        "cell_id": "884db4ebb15c414e99fa7628e7cc1512",
        "tags": [],
        "deepnote_to_be_reexecuted": false,
        "source_hash": "4636b8ab",
        "execution_start": 1656166069765,
        "execution_millis": 0,
        "deepnote_cell_type": "code",
        "deepnote_cell_height": 153,
        "id": "Xu_qrxEr2m7p"
      },
      "source": [
        "n_column = len(data_latih.columns)-1\n",
        "data_latih_array = data_latih.values\n",
        "X = data_latih_array[:, 0:n_column] #data\n",
        "y = data_latih_array[:, n_column] #label\n",
        "X_train, X_validation, y_train, y_validation = train_test_split(X, y, test_size=0.2, random_state=1, shuffle=True)"
      ],
      "execution_count": null,
      "outputs": []
    },
    {
      "cell_type": "code",
      "metadata": {
        "cell_id": "3a6000ac52954420a67ccaeec314dc13",
        "tags": [],
        "deepnote_to_be_reexecuted": false,
        "source_hash": "95ab4cee",
        "execution_start": 1656166069769,
        "execution_millis": 330,
        "deepnote_cell_type": "code",
        "deepnote_cell_height": 863,
        "id": "AbLluBHK2m7p",
        "outputId": "a8129156-693a-45d9-e728-71e6cd6b7af6"
      },
      "source": [
        "for i,j in grid_models:\n",
        "    grid = GridSearchCV(estimator=i,param_grid = j, scoring = 'accuracy',cv=5, verbose=2)\n",
        "    grid.fit(X_train, y_train)\n",
        "    best_accuracy = grid.best_score_\n",
        "    best_param = grid.best_params_\n",
        "    print('{}:\\nBest Accuracy : {:.2f}%'.format(i,best_accuracy*100))\n",
        "    print('Hyperparameter terbaik : ',best_param)\n",
        "    print('')\n",
        "    print('----------------')\n",
        "    print('')"
      ],
      "execution_count": null,
      "outputs": [
        {
          "name": "stdout",
          "text": "Fitting 5 folds for each of 1 candidates, totalling 5 fits\n[CV] END ................................var_smoothing=1e-09; total time=   0.0s\n[CV] END ................................var_smoothing=1e-09; total time=   0.0s\n[CV] END ................................var_smoothing=1e-09; total time=   0.0s\n[CV] END ................................var_smoothing=1e-09; total time=   0.0s\n[CV] END ................................var_smoothing=1e-09; total time=   0.0s\nGaussianNB():\nBest Accuracy : 95.34%\nHyperparameter terbaik :  {'var_smoothing': 1e-09}\n\n----------------\n\nFitting 5 folds for each of 18 candidates, totalling 90 fits\n[CV] END ...metric=euclidean, n_neighbors=3, weights=uniform; total time=   0.0s\n[CV] END ...metric=euclidean, n_neighbors=3, weights=uniform; total time=   0.0s\n[CV] END ...metric=euclidean, n_neighbors=3, weights=uniform; total time=   0.0s\n[CV] END ...metric=euclidean, n_neighbors=3, weights=uniform; total time=   0.0s\n[CV] END ...metric=euclidean, n_neighbors=3, weights=uniform; total time=   0.0s\n[CV] END ..metric=euclidean, n_neighbors=3, weights=distance; total time=   0.0s\n[CV] END ..metric=euclidean, n_neighbors=3, weights=distance; total time=   0.0s\n[CV] END ..metric=euclidean, n_neighbors=3, weights=distance; total time=   0.0s\n[CV] END ..metric=euclidean, n_neighbors=3, weights=distance; total time=   0.0s\n[CV] END ..metric=euclidean, n_neighbors=3, weights=distance; total time=   0.0s\n[CV] END ...metric=euclidean, n_neighbors=5, weights=uniform; total time=   0.0s\n[CV] END ...metric=euclidean, n_neighbors=5, weights=uniform; total time=   0.0s\n[CV] END ...metric=euclidean, n_neighbors=5, weights=uniform; total time=   0.0s\n[CV] END ...metric=euclidean, n_neighbors=5, weights=uniform; total time=   0.0s\n[CV] END ...metric=euclidean, n_neighbors=5, weights=uniform; total time=   0.0s\n[CV] END ..metric=euclidean, n_neighbors=5, weights=distance; total time=   0.0s\n[CV] END ..metric=euclidean, n_neighbors=5, weights=distance; total time=   0.0s\n[CV] END ..metric=euclidean, n_neighbors=5, weights=distance; total time=   0.0s\n[CV] END ..metric=euclidean, n_neighbors=5, weights=distance; total time=   0.0s\n[CV] END ..metric=euclidean, n_neighbors=5, weights=distance; total time=   0.0s\n[CV] END ...metric=euclidean, n_neighbors=7, weights=uniform; total time=   0.0s\n[CV] END ...metric=euclidean, n_neighbors=7, weights=uniform; total time=   0.0s\n[CV] END ...metric=euclidean, n_neighbors=7, weights=uniform; total time=   0.0s\n[CV] END ...metric=euclidean, n_neighbors=7, weights=uniform; total time=   0.0s\n[CV] END ...metric=euclidean, n_neighbors=7, weights=uniform; total time=   0.0s\n[CV] END ..metric=euclidean, n_neighbors=7, weights=distance; total time=   0.0s\n[CV] END ..metric=euclidean, n_neighbors=7, weights=distance; total time=   0.0s\n[CV] END ..metric=euclidean, n_neighbors=7, weights=distance; total time=   0.0s\n[CV] END ..metric=euclidean, n_neighbors=7, weights=distance; total time=   0.0s\n[CV] END ..metric=euclidean, n_neighbors=7, weights=distance; total time=   0.0s\n[CV] END ...metric=manhattan, n_neighbors=3, weights=uniform; total time=   0.0s\n[CV] END ...metric=manhattan, n_neighbors=3, weights=uniform; total time=   0.0s\n[CV] END ...metric=manhattan, n_neighbors=3, weights=uniform; total time=   0.0s\n[CV] END ...metric=manhattan, n_neighbors=3, weights=uniform; total time=   0.0s\n[CV] END ...metric=manhattan, n_neighbors=3, weights=uniform; total time=   0.0s\n[CV] END ..metric=manhattan, n_neighbors=3, weights=distance; total time=   0.0s\n[CV] END ..metric=manhattan, n_neighbors=3, weights=distance; total time=   0.0s\n[CV] END ..metric=manhattan, n_neighbors=3, weights=distance; total time=   0.0s\n[CV] END ..metric=manhattan, n_neighbors=3, weights=distance; total time=   0.0s\n[CV] END ..metric=manhattan, n_neighbors=3, weights=distance; total time=   0.0s\n[CV] END ...metric=manhattan, n_neighbors=5, weights=uniform; total time=   0.0s\n[CV] END ...metric=manhattan, n_neighbors=5, weights=uniform; total time=   0.0s\n[CV] END ...metric=manhattan, n_neighbors=5, weights=uniform; total time=   0.0s\n[CV] END ...metric=manhattan, n_neighbors=5, weights=uniform; total time=   0.0s\n[CV] END ...metric=manhattan, n_neighbors=5, weights=uniform; total time=   0.0s\n[CV] END ..metric=manhattan, n_neighbors=5, weights=distance; total time=   0.0s\n[CV] END ..metric=manhattan, n_neighbors=5, weights=distance; total time=   0.0s\n[CV] END ..metric=manhattan, n_neighbors=5, weights=distance; total time=   0.0s\n[CV] END ..metric=manhattan, n_neighbors=5, weights=distance; total time=   0.0s\n[CV] END ..metric=manhattan, n_neighbors=5, weights=distance; total time=   0.0s\n[CV] END ...metric=manhattan, n_neighbors=7, weights=uniform; total time=   0.0s\n[CV] END ...metric=manhattan, n_neighbors=7, weights=uniform; total time=   0.0s\n[CV] END ...metric=manhattan, n_neighbors=7, weights=uniform; total time=   0.0s\n[CV] END ...metric=manhattan, n_neighbors=7, weights=uniform; total time=   0.0s\n[CV] END ...metric=manhattan, n_neighbors=7, weights=uniform; total time=   0.0s\n[CV] END ..metric=manhattan, n_neighbors=7, weights=distance; total time=   0.0s\n[CV] END ..metric=manhattan, n_neighbors=7, weights=distance; total time=   0.0s\n[CV] END ..metric=manhattan, n_neighbors=7, weights=distance; total time=   0.0s\n[CV] END ..metric=manhattan, n_neighbors=7, weights=distance; total time=   0.0s\n[CV] END ..metric=manhattan, n_neighbors=7, weights=distance; total time=   0.0s\n[CV] END ...metric=minkowski, n_neighbors=3, weights=uniform; total time=   0.0s\n[CV] END ...metric=minkowski, n_neighbors=3, weights=uniform; total time=   0.0s\n[CV] END ...metric=minkowski, n_neighbors=3, weights=uniform; total time=   0.0s\n[CV] END ...metric=minkowski, n_neighbors=3, weights=uniform; total time=   0.0s\n[CV] END ...metric=minkowski, n_neighbors=3, weights=uniform; total time=   0.0s\n[CV] END ..metric=minkowski, n_neighbors=3, weights=distance; total time=   0.0s\n[CV] END ..metric=minkowski, n_neighbors=3, weights=distance; total time=   0.0s\n[CV] END ..metric=minkowski, n_neighbors=3, weights=distance; total time=   0.0s\n[CV] END ..metric=minkowski, n_neighbors=3, weights=distance; total time=   0.0s\n[CV] END ..metric=minkowski, n_neighbors=3, weights=distance; total time=   0.0s\n[CV] END ...metric=minkowski, n_neighbors=5, weights=uniform; total time=   0.0s\n[CV] END ...metric=minkowski, n_neighbors=5, weights=uniform; total time=   0.0s\n[CV] END ...metric=minkowski, n_neighbors=5, weights=uniform; total time=   0.0s\n[CV] END ...metric=minkowski, n_neighbors=5, weights=uniform; total time=   0.0s\n[CV] END ...metric=minkowski, n_neighbors=5, weights=uniform; total time=   0.0s\n[CV] END ..metric=minkowski, n_neighbors=5, weights=distance; total time=   0.0s\n[CV] END ..metric=minkowski, n_neighbors=5, weights=distance; total time=   0.0s\n[CV] END ..metric=minkowski, n_neighbors=5, weights=distance; total time=   0.0s\n[CV] END ..metric=minkowski, n_neighbors=5, weights=distance; total time=   0.0s\n[CV] END ..metric=minkowski, n_neighbors=5, weights=distance; total time=   0.0s\n[CV] END ...metric=minkowski, n_neighbors=7, weights=uniform; total time=   0.0s\n[CV] END ...metric=minkowski, n_neighbors=7, weights=uniform; total time=   0.0s\n[CV] END ...metric=minkowski, n_neighbors=7, weights=uniform; total time=   0.0s\n[CV] END ...metric=minkowski, n_neighbors=7, weights=uniform; total time=   0.0s\n[CV] END ...metric=minkowski, n_neighbors=7, weights=uniform; total time=   0.0s\n[CV] END ..metric=minkowski, n_neighbors=7, weights=distance; total time=   0.0s\n[CV] END ..metric=minkowski, n_neighbors=7, weights=distance; total time=   0.0s\n[CV] END ..metric=minkowski, n_neighbors=7, weights=distance; total time=   0.0s\n[CV] END ..metric=minkowski, n_neighbors=7, weights=distance; total time=   0.0s\n[CV] END ..metric=minkowski, n_neighbors=7, weights=distance; total time=   0.0s\nKNeighborsClassifier():\nBest Accuracy : 99.64%\nHyperparameter terbaik :  {'metric': 'euclidean', 'n_neighbors': 5, 'weights': 'distance'}\n\n----------------\n\n",
          "output_type": "stream"
        }
      ]
    },
    {
      "cell_type": "markdown",
      "source": [
        "## Training menggunakan 2 Model"
      ],
      "metadata": {
        "formattedRanges": [],
        "cell_id": "085f2dc9d5b448ee9cc67dcedc041a7e",
        "tags": [],
        "is_collapsed": false,
        "deepnote_cell_type": "text-cell-h2",
        "id": "GQ3T4pOf2m7q"
      }
    },
    {
      "cell_type": "markdown",
      "source": [
        "### Naive Bayes Gaussian"
      ],
      "metadata": {
        "formattedRanges": [],
        "cell_id": "46dde9ba587e48a68cee4054767f96cb",
        "tags": [],
        "is_collapsed": false,
        "deepnote_cell_type": "text-cell-h3",
        "id": "gUrg-Ljc2m7q"
      }
    },
    {
      "cell_type": "code",
      "metadata": {
        "cell_id": "cd103334af27418ea4763c469b364019",
        "tags": [],
        "deepnote_to_be_reexecuted": false,
        "source_hash": "2154c4bc",
        "execution_start": 1656166070104,
        "execution_millis": 6,
        "deepnote_cell_type": "code",
        "deepnote_cell_height": 117,
        "id": "sqnSgB5F2m7r"
      },
      "source": [
        "NBclassifier = GaussianNB(var_smoothing= 1e-09)\n",
        "NBclassifier.fit(X_train, y_train)\n",
        "y_predNB = NBclassifier.predict(X_validation)"
      ],
      "execution_count": null,
      "outputs": []
    },
    {
      "cell_type": "code",
      "metadata": {
        "cell_id": "7bde79af62cb4f63b67ee6482bff8ef8",
        "tags": [],
        "deepnote_to_be_reexecuted": false,
        "source_hash": "a34ed239",
        "execution_start": 1656166070159,
        "execution_millis": 2,
        "deepnote_cell_type": "code",
        "deepnote_cell_height": 352.25,
        "id": "LphpvkoX2m7r",
        "outputId": "b5cff496-abf0-4750-93aa-85d1e2c607ff"
      },
      "source": [
        "cm_NB = confusion_matrix(y_validation, y_predNB)\n",
        "print(classification_report(y_validation, y_predNB))"
      ],
      "execution_count": null,
      "outputs": [
        {
          "name": "stdout",
          "text": "              precision    recall  f1-score   support\n\n         0.0       0.93      1.00      0.96        26\n         1.0       0.75      1.00      0.86         9\n         2.0       1.00      0.86      0.92        21\n         3.0       1.00      0.83      0.91        12\n         4.0       1.00      1.00      1.00         2\n\n    accuracy                           0.93        70\n   macro avg       0.94      0.94      0.93        70\nweighted avg       0.94      0.93      0.93        70\n\n",
          "output_type": "stream"
        }
      ]
    },
    {
      "cell_type": "code",
      "source": [
        "plt.hist((y_validation, y_predNB), bins=10)\n",
        "plt.xlabel(\"Topik Faktual\")\n",
        "plt.ylabel(\"Topik Predicted\")\n",
        "plt.show()"
      ],
      "metadata": {
        "cell_id": "8696e47c84f046f992c7ce40ff154260",
        "tags": [],
        "deepnote_to_be_reexecuted": false,
        "source_hash": "c149f890",
        "execution_start": 1656166070160,
        "execution_millis": 225,
        "deepnote_cell_type": "code",
        "deepnote_cell_height": 415,
        "deepnote_output_heights": [
          264
        ],
        "id": "Dmyck2qh2m7s",
        "outputId": "e42ac2f5-75b6-4116-df6a-497dab6d8f0e"
      },
      "outputs": [
        {
          "data": {
            "text/plain": "<Figure size 432x288 with 1 Axes>",
            "image/png": "[encoded data removed]"
          },
          "metadata": {
            "needs_background": "light",
            "image/png": {
              "width": 382,
              "height": 262
            }
          },
          "output_type": "display_data"
        }
      ],
      "execution_count": null
    },
    {
      "cell_type": "markdown",
      "source": [
        "### KNN"
      ],
      "metadata": {
        "formattedRanges": [],
        "cell_id": "8ea514ed497e4862adeafda3b8bdc421",
        "tags": [],
        "is_collapsed": false,
        "deepnote_cell_type": "text-cell-h3",
        "id": "qriaRBVJ2m7t"
      }
    },
    {
      "cell_type": "code",
      "metadata": {
        "cell_id": "15c53f62253848dcb6e9fdf8bebd94cf",
        "tags": [],
        "deepnote_to_be_reexecuted": false,
        "source_hash": "400d783a",
        "execution_start": 1656166070383,
        "execution_millis": 0,
        "deepnote_cell_type": "code",
        "deepnote_cell_height": 117,
        "id": "e4U7z8I82m7t"
      },
      "source": [
        "KNNclassifier = KNeighborsClassifier(metric= 'manhattan', n_neighbors= 5, weights= 'distance')\n",
        "KNNclassifier.fit(X_train, y_train)\n",
        "y_predKNN = KNNclassifier.predict(X_validation)"
      ],
      "execution_count": null,
      "outputs": []
    },
    {
      "cell_type": "code",
      "metadata": {
        "cell_id": "1f1410619a08401580cf923e426453f2",
        "tags": [],
        "deepnote_to_be_reexecuted": false,
        "source_hash": "98b55b81",
        "execution_start": 1656166070383,
        "execution_millis": 3,
        "deepnote_cell_type": "code",
        "deepnote_cell_height": 352.25,
        "id": "JIRaZEkX2m7u",
        "outputId": "6e54d1d6-cc1d-433a-fcf0-91a582c1d3d4"
      },
      "source": [
        "cm_KNN = confusion_matrix(y_validation, y_predKNN)\n",
        "print(classification_report(y_validation, y_predKNN))"
      ],
      "execution_count": null,
      "outputs": [
        {
          "name": "stdout",
          "text": "              precision    recall  f1-score   support\n\n         0.0       1.00      1.00      1.00        26\n         1.0       1.00      1.00      1.00         9\n         2.0       1.00      1.00      1.00        21\n         3.0       1.00      1.00      1.00        12\n         4.0       1.00      1.00      1.00         2\n\n    accuracy                           1.00        70\n   macro avg       1.00      1.00      1.00        70\nweighted avg       1.00      1.00      1.00        70\n\n",
          "output_type": "stream"
        }
      ]
    },
    {
      "cell_type": "code",
      "source": [
        "plt.hist((y_validation, y_predKNN), bins=10)\n",
        "plt.xlabel(\"Topik Faktual\")\n",
        "plt.ylabel(\"Topik Predicted\")\n",
        "plt.show()"
      ],
      "metadata": {
        "cell_id": "68c39f6d42ea4854a2d2b89028ba447b",
        "tags": [],
        "deepnote_to_be_reexecuted": false,
        "source_hash": "c3e34e19",
        "execution_start": 1656166070384,
        "execution_millis": 222,
        "deepnote_cell_type": "code",
        "deepnote_cell_height": 415,
        "deepnote_output_heights": [
          264
        ],
        "id": "LXf2-I4t2m7v",
        "outputId": "a241c0b7-5877-4125-bb57-9cfb1eec161d"
      },
      "outputs": [
        {
          "data": {
            "text/plain": "<Figure size 432x288 with 1 Axes>",
            "image/png": "[encoded data removed]"
          },
          "metadata": {
            "needs_background": "light",
            "image/png": {
              "width": 382,
              "height": 262
            }
          },
          "output_type": "display_data"
        }
      ],
      "execution_count": null
    },
    {
      "cell_type": "markdown",
      "source": [
        "## Testing menggunakan 2 Model"
      ],
      "metadata": {
        "formattedRanges": [],
        "cell_id": "a50d222334ba4b9fbc5cec4d7d1e8d55",
        "tags": [],
        "is_collapsed": false,
        "deepnote_cell_type": "text-cell-h2",
        "id": "KW5_0Joj2m7v"
      }
    },
    {
      "cell_type": "markdown",
      "source": [
        "Memisahkan data uji dengan label uji"
      ],
      "metadata": {
        "formattedRanges": [],
        "cell_id": "0e4e82c9f35a4832b8ac4402d806e471",
        "tags": [],
        "is_collapsed": false,
        "deepnote_cell_type": "text-cell-p",
        "id": "iCIvz7H-2m7w"
      }
    },
    {
      "cell_type": "code",
      "metadata": {
        "cell_id": "54c1baf9dd854055a91284e7ae395829",
        "tags": [],
        "deepnote_to_be_reexecuted": false,
        "source_hash": "c4e0e2a6",
        "execution_start": 1656166070644,
        "execution_millis": 0,
        "deepnote_cell_type": "code",
        "deepnote_cell_height": 135,
        "id": "pWcCkiny2m7w"
      },
      "source": [
        "n_column = len(data_latih.columns)-1\n",
        "data_latih_array = data_latih.values\n",
        "A = data_latih_array[:, 0:n_column] #data\n",
        "b = data_latih_array[:, n_column] #label"
      ],
      "execution_count": null,
      "outputs": []
    },
    {
      "cell_type": "markdown",
      "source": [
        "### Naive Bayes Gaussian"
      ],
      "metadata": {
        "formattedRanges": [],
        "cell_id": "9b549a91a50f4e8d8e81b4a0974c2948",
        "tags": [],
        "is_collapsed": false,
        "deepnote_cell_type": "text-cell-h3",
        "id": "1X7qrjOm2m7x"
      }
    },
    {
      "cell_type": "code",
      "metadata": {
        "cell_id": "3632fff068e54faea38f6deb7da02562",
        "tags": [],
        "deepnote_to_be_reexecuted": false,
        "source_hash": "e69b441a",
        "execution_start": 1656166070645,
        "execution_millis": 0,
        "deepnote_cell_type": "code",
        "deepnote_cell_height": 81,
        "id": "PMyN9rB22m7x"
      },
      "source": [
        "testing_y_predNB = NBclassifier.predict(A)"
      ],
      "execution_count": null,
      "outputs": []
    },
    {
      "cell_type": "code",
      "metadata": {
        "cell_id": "23a236fc4b274437a6e1118515a6f182",
        "tags": [],
        "deepnote_to_be_reexecuted": false,
        "source_hash": "d280a824",
        "execution_start": 1656166070645,
        "execution_millis": 3,
        "deepnote_cell_type": "code",
        "deepnote_cell_height": 334.25,
        "id": "n7EE5il12m7x",
        "outputId": "534ac7a5-63fb-4c99-c163-887cd6bcffaa"
      },
      "source": [
        "print(classification_report(b, testing_y_predNB))"
      ],
      "execution_count": null,
      "outputs": [
        {
          "name": "stdout",
          "text": "              precision    recall  f1-score   support\n\n         0.0       0.96      1.00      0.98       102\n         1.0       0.85      0.98      0.91        57\n         2.0       0.98      0.90      0.94       115\n         3.0       0.98      0.95      0.97        66\n         4.0       1.00      0.89      0.94         9\n\n    accuracy                           0.95       349\n   macro avg       0.96      0.94      0.95       349\nweighted avg       0.95      0.95      0.95       349\n\n",
          "output_type": "stream"
        }
      ]
    },
    {
      "cell_type": "code",
      "metadata": {
        "cell_id": "2cd3fa43c2774cddba64d5f130e02fbe",
        "tags": [],
        "deepnote_to_be_reexecuted": false,
        "source_hash": "e9a6d35a",
        "execution_start": 1656166070647,
        "execution_millis": 0,
        "deepnote_cell_type": "code",
        "deepnote_cell_height": 130.1875,
        "id": "N1IxApIw2m7y",
        "outputId": "1356f39c-f102-494d-be71-c25c2dc1fed3"
      },
      "source": [
        "akurasi_NB = accuracy_score(b, testing_y_predNB)*100\n",
        "print(akurasi_NB)"
      ],
      "execution_count": null,
      "outputs": [
        {
          "name": "stdout",
          "text": "95.12893982808023\n",
          "output_type": "stream"
        }
      ]
    },
    {
      "cell_type": "code",
      "source": [
        "plt.hist((b, testing_y_predNB), bins=10)\n",
        "plt.xlabel(\"Topik Faktual\")\n",
        "plt.ylabel(\"Topik Predicted\")\n",
        "plt.show()"
      ],
      "metadata": {
        "cell_id": "7c43afb9a65847eb8768c5d4062a96c9",
        "tags": [],
        "deepnote_to_be_reexecuted": false,
        "source_hash": "322e7765",
        "execution_start": 1656166070695,
        "execution_millis": 238,
        "deepnote_cell_type": "code",
        "deepnote_cell_height": 418,
        "deepnote_output_heights": [
          267
        ],
        "id": "j-d_nn-N2m7z",
        "outputId": "e66ab4ac-5241-43ea-99d7-6b88776941f6"
      },
      "outputs": [
        {
          "data": {
            "text/plain": "<Figure size 432x288 with 1 Axes>",
            "image/png": "[encoded data removed]"
          },
          "metadata": {
            "needs_background": "light",
            "image/png": {
              "width": 389,
              "height": 265
            }
          },
          "output_type": "display_data"
        }
      ],
      "execution_count": null
    },
    {
      "cell_type": "markdown",
      "source": [
        "### KNN"
      ],
      "metadata": {
        "formattedRanges": [],
        "cell_id": "38f38cb638b84535bca60b14b3f757ba",
        "tags": [],
        "is_collapsed": false,
        "deepnote_cell_type": "text-cell-h3",
        "id": "b-w-7zgH2m70"
      }
    },
    {
      "cell_type": "code",
      "metadata": {
        "cell_id": "6c6948d59afa4099aeb7f043f560d818",
        "tags": [],
        "deepnote_to_be_reexecuted": false,
        "source_hash": "d5f3bcd4",
        "execution_start": 1656166070928,
        "execution_millis": 1,
        "deepnote_cell_type": "code",
        "deepnote_cell_height": 81,
        "id": "Wimv7q6i2m71"
      },
      "source": [
        "testing_y_predKNN = KNNclassifier.predict(A)"
      ],
      "execution_count": null,
      "outputs": []
    },
    {
      "cell_type": "code",
      "metadata": {
        "cell_id": "57af58d01bfa4186858fb9d51fc81b99",
        "tags": [],
        "deepnote_to_be_reexecuted": false,
        "source_hash": "9469ee24",
        "execution_start": 1656166070929,
        "execution_millis": 6,
        "deepnote_cell_type": "code",
        "deepnote_cell_height": 334.25,
        "id": "0mIvL4GU2m74",
        "outputId": "e005077e-9acf-4e40-86f0-abbf43323728"
      },
      "source": [
        "print(classification_report(b, testing_y_predKNN))"
      ],
      "execution_count": null,
      "outputs": [
        {
          "name": "stdout",
          "text": "              precision    recall  f1-score   support\n\n         0.0       1.00      1.00      1.00       102\n         1.0       1.00      1.00      1.00        57\n         2.0       1.00      1.00      1.00       115\n         3.0       1.00      1.00      1.00        66\n         4.0       1.00      1.00      1.00         9\n\n    accuracy                           1.00       349\n   macro avg       1.00      1.00      1.00       349\nweighted avg       1.00      1.00      1.00       349\n\n",
          "output_type": "stream"
        }
      ]
    },
    {
      "cell_type": "code",
      "metadata": {
        "cell_id": "98274e035912472ca073c76b466876fe",
        "tags": [],
        "deepnote_to_be_reexecuted": false,
        "source_hash": "493552b6",
        "execution_start": 1656166070937,
        "execution_millis": 4,
        "deepnote_cell_type": "code",
        "deepnote_cell_height": 130.1875,
        "id": "ytykbA5T2m76",
        "outputId": "170c9b3d-9aca-4f58-964a-89d75e8f1533"
      },
      "source": [
        "akurasi_KNN = accuracy_score(b, testing_y_predKNN)*100\n",
        "print(akurasi_KNN)"
      ],
      "execution_count": null,
      "outputs": [
        {
          "name": "stdout",
          "text": "100.0\n",
          "output_type": "stream"
        }
      ]
    },
    {
      "cell_type": "code",
      "source": [
        "plt.hist((b, testing_y_predKNN), bins=10)\n",
        "plt.xlabel(\"Topik Faktual\")\n",
        "plt.ylabel(\"Topik Predicted\")\n",
        "plt.show()"
      ],
      "metadata": {
        "cell_id": "073a1442ca6e4fb9954185d89b688b00",
        "tags": [],
        "deepnote_to_be_reexecuted": false,
        "source_hash": "d99f1cd4",
        "execution_start": 1656166070991,
        "execution_millis": 227,
        "deepnote_cell_type": "code",
        "deepnote_cell_height": 418,
        "deepnote_output_heights": [
          267
        ],
        "id": "iyBBVm3q2m7-",
        "outputId": "d43184a9-1a6e-41ce-ab11-c4e450dfa2d8"
      },
      "outputs": [
        {
          "data": {
            "text/plain": "<Figure size 432x288 with 1 Axes>",
            "image/png": "[encoded data removed]"
          },
          "metadata": {
            "needs_background": "light",
            "image/png": {
              "width": 389,
              "height": 265
            }
          },
          "output_type": "display_data"
        }
      ],
      "execution_count": null
    },
    {
      "cell_type": "markdown",
      "source": [
        "## Perbandingan Hasil Uji Model Naive Bayes dan KNN"
      ],
      "metadata": {
        "formattedRanges": [],
        "cell_id": "b90c8f43df6043b6b60047bcbf271fe3",
        "tags": [],
        "is_collapsed": false,
        "deepnote_cell_type": "text-cell-h2",
        "id": "KiXhRvp-2m8A"
      }
    },
    {
      "cell_type": "code",
      "metadata": {
        "cell_id": "4f74f1e70e7c47c1b6243d50b3fe486d",
        "tags": [],
        "deepnote_to_be_reexecuted": false,
        "source_hash": "fba6e686",
        "execution_start": 1656166071216,
        "execution_millis": 168,
        "deepnote_cell_type": "code",
        "deepnote_cell_height": 644.1875,
        "deepnote_output_heights": [
          21.1875,
          351
        ],
        "id": "ML4Dk4qt2m8B",
        "outputId": "9e08ee1c-4897-4855-9428-75483f810970"
      },
      "source": [
        "fig = plt.figure()\n",
        "ax = fig.add_axes([1,1,1,1])\n",
        "model_name = ['Naive Bayes', 'KNN']\n",
        "akurasi = [akurasi_NB, akurasi_KNN]\n",
        "ax.bar(model_name, akurasi, color=['blue','red'], width=0.25)\n",
        "plt.xlabel('Nama Model')\n",
        "plt.ylabel('Hasil Akurasi')\n",
        "plt.ylim(10, 100)\n",
        "plt.title('Perbandingan Hasil Akurasi Naive Bayes vs KNN')"
      ],
      "execution_count": null,
      "outputs": [
        {
          "output_type": "execute_result",
          "execution_count": 73,
          "data": {
            "text/plain": "Text(0.5, 1.0, 'Perbandingan Hasil Akurasi Naive Bayes vs KNN')"
          },
          "metadata": {}
        },
        {
          "data": {
            "text/plain": "<Figure size 432x288 with 1 Axes>",
            "image/png": "[encoded data removed]"
          },
          "metadata": {
            "needs_background": "light",
            "image/png": {
              "width": 486,
              "height": 349
            }
          },
          "output_type": "display_data"
        }
      ]
    },
    {
      "cell_type": "markdown",
      "source": [
        "<a style='text-decoration:none;line-height:16px;display:flex;color:#5B5B62;padding:10px;justify-content:end;' href='https://deepnote.com?utm_source=created-in-deepnote-cell&projectId=a1e9023f-0fb6-4275-a3b6-3206b6dfe3fb' target=\"_blank\">\n",
        "<img alt='Created in deepnote.com' style='display:inline;max-height:16px;margin:0px;margin-right:7.5px;' src='data:image/svg+xml;base64,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' > </img>\n",
        "Created in <span style='font-weight:600;margin-left:4px;'>Deepnote</span></a>"
      ],
      "metadata": {
        "tags": [],
        "created_in_deepnote_cell": true,
        "deepnote_cell_type": "markdown",
        "id": "xnhdRY1s2m8C"
      }
    }
  ],
  "nbformat": 4,
  "nbformat_minor": 0,
  "metadata": {
    "colab": {
      "provenance": []
    },
    "kernelspec": {
      "display_name": "Python 3",
      "name": "python3"
    },
    "language_info": {
      "name": "python"
    },
    "deepnote_notebook_id": "89fecf2d-cde6-4166-97e0-de2d245f6c12",
    "deepnote": {},
    "deepnote_execution_queue": []
  }
}